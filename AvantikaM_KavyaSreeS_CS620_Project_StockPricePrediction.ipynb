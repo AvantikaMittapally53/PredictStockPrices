{
  "nbformat": 4,
  "nbformat_minor": 0,
  "metadata": {
    "colab": {
      "provenance": [],
      "authorship_tag": "ABX9TyON8OmjuGA5aBvctnDbt0f8",
      "include_colab_link": true
    },
    "kernelspec": {
      "name": "python3",
      "display_name": "Python 3"
    },
    "language_info": {
      "name": "python"
    }
  },
  "cells": [
    {
      "cell_type": "markdown",
      "metadata": {
        "id": "view-in-github",
        "colab_type": "text"
      },
      "source": [
        "<a href=\"https://colab.research.google.com/github/AvantikaMittapally53/PredictStockPrices/blob/main/AvantikaM_KavyaSreeS_CS620_Project_StockPricePrediction.ipynb\" target=\"_parent\"><img src=\"https://colab.research.google.com/assets/colab-badge.svg\" alt=\"Open In Colab\"/></a>"
      ]
    },
    {
      "cell_type": "markdown",
      "source": [
        "# Predict Stock Prices using NEWS  \n"
      ],
      "metadata": {
        "id": "fEnaVhLMVsFI"
      }
    },
    {
      "cell_type": "markdown",
      "source": [
        "##Team\n",
        "Avantika Mittapally (Email: amitt002@odu.edu, Web portfolio link: https://avantikamittapally.github.io/avantikam.github.io/ )\n",
        "\n",
        "Kavya Sree Satla (Email: ksatl001@odu.edu, Web portfolio link: https://satla98.github.io/Kavya-Sree/ )\n"
      ],
      "metadata": {
        "id": "TDv3NdLLg0oP"
      }
    },
    {
      "cell_type": "markdown",
      "source": [
        "## Abstract\n",
        "Investing in stocks is a risky business. So to balance this bond between stock\n",
        "and risk marketers always invest according to their expectations. These\n",
        "expectations are developed by using various techniques. In this we are going\n",
        "to build a model that uses real-time news data with historical stock prices\n",
        "including seasonal , holidays eﬀect. The major issue is to utilize or extract\n",
        "more relevant news data for better prediction. To resolve this we use real\n",
        "time news and then combine historical stock prices to build a better model\n",
        "to predict stock prices"
      ],
      "metadata": {
        "id": "ZH_erB1fhM9A"
      }
    },
    {
      "cell_type": "markdown",
      "source": [
        "## Data Source"
      ],
      "metadata": {
        "id": "xodraqeeh-GI"
      }
    },
    {
      "cell_type": "markdown",
      "source": [
        "Connect to twitter API using account credentials and capture real time tweets\n",
        "using Tweepy. We can capture recent 200 tweets according to our search keyword.\n"
      ],
      "metadata": {
        "id": "BkmDlZuEH1tj"
      }
    },
    {
      "cell_type": "code",
      "source": [
        "import tweepy\n",
        "import pandas as pd\n",
        "import numpy as np"
      ],
      "metadata": {
        "id": "UKirQuLLKtNB"
      },
      "execution_count": null,
      "outputs": []
    },
    {
      "cell_type": "code",
      "source": [
        "from IPython.display import display\n",
        "import matplotlib.pyplot as plt\n",
        "import seaborn as sns\n",
        "%matplotlib inline"
      ],
      "metadata": {
        "id": "DWnKCTYAKtbg"
      },
      "execution_count": null,
      "outputs": []
    },
    {
      "cell_type": "code",
      "source": [
        "consumer_key='y2gksQuNlStMW34wUy2dr5WHs'\n",
        "consumer_secret='DYr9NyneEN5uoyHuHeeOsUlLbzxUHardF7x4XwyYHl9OczDaJu'\n",
        "access_token='709011707914362881-09u0mX3jGMFSrbRSDd1Qbahd5zHCpZn'\n",
        "access_token_secret='lLbZBumL5TMC7hG9fMMlLPyVcrpLCkVyZPSrbyM2VomKN'\n",
        "def twitter_setup():\n",
        "    auth=tweepy.OAuthHandler(consumer_key,consumer_secret)\n",
        "    auth.set_access_token(access_token,access_token_secret)\n",
        "    api = tweepy.API(auth)\n",
        "    return api"
      ],
      "metadata": {
        "id": "Po2ItnulK0O5"
      },
      "execution_count": null,
      "outputs": []
    },
    {
      "cell_type": "code",
      "source": [
        "import tweepy\n",
        "extractor = twitter_setup()\n",
        "tweets = extractor.user_timeline(screen_name=\"tesla\", count = 1000)\n",
        "print(\"number of tweets extracted: {}.\\n\".format(len(tweets)))\n",
        "print(\"5 recent tweets:\\n\")\n",
        "for tweet in tweets[:5]:\n",
        "    print(tweet.text)\n",
        "    print()"
      ],
      "metadata": {
        "colab": {
          "base_uri": "https://localhost:8080/"
        },
        "id": "YoWscgWNey7H",
        "outputId": "a9e025d9-8706-474f-ac4a-de37b7db3b79"
      },
      "execution_count": null,
      "outputs": [
        {
          "output_type": "stream",
          "name": "stdout",
          "text": [
            "number of tweets extracted: 200.\n",
            "\n",
            "5 recent tweets:\n",
            "\n",
            "Production and deliveries in Q1 exceeded 300k vehicles https://t.co/O0OQsl6ppc\n",
            "\n",
            "Flying Through Giga Berlin\n",
            "\n",
            "Tesla will ask shareholders to vote at this year’s annual meeting to authorize additional shares in order to enable a stock split.\n",
            "\n",
            "RT @elonmusk: https://t.co/SXKc1jJwmw\n",
            "\n",
            "Come join the Giga Berlin team! https://t.co/p1PVbG8c6x https://t.co/AyBsX36lNN\n",
            "\n"
          ]
        }
      ]
    },
    {
      "cell_type": "code",
      "source": [
        "data = pd.DataFrame(data=[tweet.text for tweet in tweets], columns=['tweets'])\n",
        "\n",
        "display(data.head(10))"
      ],
      "metadata": {
        "colab": {
          "base_uri": "https://localhost:8080/",
          "height": 359
        },
        "id": "kVxz3jiXgCSh",
        "outputId": "0d3bc0a9-9a8d-4386-f9c4-da4e818f7893"
      },
      "execution_count": null,
      "outputs": [
        {
          "output_type": "display_data",
          "data": {
            "text/plain": [
              "                                              tweets\n",
              "0  Production and deliveries in Q1 exceeded 300k ...\n",
              "1                         Flying Through Giga Berlin\n",
              "2  Tesla will ask shareholders to vote at this ye...\n",
              "3              RT @elonmusk: https://t.co/SXKc1jJwmw\n",
              "4  Come join the Giga Berlin team! https://t.co/p...\n",
              "5  First Model Y deliveries at Giga Berlin https:...\n",
              "6  RT @TeslaSolar: Solar Roof lets you become you...\n",
              "7           🎨 at Giga Berlin https://t.co/ojIvG9cg4F\n",
              "8  Giga Berlin darf eröffnen 🇩🇪🚘 \\n\\nCome join th...\n",
              "9  First Model Y deliveries in the UK https://t.c..."
            ],
            "text/html": [
              "\n",
              "  <div id=\"df-b5d05355-e620-4b58-9ff8-0b67670074ac\">\n",
              "    <div class=\"colab-df-container\">\n",
              "      <div>\n",
              "<style scoped>\n",
              "    .dataframe tbody tr th:only-of-type {\n",
              "        vertical-align: middle;\n",
              "    }\n",
              "\n",
              "    .dataframe tbody tr th {\n",
              "        vertical-align: top;\n",
              "    }\n",
              "\n",
              "    .dataframe thead th {\n",
              "        text-align: right;\n",
              "    }\n",
              "</style>\n",
              "<table border=\"1\" class=\"dataframe\">\n",
              "  <thead>\n",
              "    <tr style=\"text-align: right;\">\n",
              "      <th></th>\n",
              "      <th>tweets</th>\n",
              "    </tr>\n",
              "  </thead>\n",
              "  <tbody>\n",
              "    <tr>\n",
              "      <th>0</th>\n",
              "      <td>Production and deliveries in Q1 exceeded 300k ...</td>\n",
              "    </tr>\n",
              "    <tr>\n",
              "      <th>1</th>\n",
              "      <td>Flying Through Giga Berlin</td>\n",
              "    </tr>\n",
              "    <tr>\n",
              "      <th>2</th>\n",
              "      <td>Tesla will ask shareholders to vote at this ye...</td>\n",
              "    </tr>\n",
              "    <tr>\n",
              "      <th>3</th>\n",
              "      <td>RT @elonmusk: https://t.co/SXKc1jJwmw</td>\n",
              "    </tr>\n",
              "    <tr>\n",
              "      <th>4</th>\n",
              "      <td>Come join the Giga Berlin team! https://t.co/p...</td>\n",
              "    </tr>\n",
              "    <tr>\n",
              "      <th>5</th>\n",
              "      <td>First Model Y deliveries at Giga Berlin https:...</td>\n",
              "    </tr>\n",
              "    <tr>\n",
              "      <th>6</th>\n",
              "      <td>RT @TeslaSolar: Solar Roof lets you become you...</td>\n",
              "    </tr>\n",
              "    <tr>\n",
              "      <th>7</th>\n",
              "      <td>🎨 at Giga Berlin https://t.co/ojIvG9cg4F</td>\n",
              "    </tr>\n",
              "    <tr>\n",
              "      <th>8</th>\n",
              "      <td>Giga Berlin darf eröffnen 🇩🇪🚘 \\n\\nCome join th...</td>\n",
              "    </tr>\n",
              "    <tr>\n",
              "      <th>9</th>\n",
              "      <td>First Model Y deliveries in the UK https://t.c...</td>\n",
              "    </tr>\n",
              "  </tbody>\n",
              "</table>\n",
              "</div>\n",
              "      <button class=\"colab-df-convert\" onclick=\"convertToInteractive('df-b5d05355-e620-4b58-9ff8-0b67670074ac')\"\n",
              "              title=\"Convert this dataframe to an interactive table.\"\n",
              "              style=\"display:none;\">\n",
              "        \n",
              "  <svg xmlns=\"http://www.w3.org/2000/svg\" height=\"24px\"viewBox=\"0 0 24 24\"\n",
              "       width=\"24px\">\n",
              "    <path d=\"M0 0h24v24H0V0z\" fill=\"none\"/>\n",
              "    <path d=\"M18.56 5.44l.94 2.06.94-2.06 2.06-.94-2.06-.94-.94-2.06-.94 2.06-2.06.94zm-11 1L8.5 8.5l.94-2.06 2.06-.94-2.06-.94L8.5 2.5l-.94 2.06-2.06.94zm10 10l.94 2.06.94-2.06 2.06-.94-2.06-.94-.94-2.06-.94 2.06-2.06.94z\"/><path d=\"M17.41 7.96l-1.37-1.37c-.4-.4-.92-.59-1.43-.59-.52 0-1.04.2-1.43.59L10.3 9.45l-7.72 7.72c-.78.78-.78 2.05 0 2.83L4 21.41c.39.39.9.59 1.41.59.51 0 1.02-.2 1.41-.59l7.78-7.78 2.81-2.81c.8-.78.8-2.07 0-2.86zM5.41 20L4 18.59l7.72-7.72 1.47 1.35L5.41 20z\"/>\n",
              "  </svg>\n",
              "      </button>\n",
              "      \n",
              "  <style>\n",
              "    .colab-df-container {\n",
              "      display:flex;\n",
              "      flex-wrap:wrap;\n",
              "      gap: 12px;\n",
              "    }\n",
              "\n",
              "    .colab-df-convert {\n",
              "      background-color: #E8F0FE;\n",
              "      border: none;\n",
              "      border-radius: 50%;\n",
              "      cursor: pointer;\n",
              "      display: none;\n",
              "      fill: #1967D2;\n",
              "      height: 32px;\n",
              "      padding: 0 0 0 0;\n",
              "      width: 32px;\n",
              "    }\n",
              "\n",
              "    .colab-df-convert:hover {\n",
              "      background-color: #E2EBFA;\n",
              "      box-shadow: 0px 1px 2px rgba(60, 64, 67, 0.3), 0px 1px 3px 1px rgba(60, 64, 67, 0.15);\n",
              "      fill: #174EA6;\n",
              "    }\n",
              "\n",
              "    [theme=dark] .colab-df-convert {\n",
              "      background-color: #3B4455;\n",
              "      fill: #D2E3FC;\n",
              "    }\n",
              "\n",
              "    [theme=dark] .colab-df-convert:hover {\n",
              "      background-color: #434B5C;\n",
              "      box-shadow: 0px 1px 3px 1px rgba(0, 0, 0, 0.15);\n",
              "      filter: drop-shadow(0px 1px 2px rgba(0, 0, 0, 0.3));\n",
              "      fill: #FFFFFF;\n",
              "    }\n",
              "  </style>\n",
              "\n",
              "      <script>\n",
              "        const buttonEl =\n",
              "          document.querySelector('#df-b5d05355-e620-4b58-9ff8-0b67670074ac button.colab-df-convert');\n",
              "        buttonEl.style.display =\n",
              "          google.colab.kernel.accessAllowed ? 'block' : 'none';\n",
              "\n",
              "        async function convertToInteractive(key) {\n",
              "          const element = document.querySelector('#df-b5d05355-e620-4b58-9ff8-0b67670074ac');\n",
              "          const dataTable =\n",
              "            await google.colab.kernel.invokeFunction('convertToInteractive',\n",
              "                                                     [key], {});\n",
              "          if (!dataTable) return;\n",
              "\n",
              "          const docLinkHtml = 'Like what you see? Visit the ' +\n",
              "            '<a target=\"_blank\" href=https://colab.research.google.com/notebooks/data_table.ipynb>data table notebook</a>'\n",
              "            + ' to learn more about interactive tables.';\n",
              "          element.innerHTML = '';\n",
              "          dataTable['output_type'] = 'display_data';\n",
              "          await google.colab.output.renderOutput(dataTable, element);\n",
              "          const docLink = document.createElement('div');\n",
              "          docLink.innerHTML = docLinkHtml;\n",
              "          element.appendChild(docLink);\n",
              "        }\n",
              "      </script>\n",
              "    </div>\n",
              "  </div>\n",
              "  "
            ]
          },
          "metadata": {}
        }
      ]
    },
    {
      "cell_type": "markdown",
      "source": [
        "**Data Preprocessing**\n",
        "\n",
        "The tweets we are getting are in different formats we need to change them to CSV format so that we can merge historical stock market values to these tweets.We are accessing tweets only that are written in english language so that it is easy to get the polarity of the sentence by using polarity detection algorithm. It has attributes tweets, len, ID, Date, Source, Likes, RTs and are combined to form structured dataset using pandas dataframe.\n",
        "\n",
        "\n"
      ],
      "metadata": {
        "id": "HjTfLBhSH7bJ"
      }
    },
    {
      "cell_type": "code",
      "source": [
        "print(tweets[0].id)\n",
        "print(tweets[0].created_at)\n",
        "print(tweets[0].source)\n",
        "print(tweets[0].favorite_count)\n",
        "print(tweets[0].retweet_count)\n",
        "print(tweets[0].geo)\n",
        "print(tweets[0].coordinates)\n",
        "print(tweets[0].entities)"
      ],
      "metadata": {
        "colab": {
          "base_uri": "https://localhost:8080/"
        },
        "id": "0HXK8dxigJtQ",
        "outputId": "1510df40-13eb-422d-972e-d4f750f77891"
      },
      "execution_count": null,
      "outputs": [
        {
          "output_type": "stream",
          "name": "stdout",
          "text": [
            "1510306433610432512\n",
            "2022-04-02 17:21:28\n",
            "Twitter for iPhone\n",
            "9411\n",
            "1106\n",
            "None\n",
            "None\n",
            "{'hashtags': [], 'symbols': [], 'user_mentions': [], 'urls': [{'url': 'https://t.co/O0OQsl6ppc', 'expanded_url': 'https://ir.tesla.com/press-release/tesla-vehicle-production-deliveries-and-date-financial-results-webcast-first-quarter', 'display_url': 'ir.tesla.com/press-release/…', 'indices': [55, 78]}]}\n"
          ]
        }
      ]
    },
    {
      "cell_type": "code",
      "source": [
        "data['len'] = np.array([len(tweet.text) for tweet in tweets])\n",
        "data['ID'] = np.array([tweet.id for tweet in tweets])\n",
        "data['Date'] = np.array([tweet.created_at for tweet in tweets])\n",
        "data['Source'] = np.array([tweet.source for tweet in tweets])\n",
        "data['Likes'] = np.array([tweet.favorite_count for tweet in tweets])\n",
        "data['RTs'] = np.array([tweet.retweet_count for tweet in tweets])"
      ],
      "metadata": {
        "id": "AHx7dW4ugP6Q"
      },
      "execution_count": null,
      "outputs": []
    },
    {
      "cell_type": "code",
      "source": [
        "display(data.head(10))\n",
        "list(data)"
      ],
      "metadata": {
        "id": "5L-fCz9LgTVf",
        "outputId": "a85f8a5b-26e2-4091-90bc-3b2d52016346",
        "colab": {
          "base_uri": "https://localhost:8080/",
          "height": 376
        }
      },
      "execution_count": null,
      "outputs": [
        {
          "output_type": "display_data",
          "data": {
            "text/plain": [
              "                                              tweets  len  \\\n",
              "0  Production and deliveries in Q1 exceeded 300k ...   78   \n",
              "1                         Flying Through Giga Berlin   26   \n",
              "2  Tesla will ask shareholders to vote at this ye...  130   \n",
              "3              RT @elonmusk: https://t.co/SXKc1jJwmw   37   \n",
              "4  Come join the Giga Berlin team! https://t.co/p...   79   \n",
              "5  First Model Y deliveries at Giga Berlin https:...   63   \n",
              "6  RT @TeslaSolar: Solar Roof lets you become you...  140   \n",
              "7           🎨 at Giga Berlin https://t.co/ojIvG9cg4F   40   \n",
              "8  Giga Berlin darf eröffnen 🇩🇪🚘 \\n\\nCome join th...   75   \n",
              "9  First Model Y deliveries in the UK https://t.c...   58   \n",
              "\n",
              "                    ID                Date                    Source  Likes  \\\n",
              "0  1510306433610432512 2022-04-02 17:21:28        Twitter for iPhone   9411   \n",
              "1  1509994532548624385 2022-04-01 20:42:05  Twitter for Advertisers.  34202   \n",
              "2  1508383394018779136 2022-03-28 10:00:00                 TweetDeck  39129   \n",
              "3  1507678592741920775 2022-03-26 11:19:22        Twitter for iPhone      0   \n",
              "4  1507391004168626186 2022-03-25 16:16:36        Twitter for iPhone   7758   \n",
              "5  1506347849965002753 2022-03-22 19:11:28        Twitter for iPhone  24707   \n",
              "6  1501994731965923340 2022-03-10 18:53:44        Twitter for iPhone      0   \n",
              "7  1501601492175888384 2022-03-09 16:51:08        Twitter for iPhone  19890   \n",
              "8  1500386369683832833 2022-03-06 08:22:41        Twitter for iPhone  34581   \n",
              "9  1496199836353409035 2022-02-22 19:06:53        Twitter for iPhone   9623   \n",
              "\n",
              "     RTs  \n",
              "0   1106  \n",
              "1   4529  \n",
              "2   4392  \n",
              "3  12568  \n",
              "4   1147  \n",
              "5   2355  \n",
              "6   3520  \n",
              "7   1062  \n",
              "8   3295  \n",
              "9   1022  "
            ],
            "text/html": [
              "\n",
              "  <div id=\"df-991487d0-1291-439f-a3f9-95e5fa863a29\">\n",
              "    <div class=\"colab-df-container\">\n",
              "      <div>\n",
              "<style scoped>\n",
              "    .dataframe tbody tr th:only-of-type {\n",
              "        vertical-align: middle;\n",
              "    }\n",
              "\n",
              "    .dataframe tbody tr th {\n",
              "        vertical-align: top;\n",
              "    }\n",
              "\n",
              "    .dataframe thead th {\n",
              "        text-align: right;\n",
              "    }\n",
              "</style>\n",
              "<table border=\"1\" class=\"dataframe\">\n",
              "  <thead>\n",
              "    <tr style=\"text-align: right;\">\n",
              "      <th></th>\n",
              "      <th>tweets</th>\n",
              "      <th>len</th>\n",
              "      <th>ID</th>\n",
              "      <th>Date</th>\n",
              "      <th>Source</th>\n",
              "      <th>Likes</th>\n",
              "      <th>RTs</th>\n",
              "    </tr>\n",
              "  </thead>\n",
              "  <tbody>\n",
              "    <tr>\n",
              "      <th>0</th>\n",
              "      <td>Production and deliveries in Q1 exceeded 300k ...</td>\n",
              "      <td>78</td>\n",
              "      <td>1510306433610432512</td>\n",
              "      <td>2022-04-02 17:21:28</td>\n",
              "      <td>Twitter for iPhone</td>\n",
              "      <td>9411</td>\n",
              "      <td>1106</td>\n",
              "    </tr>\n",
              "    <tr>\n",
              "      <th>1</th>\n",
              "      <td>Flying Through Giga Berlin</td>\n",
              "      <td>26</td>\n",
              "      <td>1509994532548624385</td>\n",
              "      <td>2022-04-01 20:42:05</td>\n",
              "      <td>Twitter for Advertisers.</td>\n",
              "      <td>34202</td>\n",
              "      <td>4529</td>\n",
              "    </tr>\n",
              "    <tr>\n",
              "      <th>2</th>\n",
              "      <td>Tesla will ask shareholders to vote at this ye...</td>\n",
              "      <td>130</td>\n",
              "      <td>1508383394018779136</td>\n",
              "      <td>2022-03-28 10:00:00</td>\n",
              "      <td>TweetDeck</td>\n",
              "      <td>39129</td>\n",
              "      <td>4392</td>\n",
              "    </tr>\n",
              "    <tr>\n",
              "      <th>3</th>\n",
              "      <td>RT @elonmusk: https://t.co/SXKc1jJwmw</td>\n",
              "      <td>37</td>\n",
              "      <td>1507678592741920775</td>\n",
              "      <td>2022-03-26 11:19:22</td>\n",
              "      <td>Twitter for iPhone</td>\n",
              "      <td>0</td>\n",
              "      <td>12568</td>\n",
              "    </tr>\n",
              "    <tr>\n",
              "      <th>4</th>\n",
              "      <td>Come join the Giga Berlin team! https://t.co/p...</td>\n",
              "      <td>79</td>\n",
              "      <td>1507391004168626186</td>\n",
              "      <td>2022-03-25 16:16:36</td>\n",
              "      <td>Twitter for iPhone</td>\n",
              "      <td>7758</td>\n",
              "      <td>1147</td>\n",
              "    </tr>\n",
              "    <tr>\n",
              "      <th>5</th>\n",
              "      <td>First Model Y deliveries at Giga Berlin https:...</td>\n",
              "      <td>63</td>\n",
              "      <td>1506347849965002753</td>\n",
              "      <td>2022-03-22 19:11:28</td>\n",
              "      <td>Twitter for iPhone</td>\n",
              "      <td>24707</td>\n",
              "      <td>2355</td>\n",
              "    </tr>\n",
              "    <tr>\n",
              "      <th>6</th>\n",
              "      <td>RT @TeslaSolar: Solar Roof lets you become you...</td>\n",
              "      <td>140</td>\n",
              "      <td>1501994731965923340</td>\n",
              "      <td>2022-03-10 18:53:44</td>\n",
              "      <td>Twitter for iPhone</td>\n",
              "      <td>0</td>\n",
              "      <td>3520</td>\n",
              "    </tr>\n",
              "    <tr>\n",
              "      <th>7</th>\n",
              "      <td>🎨 at Giga Berlin https://t.co/ojIvG9cg4F</td>\n",
              "      <td>40</td>\n",
              "      <td>1501601492175888384</td>\n",
              "      <td>2022-03-09 16:51:08</td>\n",
              "      <td>Twitter for iPhone</td>\n",
              "      <td>19890</td>\n",
              "      <td>1062</td>\n",
              "    </tr>\n",
              "    <tr>\n",
              "      <th>8</th>\n",
              "      <td>Giga Berlin darf eröffnen 🇩🇪🚘 \\n\\nCome join th...</td>\n",
              "      <td>75</td>\n",
              "      <td>1500386369683832833</td>\n",
              "      <td>2022-03-06 08:22:41</td>\n",
              "      <td>Twitter for iPhone</td>\n",
              "      <td>34581</td>\n",
              "      <td>3295</td>\n",
              "    </tr>\n",
              "    <tr>\n",
              "      <th>9</th>\n",
              "      <td>First Model Y deliveries in the UK https://t.c...</td>\n",
              "      <td>58</td>\n",
              "      <td>1496199836353409035</td>\n",
              "      <td>2022-02-22 19:06:53</td>\n",
              "      <td>Twitter for iPhone</td>\n",
              "      <td>9623</td>\n",
              "      <td>1022</td>\n",
              "    </tr>\n",
              "  </tbody>\n",
              "</table>\n",
              "</div>\n",
              "      <button class=\"colab-df-convert\" onclick=\"convertToInteractive('df-991487d0-1291-439f-a3f9-95e5fa863a29')\"\n",
              "              title=\"Convert this dataframe to an interactive table.\"\n",
              "              style=\"display:none;\">\n",
              "        \n",
              "  <svg xmlns=\"http://www.w3.org/2000/svg\" height=\"24px\"viewBox=\"0 0 24 24\"\n",
              "       width=\"24px\">\n",
              "    <path d=\"M0 0h24v24H0V0z\" fill=\"none\"/>\n",
              "    <path d=\"M18.56 5.44l.94 2.06.94-2.06 2.06-.94-2.06-.94-.94-2.06-.94 2.06-2.06.94zm-11 1L8.5 8.5l.94-2.06 2.06-.94-2.06-.94L8.5 2.5l-.94 2.06-2.06.94zm10 10l.94 2.06.94-2.06 2.06-.94-2.06-.94-.94-2.06-.94 2.06-2.06.94z\"/><path d=\"M17.41 7.96l-1.37-1.37c-.4-.4-.92-.59-1.43-.59-.52 0-1.04.2-1.43.59L10.3 9.45l-7.72 7.72c-.78.78-.78 2.05 0 2.83L4 21.41c.39.39.9.59 1.41.59.51 0 1.02-.2 1.41-.59l7.78-7.78 2.81-2.81c.8-.78.8-2.07 0-2.86zM5.41 20L4 18.59l7.72-7.72 1.47 1.35L5.41 20z\"/>\n",
              "  </svg>\n",
              "      </button>\n",
              "      \n",
              "  <style>\n",
              "    .colab-df-container {\n",
              "      display:flex;\n",
              "      flex-wrap:wrap;\n",
              "      gap: 12px;\n",
              "    }\n",
              "\n",
              "    .colab-df-convert {\n",
              "      background-color: #E8F0FE;\n",
              "      border: none;\n",
              "      border-radius: 50%;\n",
              "      cursor: pointer;\n",
              "      display: none;\n",
              "      fill: #1967D2;\n",
              "      height: 32px;\n",
              "      padding: 0 0 0 0;\n",
              "      width: 32px;\n",
              "    }\n",
              "\n",
              "    .colab-df-convert:hover {\n",
              "      background-color: #E2EBFA;\n",
              "      box-shadow: 0px 1px 2px rgba(60, 64, 67, 0.3), 0px 1px 3px 1px rgba(60, 64, 67, 0.15);\n",
              "      fill: #174EA6;\n",
              "    }\n",
              "\n",
              "    [theme=dark] .colab-df-convert {\n",
              "      background-color: #3B4455;\n",
              "      fill: #D2E3FC;\n",
              "    }\n",
              "\n",
              "    [theme=dark] .colab-df-convert:hover {\n",
              "      background-color: #434B5C;\n",
              "      box-shadow: 0px 1px 3px 1px rgba(0, 0, 0, 0.15);\n",
              "      filter: drop-shadow(0px 1px 2px rgba(0, 0, 0, 0.3));\n",
              "      fill: #FFFFFF;\n",
              "    }\n",
              "  </style>\n",
              "\n",
              "      <script>\n",
              "        const buttonEl =\n",
              "          document.querySelector('#df-991487d0-1291-439f-a3f9-95e5fa863a29 button.colab-df-convert');\n",
              "        buttonEl.style.display =\n",
              "          google.colab.kernel.accessAllowed ? 'block' : 'none';\n",
              "\n",
              "        async function convertToInteractive(key) {\n",
              "          const element = document.querySelector('#df-991487d0-1291-439f-a3f9-95e5fa863a29');\n",
              "          const dataTable =\n",
              "            await google.colab.kernel.invokeFunction('convertToInteractive',\n",
              "                                                     [key], {});\n",
              "          if (!dataTable) return;\n",
              "\n",
              "          const docLinkHtml = 'Like what you see? Visit the ' +\n",
              "            '<a target=\"_blank\" href=https://colab.research.google.com/notebooks/data_table.ipynb>data table notebook</a>'\n",
              "            + ' to learn more about interactive tables.';\n",
              "          element.innerHTML = '';\n",
              "          dataTable['output_type'] = 'display_data';\n",
              "          await google.colab.output.renderOutput(dataTable, element);\n",
              "          const docLink = document.createElement('div');\n",
              "          docLink.innerHTML = docLinkHtml;\n",
              "          element.appendChild(docLink);\n",
              "        }\n",
              "      </script>\n",
              "    </div>\n",
              "  </div>\n",
              "  "
            ]
          },
          "metadata": {}
        },
        {
          "output_type": "execute_result",
          "data": {
            "text/plain": [
              "['tweets', 'len', 'ID', 'Date', 'Source', 'Likes', 'RTs']"
            ]
          },
          "metadata": {},
          "execution_count": 116
        }
      ]
    },
    {
      "cell_type": "code",
      "source": [
        "# Visualization and basic stats\n",
        "\n",
        "# We extract the mean of length\n",
        "import numpy as np\n",
        "mean = np.mean(data['len'])\n",
        "print(\"the length's average in tweets: {}\".format(mean))"
      ],
      "metadata": {
        "colab": {
          "base_uri": "https://localhost:8080/"
        },
        "id": "gGepmR0jHE6P",
        "outputId": "5ed97e87-7997-4c32-a426-8877712cc21d"
      },
      "execution_count": null,
      "outputs": [
        {
          "output_type": "stream",
          "name": "stdout",
          "text": [
            "the length's average in tweets: 85.03\n"
          ]
        }
      ]
    },
    {
      "cell_type": "code",
      "source": [
        "# We extract the tweet with more FAVs and mote RTs:\n",
        "\n",
        "fav_max = np.max(data['Likes'])\n",
        "rt_max = np.max(data['RTs'])\n",
        "\n",
        "fav = data[data.Likes == fav_max].index[0]\n",
        "rt = data[data.RTs == rt_max].index[0]\n",
        "\n",
        "# Max FAVs:\n",
        "print(\"the tweet with more likes is: \\n{}\".format(data['tweets'][fav]))\n",
        "print(\"Number of likes: {}\".format(fav_max))\n",
        "print(\"{} character.\\n\".format(data['len'][fav]))\n",
        "\n",
        "# Max RTs:\n",
        "print(\"The tweet with more retweets is: \\n{}\".format(data['tweets'][rt]))\n",
        "print(\"Number of retweets: {}\".format(rt_max))\n",
        "print(\"{} character.\\n\".format(data['len'][rt]))"
      ],
      "metadata": {
        "colab": {
          "base_uri": "https://localhost:8080/"
        },
        "id": "WoKvw2enJDfQ",
        "outputId": "02d940a5-a2bb-4496-a1d0-876dc779e2c5"
      },
      "execution_count": null,
      "outputs": [
        {
          "output_type": "stream",
          "name": "stdout",
          "text": [
            "the tweet with more likes is: \n",
            "Cybertruck at Giga Texas https://t.co/c1RuektPnN\n",
            "Number of likes: 185282\n",
            "48 character.\n",
            "\n",
            "The tweet with more retweets is: \n",
            "RT @elonmusk: Tesla merch buyable with Dogecoin\n",
            "Number of retweets: 51301\n",
            "47 character.\n",
            "\n"
          ]
        }
      ]
    },
    {
      "cell_type": "code",
      "source": [
        "tlen = pd.Series(data = data['len'].values)   #, index=data['Data'])\n",
        "tfav = pd.Series(data = data['Likes'].values)   #, index=data['Data'])\n",
        "tret = pd.Series(data = data['RTs'].values) #, index=data['Data']"
      ],
      "metadata": {
        "id": "qM_Y8yDcJPZ2"
      },
      "execution_count": null,
      "outputs": []
    },
    {
      "cell_type": "code",
      "source": [
        "tlen.plot(figsize=(16,4), label=\"Length of tweets\", legend=True)"
      ],
      "metadata": {
        "colab": {
          "base_uri": "https://localhost:8080/",
          "height": 282
        },
        "id": "aI83uhosJg3W",
        "outputId": "c43f57e7-5025-4608-c65c-eeaef8910958"
      },
      "execution_count": null,
      "outputs": [
        {
          "output_type": "execute_result",
          "data": {
            "text/plain": [
              "<matplotlib.axes._subplots.AxesSubplot at 0x7f6568910d50>"
            ]
          },
          "metadata": {},
          "execution_count": 120
        },
        {
          "output_type": "display_data",
          "data": {
            "text/plain": [
              "<Figure size 1152x288 with 1 Axes>"
            ],
            "image/png": "[encoded data removed]"
          },
          "metadata": {
            "needs_background": "light"
          }
        }
      ]
    },
    {
      "cell_type": "code",
      "source": [
        "# Likes vs retweets visualization:\n",
        "tfav.plot(figsize=(16,4), label=\"Likes\", legend=True)\n",
        "tret.plot(figsize=(16,4), label=\"Retweets\", legend=True);"
      ],
      "metadata": {
        "colab": {
          "base_uri": "https://localhost:8080/",
          "height": 265
        },
        "id": "_Q05lue9Jlh_",
        "outputId": "698093dc-975b-44aa-d955-f862c96dd6a1"
      },
      "execution_count": null,
      "outputs": [
        {
          "output_type": "display_data",
          "data": {
            "text/plain": [
              "<Figure size 1152x288 with 1 Axes>"
            ],
            "image/png": "[encoded data removed]"
          },
          "metadata": {
            "needs_background": "light"
          }
        }
      ]
    },
    {
      "cell_type": "code",
      "source": [
        "# We obtain all possible sources:\n",
        "sources = []\n",
        "for source in data['Source']:\n",
        "    if source not in sources:\n",
        "        sources.append(source)\n",
        "\n",
        "# We print sources list:\n",
        "print(\"Creation of content sources:\")\n",
        "for source in sources:\n",
        "    print(\"* {}\".format(source))"
      ],
      "metadata": {
        "colab": {
          "base_uri": "https://localhost:8080/"
        },
        "id": "vr3eOrVOKBWI",
        "outputId": "d18c2736-9037-49b1-b742-2bf845641112"
      },
      "execution_count": null,
      "outputs": [
        {
          "output_type": "stream",
          "name": "stdout",
          "text": [
            "Creation of content sources:\n",
            "* Twitter for iPhone\n",
            "* Twitter for Advertisers.\n",
            "* TweetDeck\n",
            "* Twitter for iPad\n",
            "* Twitter Web App\n"
          ]
        }
      ]
    },
    {
      "cell_type": "code",
      "source": [
        "# We create a numpy vector mapped to labels:\n",
        "percent = np.zeros(len(sources))\n",
        "\n",
        "for source in data['Source']:\n",
        "    for index in range(len(sources)):\n",
        "        if source == sources[index]:\n",
        "            percent[index] += 1\n",
        "            pass\n",
        "\n",
        "percent /= 100\n",
        "\n",
        "# Pie chart:\n",
        "pie_chart = pd.Series(percent, index=sources, name='Sources')\n",
        "pie_chart.plot.pie(fontsize=11, autopct='%.2f', figsize=(6, 6));"
      ],
      "metadata": {
        "colab": {
          "base_uri": "https://localhost:8080/",
          "height": 357
        },
        "id": "XT1iUWsoKD0O",
        "outputId": "1f04819d-1851-4c73-f2c3-1bb8f95190c8"
      },
      "execution_count": null,
      "outputs": [
        {
          "output_type": "display_data",
          "data": {
            "text/plain": [
              "<Figure size 432x432 with 1 Axes>"
            ],
            "image/png": "[encoded data removed]"
          },
          "metadata": {}
        }
      ]
    },
    {
      "cell_type": "code",
      "source": [
        "from textblob import TextBlob\n",
        "import re\n",
        "\n",
        "def clean_tweet(tweet):\n",
        "    '''\n",
        "    Utility function to clean the text in a tweet by removing\n",
        "    links and special characters using regex.\n",
        "    '''\n",
        "    return ' '.join(re.sub(\"(@[A-Za-z0-9]+)|([^0-9A-Za-z \\t])|(\\w+:\\/\\/\\S+)\", \" \", tweet).split())\n",
        "\n",
        "def analize_sentiment(tweet):\n",
        "    '''\n",
        "    Utility function to classify the polarity of a tweet\n",
        "    using textblob.\n",
        "    '''\n",
        "    analysis = TextBlob(clean_tweet(tweet))\n",
        "    if analysis.sentiment.polarity > 0:\n",
        "        return 1\n",
        "    elif analysis.sentiment.polarity == 0:\n",
        "        return 0\n",
        "    else:\n",
        "        return -1\n"
      ],
      "metadata": {
        "id": "ao_RV-JKKK2P"
      },
      "execution_count": null,
      "outputs": []
    },
    {
      "cell_type": "code",
      "source": [
        "l=[]\n",
        "for k in data.tweets:\n",
        "    l.append(analize_sentiment(k))\n",
        "data['SA'] = l"
      ],
      "metadata": {
        "id": "M_ibS-SsKXq3"
      },
      "execution_count": null,
      "outputs": []
    },
    {
      "cell_type": "code",
      "source": [
        "# We construct lists with classified tweets:\n",
        "\n",
        "pos_tweets = [ tweet for index, tweet in enumerate(data['tweets']) if data['SA'][index] > 0]\n",
        "neu_tweets = [ tweet for index, tweet in enumerate(data['tweets']) if data['SA'][index] == 0]\n",
        "neg_tweets = [ tweet for index, tweet in enumerate(data['tweets']) if data['SA'][index] < 0]"
      ],
      "metadata": {
        "id": "9e32T25nKZLJ"
      },
      "execution_count": null,
      "outputs": []
    },
    {
      "cell_type": "code",
      "source": [
        "# We print percentages:\n",
        "\n",
        "print(\"Percentage of positive tweets: {}%\".format(len(pos_tweets)*100/len(data['tweets'])))\n",
        "print(\"Percentage of neutral tweets: {}%\".format(len(neu_tweets)*100/len(data['tweets'])))\n",
        "print(\"Percentage de negative tweets: {}%\".format(len(neg_tweets)*100/len(data['tweets'])))"
      ],
      "metadata": {
        "colab": {
          "base_uri": "https://localhost:8080/"
        },
        "id": "zLMQaRMPKeQO",
        "outputId": "c9b85eab-47ab-428b-9421-ce86f4a3e700"
      },
      "execution_count": null,
      "outputs": [
        {
          "output_type": "stream",
          "name": "stdout",
          "text": [
            "Percentage of positive tweets: 34.5%\n",
            "Percentage of neutral tweets: 57.5%\n",
            "Percentage de negative tweets: 8.0%\n"
          ]
        }
      ]
    },
    {
      "cell_type": "code",
      "source": [
        "data.to_csv('/content/data.csv')"
      ],
      "metadata": {
        "id": "E1thIWs6N5Hx"
      },
      "execution_count": null,
      "outputs": []
    },
    {
      "cell_type": "code",
      "source": [
        "l=[]\n",
        "import datetime\n",
        "for i in range(len(data)):\n",
        "    l.append(str(data[\"Date\"][i].date()))       # for particular date 0-31 .strftime(\"%d\")\n",
        "data[\"new_date\"]=l"
      ],
      "metadata": {
        "id": "QxiYVzU7OHm5"
      },
      "execution_count": null,
      "outputs": []
    },
    {
      "cell_type": "code",
      "source": [
        "df=data.loc[:, [\"tweets\", \"new_date\"]]"
      ],
      "metadata": {
        "id": "udwE3U6WOKzR"
      },
      "execution_count": null,
      "outputs": []
    },
    {
      "cell_type": "code",
      "source": [
        "d={}\n",
        "for i in range(len(df)):\n",
        "    if df['new_date'][i] in df:\n",
        "        d[df['new_date'][i]].append(df['tweets'][i])\n",
        "    else:\n",
        "        d[df['new_date'][i]]=[]\n",
        "        d[df['new_date'][i]].append(df['tweets'][i])"
      ],
      "metadata": {
        "id": "ZEU17paMONl-"
      },
      "execution_count": null,
      "outputs": []
    },
    {
      "cell_type": "code",
      "source": [
        "df_1=pd.DataFrame.from_dict(d, orient='index')\n",
        "df_1.index.name = 'Date'\n",
        "df_1=df_1.reset_index()\n",
        "df_1 = df_1.rename(columns={0: 'tweets_on_that_day'})"
      ],
      "metadata": {
        "id": "MhfvUFMwOQQn"
      },
      "execution_count": null,
      "outputs": []
    },
    {
      "cell_type": "code",
      "source": [
        "df_1"
      ],
      "metadata": {
        "colab": {
          "base_uri": "https://localhost:8080/",
          "height": 419
        },
        "id": "4O38Ks4KcqJq",
        "outputId": "5902a0b8-ad2f-4613-ed65-61fdd3bfff7e"
      },
      "execution_count": null,
      "outputs": [
        {
          "output_type": "execute_result",
          "data": {
            "text/plain": [
              "           Date                                 tweets_on_that_day\n",
              "0    2022-04-02  Production and deliveries in Q1 exceeded 300k ...\n",
              "1    2022-04-01                         Flying Through Giga Berlin\n",
              "2    2022-03-28  Tesla will ask shareholders to vote at this ye...\n",
              "3    2022-03-26              RT @elonmusk: https://t.co/SXKc1jJwmw\n",
              "4    2022-03-25  Come join the Giga Berlin team! https://t.co/p...\n",
              "..          ...                                                ...\n",
              "145  2019-11-23  I'm gonna tell my kids this is the first pick-...\n",
              "146  2019-11-22  Cybertruck Unveil livestream starts at 8pm \\nh...\n",
              "147  2019-11-21  Cybertruck Unveil starts at 8\\n\\nStay tuned fo...\n",
              "148  2019-11-13  We were very honored to accept one of Europe's...\n",
              "149  2019-10-25  Submit questions for our Solar Roof Q&amp;A ah...\n",
              "\n",
              "[150 rows x 2 columns]"
            ],
            "text/html": [
              "\n",
              "  <div id=\"df-97fd34d8-f961-4b1d-93e7-e8c42893f05f\">\n",
              "    <div class=\"colab-df-container\">\n",
              "      <div>\n",
              "<style scoped>\n",
              "    .dataframe tbody tr th:only-of-type {\n",
              "        vertical-align: middle;\n",
              "    }\n",
              "\n",
              "    .dataframe tbody tr th {\n",
              "        vertical-align: top;\n",
              "    }\n",
              "\n",
              "    .dataframe thead th {\n",
              "        text-align: right;\n",
              "    }\n",
              "</style>\n",
              "<table border=\"1\" class=\"dataframe\">\n",
              "  <thead>\n",
              "    <tr style=\"text-align: right;\">\n",
              "      <th></th>\n",
              "      <th>Date</th>\n",
              "      <th>tweets_on_that_day</th>\n",
              "    </tr>\n",
              "  </thead>\n",
              "  <tbody>\n",
              "    <tr>\n",
              "      <th>0</th>\n",
              "      <td>2022-04-02</td>\n",
              "      <td>Production and deliveries in Q1 exceeded 300k ...</td>\n",
              "    </tr>\n",
              "    <tr>\n",
              "      <th>1</th>\n",
              "      <td>2022-04-01</td>\n",
              "      <td>Flying Through Giga Berlin</td>\n",
              "    </tr>\n",
              "    <tr>\n",
              "      <th>2</th>\n",
              "      <td>2022-03-28</td>\n",
              "      <td>Tesla will ask shareholders to vote at this ye...</td>\n",
              "    </tr>\n",
              "    <tr>\n",
              "      <th>3</th>\n",
              "      <td>2022-03-26</td>\n",
              "      <td>RT @elonmusk: https://t.co/SXKc1jJwmw</td>\n",
              "    </tr>\n",
              "    <tr>\n",
              "      <th>4</th>\n",
              "      <td>2022-03-25</td>\n",
              "      <td>Come join the Giga Berlin team! https://t.co/p...</td>\n",
              "    </tr>\n",
              "    <tr>\n",
              "      <th>...</th>\n",
              "      <td>...</td>\n",
              "      <td>...</td>\n",
              "    </tr>\n",
              "    <tr>\n",
              "      <th>145</th>\n",
              "      <td>2019-11-23</td>\n",
              "      <td>I'm gonna tell my kids this is the first pick-...</td>\n",
              "    </tr>\n",
              "    <tr>\n",
              "      <th>146</th>\n",
              "      <td>2019-11-22</td>\n",
              "      <td>Cybertruck Unveil livestream starts at 8pm \\nh...</td>\n",
              "    </tr>\n",
              "    <tr>\n",
              "      <th>147</th>\n",
              "      <td>2019-11-21</td>\n",
              "      <td>Cybertruck Unveil starts at 8\\n\\nStay tuned fo...</td>\n",
              "    </tr>\n",
              "    <tr>\n",
              "      <th>148</th>\n",
              "      <td>2019-11-13</td>\n",
              "      <td>We were very honored to accept one of Europe's...</td>\n",
              "    </tr>\n",
              "    <tr>\n",
              "      <th>149</th>\n",
              "      <td>2019-10-25</td>\n",
              "      <td>Submit questions for our Solar Roof Q&amp;amp;A ah...</td>\n",
              "    </tr>\n",
              "  </tbody>\n",
              "</table>\n",
              "<p>150 rows × 2 columns</p>\n",
              "</div>\n",
              "      <button class=\"colab-df-convert\" onclick=\"convertToInteractive('df-97fd34d8-f961-4b1d-93e7-e8c42893f05f')\"\n",
              "              title=\"Convert this dataframe to an interactive table.\"\n",
              "              style=\"display:none;\">\n",
              "        \n",
              "  <svg xmlns=\"http://www.w3.org/2000/svg\" height=\"24px\"viewBox=\"0 0 24 24\"\n",
              "       width=\"24px\">\n",
              "    <path d=\"M0 0h24v24H0V0z\" fill=\"none\"/>\n",
              "    <path d=\"M18.56 5.44l.94 2.06.94-2.06 2.06-.94-2.06-.94-.94-2.06-.94 2.06-2.06.94zm-11 1L8.5 8.5l.94-2.06 2.06-.94-2.06-.94L8.5 2.5l-.94 2.06-2.06.94zm10 10l.94 2.06.94-2.06 2.06-.94-2.06-.94-.94-2.06-.94 2.06-2.06.94z\"/><path d=\"M17.41 7.96l-1.37-1.37c-.4-.4-.92-.59-1.43-.59-.52 0-1.04.2-1.43.59L10.3 9.45l-7.72 7.72c-.78.78-.78 2.05 0 2.83L4 21.41c.39.39.9.59 1.41.59.51 0 1.02-.2 1.41-.59l7.78-7.78 2.81-2.81c.8-.78.8-2.07 0-2.86zM5.41 20L4 18.59l7.72-7.72 1.47 1.35L5.41 20z\"/>\n",
              "  </svg>\n",
              "      </button>\n",
              "      \n",
              "  <style>\n",
              "    .colab-df-container {\n",
              "      display:flex;\n",
              "      flex-wrap:wrap;\n",
              "      gap: 12px;\n",
              "    }\n",
              "\n",
              "    .colab-df-convert {\n",
              "      background-color: #E8F0FE;\n",
              "      border: none;\n",
              "      border-radius: 50%;\n",
              "      cursor: pointer;\n",
              "      display: none;\n",
              "      fill: #1967D2;\n",
              "      height: 32px;\n",
              "      padding: 0 0 0 0;\n",
              "      width: 32px;\n",
              "    }\n",
              "\n",
              "    .colab-df-convert:hover {\n",
              "      background-color: #E2EBFA;\n",
              "      box-shadow: 0px 1px 2px rgba(60, 64, 67, 0.3), 0px 1px 3px 1px rgba(60, 64, 67, 0.15);\n",
              "      fill: #174EA6;\n",
              "    }\n",
              "\n",
              "    [theme=dark] .colab-df-convert {\n",
              "      background-color: #3B4455;\n",
              "      fill: #D2E3FC;\n",
              "    }\n",
              "\n",
              "    [theme=dark] .colab-df-convert:hover {\n",
              "      background-color: #434B5C;\n",
              "      box-shadow: 0px 1px 3px 1px rgba(0, 0, 0, 0.15);\n",
              "      filter: drop-shadow(0px 1px 2px rgba(0, 0, 0, 0.3));\n",
              "      fill: #FFFFFF;\n",
              "    }\n",
              "  </style>\n",
              "\n",
              "      <script>\n",
              "        const buttonEl =\n",
              "          document.querySelector('#df-97fd34d8-f961-4b1d-93e7-e8c42893f05f button.colab-df-convert');\n",
              "        buttonEl.style.display =\n",
              "          google.colab.kernel.accessAllowed ? 'block' : 'none';\n",
              "\n",
              "        async function convertToInteractive(key) {\n",
              "          const element = document.querySelector('#df-97fd34d8-f961-4b1d-93e7-e8c42893f05f');\n",
              "          const dataTable =\n",
              "            await google.colab.kernel.invokeFunction('convertToInteractive',\n",
              "                                                     [key], {});\n",
              "          if (!dataTable) return;\n",
              "\n",
              "          const docLinkHtml = 'Like what you see? Visit the ' +\n",
              "            '<a target=\"_blank\" href=https://colab.research.google.com/notebooks/data_table.ipynb>data table notebook</a>'\n",
              "            + ' to learn more about interactive tables.';\n",
              "          element.innerHTML = '';\n",
              "          dataTable['output_type'] = 'display_data';\n",
              "          await google.colab.output.renderOutput(dataTable, element);\n",
              "          const docLink = document.createElement('div');\n",
              "          docLink.innerHTML = docLinkHtml;\n",
              "          element.appendChild(docLink);\n",
              "        }\n",
              "      </script>\n",
              "    </div>\n",
              "  </div>\n",
              "  "
            ]
          },
          "metadata": {},
          "execution_count": 133
        }
      ]
    },
    {
      "cell_type": "markdown",
      "source": [
        "**Polarity Detection**\n",
        "\n",
        "There are many libraries to know the polarity of the sentence like VADER, TextBlob etc. We are using TextBlob to get the sentimental value for each tweet.If the sentimental value is less than zero we assign value -one, if the sen- timental value is greater than zero we assign value +one and zero otherwise."
      ],
      "metadata": {
        "id": "3sWR4CYLINbl"
      }
    },
    {
      "cell_type": "code",
      "source": [
        "l=[]\n",
        "for k in df_1.tweets_on_that_day:\n",
        "    l.append(analize_sentiment(k))\n",
        "df_1['SA'] = l"
      ],
      "metadata": {
        "id": "sEJMrOUxOiZ-"
      },
      "execution_count": null,
      "outputs": []
    },
    {
      "cell_type": "code",
      "source": [
        "df_1[15:25]\n"
      ],
      "metadata": {
        "colab": {
          "base_uri": "https://localhost:8080/",
          "height": 359
        },
        "id": "HAJV_iwGOlJG",
        "outputId": "3f370709-c230-41df-b94c-8bc7fb4bdee0"
      },
      "execution_count": null,
      "outputs": [
        {
          "output_type": "execute_result",
          "data": {
            "text/plain": [
              "          Date                                 tweets_on_that_day  SA\n",
              "15  2022-01-31  RT @TeslaCharging: Non-Tesla vehicles can now ...   1\n",
              "16  2022-01-28  2021 was a breakthrough year for EVs. Thank yo...   0\n",
              "17  2022-01-21  Graffiti art at Giga Berlin https://t.co/aOj4k...   0\n",
              "18  2022-01-14    RT @elonmusk: Tesla merch buyable with Dogecoin   0\n",
              "19  2022-01-12  Solar Roof keeps snow &amp; ice off your roof\\...   0\n",
              "20  2022-01-10  Drive anywhere in the US using the Supercharge...   0\n",
              "21  2022-01-07  Plaid Track Mode now rolling out in North Amer...   0\n",
              "22  2022-01-05  When you discover the megaphone… 📢 \\n\\n🎥: @Hay...   0\n",
              "23  2022-01-02  Production &amp; deliveries in Q4 exceeded 300...   0\n",
              "24  2021-12-25  Merry Christmas to all! 🎄 https://t.co/QhOMe02pxy   0"
            ],
            "text/html": [
              "\n",
              "  <div id=\"df-e10b5ae1-cad5-4deb-88e8-98c130ee449c\">\n",
              "    <div class=\"colab-df-container\">\n",
              "      <div>\n",
              "<style scoped>\n",
              "    .dataframe tbody tr th:only-of-type {\n",
              "        vertical-align: middle;\n",
              "    }\n",
              "\n",
              "    .dataframe tbody tr th {\n",
              "        vertical-align: top;\n",
              "    }\n",
              "\n",
              "    .dataframe thead th {\n",
              "        text-align: right;\n",
              "    }\n",
              "</style>\n",
              "<table border=\"1\" class=\"dataframe\">\n",
              "  <thead>\n",
              "    <tr style=\"text-align: right;\">\n",
              "      <th></th>\n",
              "      <th>Date</th>\n",
              "      <th>tweets_on_that_day</th>\n",
              "      <th>SA</th>\n",
              "    </tr>\n",
              "  </thead>\n",
              "  <tbody>\n",
              "    <tr>\n",
              "      <th>15</th>\n",
              "      <td>2022-01-31</td>\n",
              "      <td>RT @TeslaCharging: Non-Tesla vehicles can now ...</td>\n",
              "      <td>1</td>\n",
              "    </tr>\n",
              "    <tr>\n",
              "      <th>16</th>\n",
              "      <td>2022-01-28</td>\n",
              "      <td>2021 was a breakthrough year for EVs. Thank yo...</td>\n",
              "      <td>0</td>\n",
              "    </tr>\n",
              "    <tr>\n",
              "      <th>17</th>\n",
              "      <td>2022-01-21</td>\n",
              "      <td>Graffiti art at Giga Berlin https://t.co/aOj4k...</td>\n",
              "      <td>0</td>\n",
              "    </tr>\n",
              "    <tr>\n",
              "      <th>18</th>\n",
              "      <td>2022-01-14</td>\n",
              "      <td>RT @elonmusk: Tesla merch buyable with Dogecoin</td>\n",
              "      <td>0</td>\n",
              "    </tr>\n",
              "    <tr>\n",
              "      <th>19</th>\n",
              "      <td>2022-01-12</td>\n",
              "      <td>Solar Roof keeps snow &amp;amp; ice off your roof\\...</td>\n",
              "      <td>0</td>\n",
              "    </tr>\n",
              "    <tr>\n",
              "      <th>20</th>\n",
              "      <td>2022-01-10</td>\n",
              "      <td>Drive anywhere in the US using the Supercharge...</td>\n",
              "      <td>0</td>\n",
              "    </tr>\n",
              "    <tr>\n",
              "      <th>21</th>\n",
              "      <td>2022-01-07</td>\n",
              "      <td>Plaid Track Mode now rolling out in North Amer...</td>\n",
              "      <td>0</td>\n",
              "    </tr>\n",
              "    <tr>\n",
              "      <th>22</th>\n",
              "      <td>2022-01-05</td>\n",
              "      <td>When you discover the megaphone… 📢 \\n\\n🎥: @Hay...</td>\n",
              "      <td>0</td>\n",
              "    </tr>\n",
              "    <tr>\n",
              "      <th>23</th>\n",
              "      <td>2022-01-02</td>\n",
              "      <td>Production &amp;amp; deliveries in Q4 exceeded 300...</td>\n",
              "      <td>0</td>\n",
              "    </tr>\n",
              "    <tr>\n",
              "      <th>24</th>\n",
              "      <td>2021-12-25</td>\n",
              "      <td>Merry Christmas to all! 🎄 https://t.co/QhOMe02pxy</td>\n",
              "      <td>0</td>\n",
              "    </tr>\n",
              "  </tbody>\n",
              "</table>\n",
              "</div>\n",
              "      <button class=\"colab-df-convert\" onclick=\"convertToInteractive('df-e10b5ae1-cad5-4deb-88e8-98c130ee449c')\"\n",
              "              title=\"Convert this dataframe to an interactive table.\"\n",
              "              style=\"display:none;\">\n",
              "        \n",
              "  <svg xmlns=\"http://www.w3.org/2000/svg\" height=\"24px\"viewBox=\"0 0 24 24\"\n",
              "       width=\"24px\">\n",
              "    <path d=\"M0 0h24v24H0V0z\" fill=\"none\"/>\n",
              "    <path d=\"M18.56 5.44l.94 2.06.94-2.06 2.06-.94-2.06-.94-.94-2.06-.94 2.06-2.06.94zm-11 1L8.5 8.5l.94-2.06 2.06-.94-2.06-.94L8.5 2.5l-.94 2.06-2.06.94zm10 10l.94 2.06.94-2.06 2.06-.94-2.06-.94-.94-2.06-.94 2.06-2.06.94z\"/><path d=\"M17.41 7.96l-1.37-1.37c-.4-.4-.92-.59-1.43-.59-.52 0-1.04.2-1.43.59L10.3 9.45l-7.72 7.72c-.78.78-.78 2.05 0 2.83L4 21.41c.39.39.9.59 1.41.59.51 0 1.02-.2 1.41-.59l7.78-7.78 2.81-2.81c.8-.78.8-2.07 0-2.86zM5.41 20L4 18.59l7.72-7.72 1.47 1.35L5.41 20z\"/>\n",
              "  </svg>\n",
              "      </button>\n",
              "      \n",
              "  <style>\n",
              "    .colab-df-container {\n",
              "      display:flex;\n",
              "      flex-wrap:wrap;\n",
              "      gap: 12px;\n",
              "    }\n",
              "\n",
              "    .colab-df-convert {\n",
              "      background-color: #E8F0FE;\n",
              "      border: none;\n",
              "      border-radius: 50%;\n",
              "      cursor: pointer;\n",
              "      display: none;\n",
              "      fill: #1967D2;\n",
              "      height: 32px;\n",
              "      padding: 0 0 0 0;\n",
              "      width: 32px;\n",
              "    }\n",
              "\n",
              "    .colab-df-convert:hover {\n",
              "      background-color: #E2EBFA;\n",
              "      box-shadow: 0px 1px 2px rgba(60, 64, 67, 0.3), 0px 1px 3px 1px rgba(60, 64, 67, 0.15);\n",
              "      fill: #174EA6;\n",
              "    }\n",
              "\n",
              "    [theme=dark] .colab-df-convert {\n",
              "      background-color: #3B4455;\n",
              "      fill: #D2E3FC;\n",
              "    }\n",
              "\n",
              "    [theme=dark] .colab-df-convert:hover {\n",
              "      background-color: #434B5C;\n",
              "      box-shadow: 0px 1px 3px 1px rgba(0, 0, 0, 0.15);\n",
              "      filter: drop-shadow(0px 1px 2px rgba(0, 0, 0, 0.3));\n",
              "      fill: #FFFFFF;\n",
              "    }\n",
              "  </style>\n",
              "\n",
              "      <script>\n",
              "        const buttonEl =\n",
              "          document.querySelector('#df-e10b5ae1-cad5-4deb-88e8-98c130ee449c button.colab-df-convert');\n",
              "        buttonEl.style.display =\n",
              "          google.colab.kernel.accessAllowed ? 'block' : 'none';\n",
              "\n",
              "        async function convertToInteractive(key) {\n",
              "          const element = document.querySelector('#df-e10b5ae1-cad5-4deb-88e8-98c130ee449c');\n",
              "          const dataTable =\n",
              "            await google.colab.kernel.invokeFunction('convertToInteractive',\n",
              "                                                     [key], {});\n",
              "          if (!dataTable) return;\n",
              "\n",
              "          const docLinkHtml = 'Like what you see? Visit the ' +\n",
              "            '<a target=\"_blank\" href=https://colab.research.google.com/notebooks/data_table.ipynb>data table notebook</a>'\n",
              "            + ' to learn more about interactive tables.';\n",
              "          element.innerHTML = '';\n",
              "          dataTable['output_type'] = 'display_data';\n",
              "          await google.colab.output.renderOutput(dataTable, element);\n",
              "          const docLink = document.createElement('div');\n",
              "          docLink.innerHTML = docLinkHtml;\n",
              "          element.appendChild(docLink);\n",
              "        }\n",
              "      </script>\n",
              "    </div>\n",
              "  </div>\n",
              "  "
            ]
          },
          "metadata": {},
          "execution_count": 135
        }
      ]
    },
    {
      "cell_type": "code",
      "source": [
        "# now drop columns\n",
        "df_1=df_1.drop(['tweets_on_that_day'], axis=1)"
      ],
      "metadata": {
        "id": "Lq_5F7AvPF8P"
      },
      "execution_count": null,
      "outputs": []
    },
    {
      "cell_type": "code",
      "source": [
        "df_1.head()\n"
      ],
      "metadata": {
        "colab": {
          "base_uri": "https://localhost:8080/",
          "height": 204
        },
        "id": "bSkM_6_XPMUP",
        "outputId": "bc247a64-d2c7-4b22-fd6d-6a73b6767484"
      },
      "execution_count": null,
      "outputs": [
        {
          "output_type": "execute_result",
          "data": {
            "text/plain": [
              "         Date  SA\n",
              "0  2022-04-02   0\n",
              "1  2022-04-01   0\n",
              "2  2022-03-28   0\n",
              "3  2022-03-26   0\n",
              "4  2022-03-25   0"
            ],
            "text/html": [
              "\n",
              "  <div id=\"df-eee255bb-cb52-4e29-96be-8978aab4b561\">\n",
              "    <div class=\"colab-df-container\">\n",
              "      <div>\n",
              "<style scoped>\n",
              "    .dataframe tbody tr th:only-of-type {\n",
              "        vertical-align: middle;\n",
              "    }\n",
              "\n",
              "    .dataframe tbody tr th {\n",
              "        vertical-align: top;\n",
              "    }\n",
              "\n",
              "    .dataframe thead th {\n",
              "        text-align: right;\n",
              "    }\n",
              "</style>\n",
              "<table border=\"1\" class=\"dataframe\">\n",
              "  <thead>\n",
              "    <tr style=\"text-align: right;\">\n",
              "      <th></th>\n",
              "      <th>Date</th>\n",
              "      <th>SA</th>\n",
              "    </tr>\n",
              "  </thead>\n",
              "  <tbody>\n",
              "    <tr>\n",
              "      <th>0</th>\n",
              "      <td>2022-04-02</td>\n",
              "      <td>0</td>\n",
              "    </tr>\n",
              "    <tr>\n",
              "      <th>1</th>\n",
              "      <td>2022-04-01</td>\n",
              "      <td>0</td>\n",
              "    </tr>\n",
              "    <tr>\n",
              "      <th>2</th>\n",
              "      <td>2022-03-28</td>\n",
              "      <td>0</td>\n",
              "    </tr>\n",
              "    <tr>\n",
              "      <th>3</th>\n",
              "      <td>2022-03-26</td>\n",
              "      <td>0</td>\n",
              "    </tr>\n",
              "    <tr>\n",
              "      <th>4</th>\n",
              "      <td>2022-03-25</td>\n",
              "      <td>0</td>\n",
              "    </tr>\n",
              "  </tbody>\n",
              "</table>\n",
              "</div>\n",
              "      <button class=\"colab-df-convert\" onclick=\"convertToInteractive('df-eee255bb-cb52-4e29-96be-8978aab4b561')\"\n",
              "              title=\"Convert this dataframe to an interactive table.\"\n",
              "              style=\"display:none;\">\n",
              "        \n",
              "  <svg xmlns=\"http://www.w3.org/2000/svg\" height=\"24px\"viewBox=\"0 0 24 24\"\n",
              "       width=\"24px\">\n",
              "    <path d=\"M0 0h24v24H0V0z\" fill=\"none\"/>\n",
              "    <path d=\"M18.56 5.44l.94 2.06.94-2.06 2.06-.94-2.06-.94-.94-2.06-.94 2.06-2.06.94zm-11 1L8.5 8.5l.94-2.06 2.06-.94-2.06-.94L8.5 2.5l-.94 2.06-2.06.94zm10 10l.94 2.06.94-2.06 2.06-.94-2.06-.94-.94-2.06-.94 2.06-2.06.94z\"/><path d=\"M17.41 7.96l-1.37-1.37c-.4-.4-.92-.59-1.43-.59-.52 0-1.04.2-1.43.59L10.3 9.45l-7.72 7.72c-.78.78-.78 2.05 0 2.83L4 21.41c.39.39.9.59 1.41.59.51 0 1.02-.2 1.41-.59l7.78-7.78 2.81-2.81c.8-.78.8-2.07 0-2.86zM5.41 20L4 18.59l7.72-7.72 1.47 1.35L5.41 20z\"/>\n",
              "  </svg>\n",
              "      </button>\n",
              "      \n",
              "  <style>\n",
              "    .colab-df-container {\n",
              "      display:flex;\n",
              "      flex-wrap:wrap;\n",
              "      gap: 12px;\n",
              "    }\n",
              "\n",
              "    .colab-df-convert {\n",
              "      background-color: #E8F0FE;\n",
              "      border: none;\n",
              "      border-radius: 50%;\n",
              "      cursor: pointer;\n",
              "      display: none;\n",
              "      fill: #1967D2;\n",
              "      height: 32px;\n",
              "      padding: 0 0 0 0;\n",
              "      width: 32px;\n",
              "    }\n",
              "\n",
              "    .colab-df-convert:hover {\n",
              "      background-color: #E2EBFA;\n",
              "      box-shadow: 0px 1px 2px rgba(60, 64, 67, 0.3), 0px 1px 3px 1px rgba(60, 64, 67, 0.15);\n",
              "      fill: #174EA6;\n",
              "    }\n",
              "\n",
              "    [theme=dark] .colab-df-convert {\n",
              "      background-color: #3B4455;\n",
              "      fill: #D2E3FC;\n",
              "    }\n",
              "\n",
              "    [theme=dark] .colab-df-convert:hover {\n",
              "      background-color: #434B5C;\n",
              "      box-shadow: 0px 1px 3px 1px rgba(0, 0, 0, 0.15);\n",
              "      filter: drop-shadow(0px 1px 2px rgba(0, 0, 0, 0.3));\n",
              "      fill: #FFFFFF;\n",
              "    }\n",
              "  </style>\n",
              "\n",
              "      <script>\n",
              "        const buttonEl =\n",
              "          document.querySelector('#df-eee255bb-cb52-4e29-96be-8978aab4b561 button.colab-df-convert');\n",
              "        buttonEl.style.display =\n",
              "          google.colab.kernel.accessAllowed ? 'block' : 'none';\n",
              "\n",
              "        async function convertToInteractive(key) {\n",
              "          const element = document.querySelector('#df-eee255bb-cb52-4e29-96be-8978aab4b561');\n",
              "          const dataTable =\n",
              "            await google.colab.kernel.invokeFunction('convertToInteractive',\n",
              "                                                     [key], {});\n",
              "          if (!dataTable) return;\n",
              "\n",
              "          const docLinkHtml = 'Like what you see? Visit the ' +\n",
              "            '<a target=\"_blank\" href=https://colab.research.google.com/notebooks/data_table.ipynb>data table notebook</a>'\n",
              "            + ' to learn more about interactive tables.';\n",
              "          element.innerHTML = '';\n",
              "          dataTable['output_type'] = 'display_data';\n",
              "          await google.colab.output.renderOutput(dataTable, element);\n",
              "          const docLink = document.createElement('div');\n",
              "          docLink.innerHTML = docLinkHtml;\n",
              "          element.appendChild(docLink);\n",
              "        }\n",
              "      </script>\n",
              "    </div>\n",
              "  </div>\n",
              "  "
            ]
          },
          "metadata": {},
          "execution_count": 137
        }
      ]
    },
    {
      "cell_type": "code",
      "source": [
        "from google.colab import drive\n",
        "drive.mount('/content/drive')"
      ],
      "metadata": {
        "id": "rBwKOiJzKpd9",
        "colab": {
          "base_uri": "https://localhost:8080/"
        },
        "outputId": "2312c808-5165-44c6-e190-edd73747ae4f"
      },
      "execution_count": null,
      "outputs": [
        {
          "output_type": "stream",
          "name": "stdout",
          "text": [
            "Drive already mounted at /content/drive; to attempt to forcibly remount, call drive.mount(\"/content/drive\", force_remount=True).\n"
          ]
        }
      ]
    },
    {
      "cell_type": "code",
      "source": [
        "import pandas as pd\n",
        "data_1 = pd.read_csv('/content/TSLAHistData.csv')\n",
        "data_1.head()"
      ],
      "metadata": {
        "colab": {
          "base_uri": "https://localhost:8080/",
          "height": 204
        },
        "id": "T0iI48apKrmr",
        "outputId": "8ad62f39-802a-4f2f-9e3e-784bda2a41b3"
      },
      "execution_count": null,
      "outputs": [
        {
          "output_type": "execute_result",
          "data": {
            "text/plain": [
              "        Date         Open         High          Low        Close    Volume\n",
              "0   1/4/2022  1189.550049  1208.000000  1123.050049  1149.589966  33416100\n",
              "1   1/5/2022  1146.650024  1170.339966  1081.010010  1088.119995  26706600\n",
              "2   1/6/2022  1077.000000  1088.000000  1020.500000  1064.699951  30112200\n",
              "3   1/7/2022  1080.369995  1080.930054  1010.000000  1026.959961  28054900\n",
              "4  1/10/2022  1000.000000  1059.099976   980.000000  1058.119995  30605000"
            ],
            "text/html": [
              "\n",
              "  <div id=\"df-80575365-33b1-47b6-a62c-9563ac86fdd6\">\n",
              "    <div class=\"colab-df-container\">\n",
              "      <div>\n",
              "<style scoped>\n",
              "    .dataframe tbody tr th:only-of-type {\n",
              "        vertical-align: middle;\n",
              "    }\n",
              "\n",
              "    .dataframe tbody tr th {\n",
              "        vertical-align: top;\n",
              "    }\n",
              "\n",
              "    .dataframe thead th {\n",
              "        text-align: right;\n",
              "    }\n",
              "</style>\n",
              "<table border=\"1\" class=\"dataframe\">\n",
              "  <thead>\n",
              "    <tr style=\"text-align: right;\">\n",
              "      <th></th>\n",
              "      <th>Date</th>\n",
              "      <th>Open</th>\n",
              "      <th>High</th>\n",
              "      <th>Low</th>\n",
              "      <th>Close</th>\n",
              "      <th>Volume</th>\n",
              "    </tr>\n",
              "  </thead>\n",
              "  <tbody>\n",
              "    <tr>\n",
              "      <th>0</th>\n",
              "      <td>1/4/2022</td>\n",
              "      <td>1189.550049</td>\n",
              "      <td>1208.000000</td>\n",
              "      <td>1123.050049</td>\n",
              "      <td>1149.589966</td>\n",
              "      <td>33416100</td>\n",
              "    </tr>\n",
              "    <tr>\n",
              "      <th>1</th>\n",
              "      <td>1/5/2022</td>\n",
              "      <td>1146.650024</td>\n",
              "      <td>1170.339966</td>\n",
              "      <td>1081.010010</td>\n",
              "      <td>1088.119995</td>\n",
              "      <td>26706600</td>\n",
              "    </tr>\n",
              "    <tr>\n",
              "      <th>2</th>\n",
              "      <td>1/6/2022</td>\n",
              "      <td>1077.000000</td>\n",
              "      <td>1088.000000</td>\n",
              "      <td>1020.500000</td>\n",
              "      <td>1064.699951</td>\n",
              "      <td>30112200</td>\n",
              "    </tr>\n",
              "    <tr>\n",
              "      <th>3</th>\n",
              "      <td>1/7/2022</td>\n",
              "      <td>1080.369995</td>\n",
              "      <td>1080.930054</td>\n",
              "      <td>1010.000000</td>\n",
              "      <td>1026.959961</td>\n",
              "      <td>28054900</td>\n",
              "    </tr>\n",
              "    <tr>\n",
              "      <th>4</th>\n",
              "      <td>1/10/2022</td>\n",
              "      <td>1000.000000</td>\n",
              "      <td>1059.099976</td>\n",
              "      <td>980.000000</td>\n",
              "      <td>1058.119995</td>\n",
              "      <td>30605000</td>\n",
              "    </tr>\n",
              "  </tbody>\n",
              "</table>\n",
              "</div>\n",
              "      <button class=\"colab-df-convert\" onclick=\"convertToInteractive('df-80575365-33b1-47b6-a62c-9563ac86fdd6')\"\n",
              "              title=\"Convert this dataframe to an interactive table.\"\n",
              "              style=\"display:none;\">\n",
              "        \n",
              "  <svg xmlns=\"http://www.w3.org/2000/svg\" height=\"24px\"viewBox=\"0 0 24 24\"\n",
              "       width=\"24px\">\n",
              "    <path d=\"M0 0h24v24H0V0z\" fill=\"none\"/>\n",
              "    <path d=\"M18.56 5.44l.94 2.06.94-2.06 2.06-.94-2.06-.94-.94-2.06-.94 2.06-2.06.94zm-11 1L8.5 8.5l.94-2.06 2.06-.94-2.06-.94L8.5 2.5l-.94 2.06-2.06.94zm10 10l.94 2.06.94-2.06 2.06-.94-2.06-.94-.94-2.06-.94 2.06-2.06.94z\"/><path d=\"M17.41 7.96l-1.37-1.37c-.4-.4-.92-.59-1.43-.59-.52 0-1.04.2-1.43.59L10.3 9.45l-7.72 7.72c-.78.78-.78 2.05 0 2.83L4 21.41c.39.39.9.59 1.41.59.51 0 1.02-.2 1.41-.59l7.78-7.78 2.81-2.81c.8-.78.8-2.07 0-2.86zM5.41 20L4 18.59l7.72-7.72 1.47 1.35L5.41 20z\"/>\n",
              "  </svg>\n",
              "      </button>\n",
              "      \n",
              "  <style>\n",
              "    .colab-df-container {\n",
              "      display:flex;\n",
              "      flex-wrap:wrap;\n",
              "      gap: 12px;\n",
              "    }\n",
              "\n",
              "    .colab-df-convert {\n",
              "      background-color: #E8F0FE;\n",
              "      border: none;\n",
              "      border-radius: 50%;\n",
              "      cursor: pointer;\n",
              "      display: none;\n",
              "      fill: #1967D2;\n",
              "      height: 32px;\n",
              "      padding: 0 0 0 0;\n",
              "      width: 32px;\n",
              "    }\n",
              "\n",
              "    .colab-df-convert:hover {\n",
              "      background-color: #E2EBFA;\n",
              "      box-shadow: 0px 1px 2px rgba(60, 64, 67, 0.3), 0px 1px 3px 1px rgba(60, 64, 67, 0.15);\n",
              "      fill: #174EA6;\n",
              "    }\n",
              "\n",
              "    [theme=dark] .colab-df-convert {\n",
              "      background-color: #3B4455;\n",
              "      fill: #D2E3FC;\n",
              "    }\n",
              "\n",
              "    [theme=dark] .colab-df-convert:hover {\n",
              "      background-color: #434B5C;\n",
              "      box-shadow: 0px 1px 3px 1px rgba(0, 0, 0, 0.15);\n",
              "      filter: drop-shadow(0px 1px 2px rgba(0, 0, 0, 0.3));\n",
              "      fill: #FFFFFF;\n",
              "    }\n",
              "  </style>\n",
              "\n",
              "      <script>\n",
              "        const buttonEl =\n",
              "          document.querySelector('#df-80575365-33b1-47b6-a62c-9563ac86fdd6 button.colab-df-convert');\n",
              "        buttonEl.style.display =\n",
              "          google.colab.kernel.accessAllowed ? 'block' : 'none';\n",
              "\n",
              "        async function convertToInteractive(key) {\n",
              "          const element = document.querySelector('#df-80575365-33b1-47b6-a62c-9563ac86fdd6');\n",
              "          const dataTable =\n",
              "            await google.colab.kernel.invokeFunction('convertToInteractive',\n",
              "                                                     [key], {});\n",
              "          if (!dataTable) return;\n",
              "\n",
              "          const docLinkHtml = 'Like what you see? Visit the ' +\n",
              "            '<a target=\"_blank\" href=https://colab.research.google.com/notebooks/data_table.ipynb>data table notebook</a>'\n",
              "            + ' to learn more about interactive tables.';\n",
              "          element.innerHTML = '';\n",
              "          dataTable['output_type'] = 'display_data';\n",
              "          await google.colab.output.renderOutput(dataTable, element);\n",
              "          const docLink = document.createElement('div');\n",
              "          docLink.innerHTML = docLinkHtml;\n",
              "          element.appendChild(docLink);\n",
              "        }\n",
              "      </script>\n",
              "    </div>\n",
              "  </div>\n",
              "  "
            ]
          },
          "metadata": {},
          "execution_count": 139
        }
      ]
    },
    {
      "cell_type": "code",
      "source": [
        "from datetime import datetime\n",
        "l=[]\n",
        "for i in range(len(data_1)):\n",
        "    l.append(datetime.strptime(data_1.Date[i].split(\" \")[0].strip(), '%m/%d/%Y').strftime('%Y-%m-%d'))\n",
        "data_1[\"Date\"]=l"
      ],
      "metadata": {
        "id": "9bf9h9XGRxcl"
      },
      "execution_count": null,
      "outputs": []
    },
    {
      "cell_type": "code",
      "source": [
        "data_1.head()"
      ],
      "metadata": {
        "colab": {
          "base_uri": "https://localhost:8080/",
          "height": 204
        },
        "id": "_s9LcDFER03R",
        "outputId": "d14db91c-74b0-4835-aa16-75d7c05f91af"
      },
      "execution_count": null,
      "outputs": [
        {
          "output_type": "execute_result",
          "data": {
            "text/plain": [
              "         Date         Open         High          Low        Close    Volume\n",
              "0  2022-01-04  1189.550049  1208.000000  1123.050049  1149.589966  33416100\n",
              "1  2022-01-05  1146.650024  1170.339966  1081.010010  1088.119995  26706600\n",
              "2  2022-01-06  1077.000000  1088.000000  1020.500000  1064.699951  30112200\n",
              "3  2022-01-07  1080.369995  1080.930054  1010.000000  1026.959961  28054900\n",
              "4  2022-01-10  1000.000000  1059.099976   980.000000  1058.119995  30605000"
            ],
            "text/html": [
              "\n",
              "  <div id=\"df-23184372-5826-454d-b716-fb40ea4fe4ae\">\n",
              "    <div class=\"colab-df-container\">\n",
              "      <div>\n",
              "<style scoped>\n",
              "    .dataframe tbody tr th:only-of-type {\n",
              "        vertical-align: middle;\n",
              "    }\n",
              "\n",
              "    .dataframe tbody tr th {\n",
              "        vertical-align: top;\n",
              "    }\n",
              "\n",
              "    .dataframe thead th {\n",
              "        text-align: right;\n",
              "    }\n",
              "</style>\n",
              "<table border=\"1\" class=\"dataframe\">\n",
              "  <thead>\n",
              "    <tr style=\"text-align: right;\">\n",
              "      <th></th>\n",
              "      <th>Date</th>\n",
              "      <th>Open</th>\n",
              "      <th>High</th>\n",
              "      <th>Low</th>\n",
              "      <th>Close</th>\n",
              "      <th>Volume</th>\n",
              "    </tr>\n",
              "  </thead>\n",
              "  <tbody>\n",
              "    <tr>\n",
              "      <th>0</th>\n",
              "      <td>2022-01-04</td>\n",
              "      <td>1189.550049</td>\n",
              "      <td>1208.000000</td>\n",
              "      <td>1123.050049</td>\n",
              "      <td>1149.589966</td>\n",
              "      <td>33416100</td>\n",
              "    </tr>\n",
              "    <tr>\n",
              "      <th>1</th>\n",
              "      <td>2022-01-05</td>\n",
              "      <td>1146.650024</td>\n",
              "      <td>1170.339966</td>\n",
              "      <td>1081.010010</td>\n",
              "      <td>1088.119995</td>\n",
              "      <td>26706600</td>\n",
              "    </tr>\n",
              "    <tr>\n",
              "      <th>2</th>\n",
              "      <td>2022-01-06</td>\n",
              "      <td>1077.000000</td>\n",
              "      <td>1088.000000</td>\n",
              "      <td>1020.500000</td>\n",
              "      <td>1064.699951</td>\n",
              "      <td>30112200</td>\n",
              "    </tr>\n",
              "    <tr>\n",
              "      <th>3</th>\n",
              "      <td>2022-01-07</td>\n",
              "      <td>1080.369995</td>\n",
              "      <td>1080.930054</td>\n",
              "      <td>1010.000000</td>\n",
              "      <td>1026.959961</td>\n",
              "      <td>28054900</td>\n",
              "    </tr>\n",
              "    <tr>\n",
              "      <th>4</th>\n",
              "      <td>2022-01-10</td>\n",
              "      <td>1000.000000</td>\n",
              "      <td>1059.099976</td>\n",
              "      <td>980.000000</td>\n",
              "      <td>1058.119995</td>\n",
              "      <td>30605000</td>\n",
              "    </tr>\n",
              "  </tbody>\n",
              "</table>\n",
              "</div>\n",
              "      <button class=\"colab-df-convert\" onclick=\"convertToInteractive('df-23184372-5826-454d-b716-fb40ea4fe4ae')\"\n",
              "              title=\"Convert this dataframe to an interactive table.\"\n",
              "              style=\"display:none;\">\n",
              "        \n",
              "  <svg xmlns=\"http://www.w3.org/2000/svg\" height=\"24px\"viewBox=\"0 0 24 24\"\n",
              "       width=\"24px\">\n",
              "    <path d=\"M0 0h24v24H0V0z\" fill=\"none\"/>\n",
              "    <path d=\"M18.56 5.44l.94 2.06.94-2.06 2.06-.94-2.06-.94-.94-2.06-.94 2.06-2.06.94zm-11 1L8.5 8.5l.94-2.06 2.06-.94-2.06-.94L8.5 2.5l-.94 2.06-2.06.94zm10 10l.94 2.06.94-2.06 2.06-.94-2.06-.94-.94-2.06-.94 2.06-2.06.94z\"/><path d=\"M17.41 7.96l-1.37-1.37c-.4-.4-.92-.59-1.43-.59-.52 0-1.04.2-1.43.59L10.3 9.45l-7.72 7.72c-.78.78-.78 2.05 0 2.83L4 21.41c.39.39.9.59 1.41.59.51 0 1.02-.2 1.41-.59l7.78-7.78 2.81-2.81c.8-.78.8-2.07 0-2.86zM5.41 20L4 18.59l7.72-7.72 1.47 1.35L5.41 20z\"/>\n",
              "  </svg>\n",
              "      </button>\n",
              "      \n",
              "  <style>\n",
              "    .colab-df-container {\n",
              "      display:flex;\n",
              "      flex-wrap:wrap;\n",
              "      gap: 12px;\n",
              "    }\n",
              "\n",
              "    .colab-df-convert {\n",
              "      background-color: #E8F0FE;\n",
              "      border: none;\n",
              "      border-radius: 50%;\n",
              "      cursor: pointer;\n",
              "      display: none;\n",
              "      fill: #1967D2;\n",
              "      height: 32px;\n",
              "      padding: 0 0 0 0;\n",
              "      width: 32px;\n",
              "    }\n",
              "\n",
              "    .colab-df-convert:hover {\n",
              "      background-color: #E2EBFA;\n",
              "      box-shadow: 0px 1px 2px rgba(60, 64, 67, 0.3), 0px 1px 3px 1px rgba(60, 64, 67, 0.15);\n",
              "      fill: #174EA6;\n",
              "    }\n",
              "\n",
              "    [theme=dark] .colab-df-convert {\n",
              "      background-color: #3B4455;\n",
              "      fill: #D2E3FC;\n",
              "    }\n",
              "\n",
              "    [theme=dark] .colab-df-convert:hover {\n",
              "      background-color: #434B5C;\n",
              "      box-shadow: 0px 1px 3px 1px rgba(0, 0, 0, 0.15);\n",
              "      filter: drop-shadow(0px 1px 2px rgba(0, 0, 0, 0.3));\n",
              "      fill: #FFFFFF;\n",
              "    }\n",
              "  </style>\n",
              "\n",
              "      <script>\n",
              "        const buttonEl =\n",
              "          document.querySelector('#df-23184372-5826-454d-b716-fb40ea4fe4ae button.colab-df-convert');\n",
              "        buttonEl.style.display =\n",
              "          google.colab.kernel.accessAllowed ? 'block' : 'none';\n",
              "\n",
              "        async function convertToInteractive(key) {\n",
              "          const element = document.querySelector('#df-23184372-5826-454d-b716-fb40ea4fe4ae');\n",
              "          const dataTable =\n",
              "            await google.colab.kernel.invokeFunction('convertToInteractive',\n",
              "                                                     [key], {});\n",
              "          if (!dataTable) return;\n",
              "\n",
              "          const docLinkHtml = 'Like what you see? Visit the ' +\n",
              "            '<a target=\"_blank\" href=https://colab.research.google.com/notebooks/data_table.ipynb>data table notebook</a>'\n",
              "            + ' to learn more about interactive tables.';\n",
              "          element.innerHTML = '';\n",
              "          dataTable['output_type'] = 'display_data';\n",
              "          await google.colab.output.renderOutput(dataTable, element);\n",
              "          const docLink = document.createElement('div');\n",
              "          docLink.innerHTML = docLinkHtml;\n",
              "          element.appendChild(docLink);\n",
              "        }\n",
              "      </script>\n",
              "    </div>\n",
              "  </div>\n",
              "  "
            ]
          },
          "metadata": {},
          "execution_count": 141
        }
      ]
    },
    {
      "cell_type": "markdown",
      "source": [
        "**Merge NEWS data with Stock data**\n",
        "\n",
        "Collect stock data from google finance API with NASDAQ stock market in- dex. Now search stock values of Facebook and merge them according to their date to get the actual training set.We used right join and then assign NA values to zero because it represents that their are no tweets on that day.So sentimental value is zero.\n"
      ],
      "metadata": {
        "id": "X8Y4HoO1IXVK"
      }
    },
    {
      "cell_type": "code",
      "source": [
        "df2 = df_1.merge(data_1,on=\"Date\",how=\"right\")\n",
        "df2=df2.fillna(0)\n",
        "df2=df2.sort_values(by=['Date'])\n",
        "df2=df2.reset_index()\n",
        "df2=df2.drop(['index'], axis=1)\n",
        "\n"
      ],
      "metadata": {
        "id": "UmFDxsj_R5mc"
      },
      "execution_count": null,
      "outputs": []
    },
    {
      "cell_type": "code",
      "source": [
        "df2.tail()"
      ],
      "metadata": {
        "colab": {
          "base_uri": "https://localhost:8080/",
          "height": 204
        },
        "id": "FlgFoWpwR82q",
        "outputId": "0c79e1a5-73bc-4e44-e546-93b5029c9515"
      },
      "execution_count": null,
      "outputs": [
        {
          "output_type": "execute_result",
          "data": {
            "text/plain": [
              "          Date   SA         Open         High          Low        Close  \\\n",
              "57  2022-03-28  0.0  1065.099976  1097.880005  1053.599976  1091.839966   \n",
              "58  2022-03-29  0.0  1107.989990  1114.770020  1073.109985  1099.569946   \n",
              "59  2022-03-30  0.0  1091.170044  1113.949951  1084.000000  1093.989990   \n",
              "60  2022-03-31  0.0  1094.569946  1103.140015  1076.640015  1077.599976   \n",
              "61  2022-04-01  0.0  1081.150024  1094.750000  1066.640015  1084.589966   \n",
              "\n",
              "      Volume  \n",
              "57  34168700  \n",
              "58  24538300  \n",
              "59  19955000  \n",
              "60  16330900  \n",
              "61  18012900  "
            ],
            "text/html": [
              "\n",
              "  <div id=\"df-cd8b2837-f5b3-420e-a547-2fa872218734\">\n",
              "    <div class=\"colab-df-container\">\n",
              "      <div>\n",
              "<style scoped>\n",
              "    .dataframe tbody tr th:only-of-type {\n",
              "        vertical-align: middle;\n",
              "    }\n",
              "\n",
              "    .dataframe tbody tr th {\n",
              "        vertical-align: top;\n",
              "    }\n",
              "\n",
              "    .dataframe thead th {\n",
              "        text-align: right;\n",
              "    }\n",
              "</style>\n",
              "<table border=\"1\" class=\"dataframe\">\n",
              "  <thead>\n",
              "    <tr style=\"text-align: right;\">\n",
              "      <th></th>\n",
              "      <th>Date</th>\n",
              "      <th>SA</th>\n",
              "      <th>Open</th>\n",
              "      <th>High</th>\n",
              "      <th>Low</th>\n",
              "      <th>Close</th>\n",
              "      <th>Volume</th>\n",
              "    </tr>\n",
              "  </thead>\n",
              "  <tbody>\n",
              "    <tr>\n",
              "      <th>57</th>\n",
              "      <td>2022-03-28</td>\n",
              "      <td>0.0</td>\n",
              "      <td>1065.099976</td>\n",
              "      <td>1097.880005</td>\n",
              "      <td>1053.599976</td>\n",
              "      <td>1091.839966</td>\n",
              "      <td>34168700</td>\n",
              "    </tr>\n",
              "    <tr>\n",
              "      <th>58</th>\n",
              "      <td>2022-03-29</td>\n",
              "      <td>0.0</td>\n",
              "      <td>1107.989990</td>\n",
              "      <td>1114.770020</td>\n",
              "      <td>1073.109985</td>\n",
              "      <td>1099.569946</td>\n",
              "      <td>24538300</td>\n",
              "    </tr>\n",
              "    <tr>\n",
              "      <th>59</th>\n",
              "      <td>2022-03-30</td>\n",
              "      <td>0.0</td>\n",
              "      <td>1091.170044</td>\n",
              "      <td>1113.949951</td>\n",
              "      <td>1084.000000</td>\n",
              "      <td>1093.989990</td>\n",
              "      <td>19955000</td>\n",
              "    </tr>\n",
              "    <tr>\n",
              "      <th>60</th>\n",
              "      <td>2022-03-31</td>\n",
              "      <td>0.0</td>\n",
              "      <td>1094.569946</td>\n",
              "      <td>1103.140015</td>\n",
              "      <td>1076.640015</td>\n",
              "      <td>1077.599976</td>\n",
              "      <td>16330900</td>\n",
              "    </tr>\n",
              "    <tr>\n",
              "      <th>61</th>\n",
              "      <td>2022-04-01</td>\n",
              "      <td>0.0</td>\n",
              "      <td>1081.150024</td>\n",
              "      <td>1094.750000</td>\n",
              "      <td>1066.640015</td>\n",
              "      <td>1084.589966</td>\n",
              "      <td>18012900</td>\n",
              "    </tr>\n",
              "  </tbody>\n",
              "</table>\n",
              "</div>\n",
              "      <button class=\"colab-df-convert\" onclick=\"convertToInteractive('df-cd8b2837-f5b3-420e-a547-2fa872218734')\"\n",
              "              title=\"Convert this dataframe to an interactive table.\"\n",
              "              style=\"display:none;\">\n",
              "        \n",
              "  <svg xmlns=\"http://www.w3.org/2000/svg\" height=\"24px\"viewBox=\"0 0 24 24\"\n",
              "       width=\"24px\">\n",
              "    <path d=\"M0 0h24v24H0V0z\" fill=\"none\"/>\n",
              "    <path d=\"M18.56 5.44l.94 2.06.94-2.06 2.06-.94-2.06-.94-.94-2.06-.94 2.06-2.06.94zm-11 1L8.5 8.5l.94-2.06 2.06-.94-2.06-.94L8.5 2.5l-.94 2.06-2.06.94zm10 10l.94 2.06.94-2.06 2.06-.94-2.06-.94-.94-2.06-.94 2.06-2.06.94z\"/><path d=\"M17.41 7.96l-1.37-1.37c-.4-.4-.92-.59-1.43-.59-.52 0-1.04.2-1.43.59L10.3 9.45l-7.72 7.72c-.78.78-.78 2.05 0 2.83L4 21.41c.39.39.9.59 1.41.59.51 0 1.02-.2 1.41-.59l7.78-7.78 2.81-2.81c.8-.78.8-2.07 0-2.86zM5.41 20L4 18.59l7.72-7.72 1.47 1.35L5.41 20z\"/>\n",
              "  </svg>\n",
              "      </button>\n",
              "      \n",
              "  <style>\n",
              "    .colab-df-container {\n",
              "      display:flex;\n",
              "      flex-wrap:wrap;\n",
              "      gap: 12px;\n",
              "    }\n",
              "\n",
              "    .colab-df-convert {\n",
              "      background-color: #E8F0FE;\n",
              "      border: none;\n",
              "      border-radius: 50%;\n",
              "      cursor: pointer;\n",
              "      display: none;\n",
              "      fill: #1967D2;\n",
              "      height: 32px;\n",
              "      padding: 0 0 0 0;\n",
              "      width: 32px;\n",
              "    }\n",
              "\n",
              "    .colab-df-convert:hover {\n",
              "      background-color: #E2EBFA;\n",
              "      box-shadow: 0px 1px 2px rgba(60, 64, 67, 0.3), 0px 1px 3px 1px rgba(60, 64, 67, 0.15);\n",
              "      fill: #174EA6;\n",
              "    }\n",
              "\n",
              "    [theme=dark] .colab-df-convert {\n",
              "      background-color: #3B4455;\n",
              "      fill: #D2E3FC;\n",
              "    }\n",
              "\n",
              "    [theme=dark] .colab-df-convert:hover {\n",
              "      background-color: #434B5C;\n",
              "      box-shadow: 0px 1px 3px 1px rgba(0, 0, 0, 0.15);\n",
              "      filter: drop-shadow(0px 1px 2px rgba(0, 0, 0, 0.3));\n",
              "      fill: #FFFFFF;\n",
              "    }\n",
              "  </style>\n",
              "\n",
              "      <script>\n",
              "        const buttonEl =\n",
              "          document.querySelector('#df-cd8b2837-f5b3-420e-a547-2fa872218734 button.colab-df-convert');\n",
              "        buttonEl.style.display =\n",
              "          google.colab.kernel.accessAllowed ? 'block' : 'none';\n",
              "\n",
              "        async function convertToInteractive(key) {\n",
              "          const element = document.querySelector('#df-cd8b2837-f5b3-420e-a547-2fa872218734');\n",
              "          const dataTable =\n",
              "            await google.colab.kernel.invokeFunction('convertToInteractive',\n",
              "                                                     [key], {});\n",
              "          if (!dataTable) return;\n",
              "\n",
              "          const docLinkHtml = 'Like what you see? Visit the ' +\n",
              "            '<a target=\"_blank\" href=https://colab.research.google.com/notebooks/data_table.ipynb>data table notebook</a>'\n",
              "            + ' to learn more about interactive tables.';\n",
              "          element.innerHTML = '';\n",
              "          dataTable['output_type'] = 'display_data';\n",
              "          await google.colab.output.renderOutput(dataTable, element);\n",
              "          const docLink = document.createElement('div');\n",
              "          docLink.innerHTML = docLinkHtml;\n",
              "          element.appendChild(docLink);\n",
              "        }\n",
              "      </script>\n",
              "    </div>\n",
              "  </div>\n",
              "  "
            ]
          },
          "metadata": {},
          "execution_count": 143
        }
      ]
    },
    {
      "cell_type": "markdown",
      "source": [
        "# **EDA**\n",
        "\n",
        "**Variable Identification**\n",
        "\n",
        "First find out dependent and independent variables that input features and output features.Next,identify the data type and category of the variables.\n",
        "Target label is Volume\n",
        "Input variables are Open,Close,High,Low,SA.\n",
        "\n",
        "\n",
        "# **Univariate Analysis**\n",
        "\n",
        "Explore attributes one by one.Method to perform uni-variate analysis will depend on whether the variable type is categorical or continuous.First check for null values and here we have no missing values.For continuous vari- ables we have centraltendency(mean,mode,median etc)and spread of the vari- able(range,Quartile,IQR etc) and Visualization using Histogram and Box Plot."
      ],
      "metadata": {
        "id": "VnRZM-j9EwSH"
      }
    },
    {
      "cell_type": "code",
      "source": [
        "from pandas import Series, DataFrame\n",
        "import seaborn as sns\n",
        "from scipy.stats import norm\n",
        "from scipy import stats\n",
        "import warnings\n",
        "warnings.filterwarnings('ignore')\n",
        "%matplotlib inline"
      ],
      "metadata": {
        "id": "_CtjV08-E-rI"
      },
      "execution_count": null,
      "outputs": []
    },
    {
      "cell_type": "code",
      "source": [
        "df2.dtypes"
      ],
      "metadata": {
        "colab": {
          "base_uri": "https://localhost:8080/"
        },
        "id": "tASyrFmPFBUf",
        "outputId": "cca4ae9e-a58c-4181-c185-f8de9b53a67a"
      },
      "execution_count": null,
      "outputs": [
        {
          "output_type": "execute_result",
          "data": {
            "text/plain": [
              "Date       object\n",
              "SA        float64\n",
              "Open      float64\n",
              "High      float64\n",
              "Low       float64\n",
              "Close     float64\n",
              "Volume      int64\n",
              "dtype: object"
            ]
          },
          "metadata": {},
          "execution_count": 145
        }
      ]
    },
    {
      "cell_type": "code",
      "source": [
        "data_1.isnull().sum()     # No missing values"
      ],
      "metadata": {
        "colab": {
          "base_uri": "https://localhost:8080/"
        },
        "id": "RhAlgGLFFEEf",
        "outputId": "c1fadd68-8500-4a7a-d34b-5112aa193be2"
      },
      "execution_count": null,
      "outputs": [
        {
          "output_type": "execute_result",
          "data": {
            "text/plain": [
              "Date      0\n",
              "Open      0\n",
              "High      0\n",
              "Low       0\n",
              "Close     0\n",
              "Volume    0\n",
              "dtype: int64"
            ]
          },
          "metadata": {},
          "execution_count": 146
        }
      ]
    },
    {
      "cell_type": "code",
      "source": [
        "!pip install chart_studio\n",
        "import chart_studio.plotly as py\n",
        "import plotly.graph_objs as go\n",
        "\n",
        "\n",
        "trace0 = go.Box(\n",
        "    y =df2[\"Open\"],\n",
        "    name = \"All Points\",\n",
        "    jitter = 0.3,\n",
        "    pointpos = -1.8,\n",
        "    boxpoints = 'all',\n",
        "    marker = dict(\n",
        "        color = 'rgb(7,40,89)'),\n",
        "    line = dict(\n",
        "        color = 'rgb(7,40,89)')\n",
        ")\n",
        "\n",
        "trace1 = go.Box(\n",
        "    y = df2[\"Open\"],\n",
        "    name = \"Only Whiskers\",\n",
        "    boxpoints = False,\n",
        "    marker = dict(\n",
        "        color = 'rgb(9,56,125)'),\n",
        "    line = dict(\n",
        "        color = 'rgb(9,56,125)')\n",
        ")\n",
        "\n",
        "trace2 = go.Box(\n",
        "    y = df2[\"Open\"],\n",
        "    name = \"Suspected Outliers\",\n",
        "    boxpoints = 'suspectedoutliers',\n",
        "    marker = dict(\n",
        "        color = 'rgb(8,81,156)',\n",
        "        outliercolor = 'rgba(219, 64, 82, 0.6)',\n",
        "        line = dict(\n",
        "            outliercolor = 'rgba(219, 64, 82, 0.6)',\n",
        "            outlierwidth = 2)),\n",
        "    line = dict(\n",
        "        color = 'rgb(8,81,156)')\n",
        ")\n",
        "\n",
        "trace3 = go.Box(\n",
        "    y = df2[\"Open\"],\n",
        "    name = \"Whiskers and Outliers\",\n",
        "    boxpoints = 'outliers',\n",
        "    marker = dict(\n",
        "        color = 'rgb(107,174,214)'),\n",
        "    line = dict(\n",
        "        color = 'rgb(107,174,214)')\n",
        ")\n",
        "\n",
        "data = [trace0,trace1,trace2,trace3]\n",
        "\n",
        "layout = go.Layout(\n",
        "    title = \"Box Plot Styling Outliers for Attribute Open\"\n",
        ")\n",
        "\n",
        "fig = go.Figure(data=data,layout=layout)\n",
        "fig.show(filename = \"Box Plot Styling Outliers for Attribute Open\")"
      ],
      "metadata": {
        "colab": {
          "base_uri": "https://localhost:8080/",
          "height": 712
        },
        "id": "5G2MIDU3FILn",
        "outputId": "a96d838c-9d3c-45bb-a135-e264be331d4a"
      },
      "execution_count": null,
      "outputs": [
        {
          "output_type": "stream",
          "name": "stdout",
          "text": [
            "Requirement already satisfied: chart_studio in /usr/local/lib/python3.7/dist-packages (1.1.0)\n",
            "Requirement already satisfied: requests in /usr/local/lib/python3.7/dist-packages (from chart_studio) (2.23.0)\n",
            "Requirement already satisfied: six in /usr/local/lib/python3.7/dist-packages (from chart_studio) (1.15.0)\n",
            "Requirement already satisfied: plotly in /usr/local/lib/python3.7/dist-packages (from chart_studio) (5.5.0)\n",
            "Requirement already satisfied: retrying>=1.3.3 in /usr/local/lib/python3.7/dist-packages (from chart_studio) (1.3.3)\n",
            "Requirement already satisfied: tenacity>=6.2.0 in /usr/local/lib/python3.7/dist-packages (from plotly->chart_studio) (8.0.1)\n",
            "Requirement already satisfied: urllib3!=1.25.0,!=1.25.1,<1.26,>=1.21.1 in /usr/local/lib/python3.7/dist-packages (from requests->chart_studio) (1.24.3)\n",
            "Requirement already satisfied: idna<3,>=2.5 in /usr/local/lib/python3.7/dist-packages (from requests->chart_studio) (2.10)\n",
            "Requirement already satisfied: certifi>=2017.4.17 in /usr/local/lib/python3.7/dist-packages (from requests->chart_studio) (2021.10.8)\n",
            "Requirement already satisfied: chardet<4,>=3.0.2 in /usr/local/lib/python3.7/dist-packages (from requests->chart_studio) (3.0.4)\n"
          ]
        },
        {
          "output_type": "display_data",
          "data": {
            "text/html": [
              "<html>\n",
              "<head><meta charset=\"utf-8\" /></head>\n",
              "<body>\n",
              "    <div>            <script src=\"https://cdnjs.cloudflare.com/ajax/libs/mathjax/2.7.5/MathJax.js?config=TeX-AMS-MML_SVG\"></script><script type=\"text/javascript\">if (window.MathJax) {MathJax.Hub.Config({SVG: {font: \"STIX-Web\"}});}</script>                <script type=\"text/javascript\">window.PlotlyConfig = {MathJaxConfig: 'local'};</script>\n",
              "        <script src=\"https://cdn.plot.ly/plotly-2.8.3.min.js\"></script>                <div id=\"b9c00e94-2725-4fad-abd9-794372513e4c\" class=\"plotly-graph-div\" style=\"height:525px; width:100%;\"></div>            <script type=\"text/javascript\">                                    window.PLOTLYENV=window.PLOTLYENV || {};                                    if (document.getElementById(\"b9c00e94-2725-4fad-abd9-794372513e4c\")) {                    Plotly.newPlot(                        \"b9c00e94-2725-4fad-abd9-794372513e4c\",                        [{\"boxpoints\":\"all\",\"jitter\":0.3,\"line\":{\"color\":\"rgb(7,40,89)\"},\"marker\":{\"color\":\"rgb(7,40,89)\"},\"name\":\"All Points\",\"pointpos\":-1.8,\"y\":[1189.550049,1146.650024,1077.0,1080.369995,1000.0,1053.670044,1078.849976,1109.069946,1019.880005,1026.609985,1041.709961,1009.72998,996.340027,904.76001,914.200012,952.429993,933.359985,831.559998,872.710022,935.210022,928.179993,882.0,897.219971,923.789978,905.530029,935.0,908.369995,909.630005,861.570007,900.0,914.049988,913.26001,886.0,834.130005,830.429993,700.390015,809.22998,815.01001,869.679993,872.130005,878.77002,849.099976,856.299988,795.530029,839.47998,851.450012,840.200012,780.609985,775.27002,809.0,830.98999,874.48999,914.97998,930.0,979.940002,1009.72998,1008.0,1065.099976,1107.98999,1091.170044,1094.569946,1081.150024],\"type\":\"box\"},{\"boxpoints\":false,\"line\":{\"color\":\"rgb(9,56,125)\"},\"marker\":{\"color\":\"rgb(9,56,125)\"},\"name\":\"Only Whiskers\",\"y\":[1189.550049,1146.650024,1077.0,1080.369995,1000.0,1053.670044,1078.849976,1109.069946,1019.880005,1026.609985,1041.709961,1009.72998,996.340027,904.76001,914.200012,952.429993,933.359985,831.559998,872.710022,935.210022,928.179993,882.0,897.219971,923.789978,905.530029,935.0,908.369995,909.630005,861.570007,900.0,914.049988,913.26001,886.0,834.130005,830.429993,700.390015,809.22998,815.01001,869.679993,872.130005,878.77002,849.099976,856.299988,795.530029,839.47998,851.450012,840.200012,780.609985,775.27002,809.0,830.98999,874.48999,914.97998,930.0,979.940002,1009.72998,1008.0,1065.099976,1107.98999,1091.170044,1094.569946,1081.150024],\"type\":\"box\"},{\"boxpoints\":\"suspectedoutliers\",\"line\":{\"color\":\"rgb(8,81,156)\"},\"marker\":{\"color\":\"rgb(8,81,156)\",\"line\":{\"outliercolor\":\"rgba(219, 64, 82, 0.6)\",\"outlierwidth\":2},\"outliercolor\":\"rgba(219, 64, 82, 0.6)\"},\"name\":\"Suspected Outliers\",\"y\":[1189.550049,1146.650024,1077.0,1080.369995,1000.0,1053.670044,1078.849976,1109.069946,1019.880005,1026.609985,1041.709961,1009.72998,996.340027,904.76001,914.200012,952.429993,933.359985,831.559998,872.710022,935.210022,928.179993,882.0,897.219971,923.789978,905.530029,935.0,908.369995,909.630005,861.570007,900.0,914.049988,913.26001,886.0,834.130005,830.429993,700.390015,809.22998,815.01001,869.679993,872.130005,878.77002,849.099976,856.299988,795.530029,839.47998,851.450012,840.200012,780.609985,775.27002,809.0,830.98999,874.48999,914.97998,930.0,979.940002,1009.72998,1008.0,1065.099976,1107.98999,1091.170044,1094.569946,1081.150024],\"type\":\"box\"},{\"boxpoints\":\"outliers\",\"line\":{\"color\":\"rgb(107,174,214)\"},\"marker\":{\"color\":\"rgb(107,174,214)\"},\"name\":\"Whiskers and Outliers\",\"y\":[1189.550049,1146.650024,1077.0,1080.369995,1000.0,1053.670044,1078.849976,1109.069946,1019.880005,1026.609985,1041.709961,1009.72998,996.340027,904.76001,914.200012,952.429993,933.359985,831.559998,872.710022,935.210022,928.179993,882.0,897.219971,923.789978,905.530029,935.0,908.369995,909.630005,861.570007,900.0,914.049988,913.26001,886.0,834.130005,830.429993,700.390015,809.22998,815.01001,869.679993,872.130005,878.77002,849.099976,856.299988,795.530029,839.47998,851.450012,840.200012,780.609985,775.27002,809.0,830.98999,874.48999,914.97998,930.0,979.940002,1009.72998,1008.0,1065.099976,1107.98999,1091.170044,1094.569946,1081.150024],\"type\":\"box\"}],                        {\"title\":{\"text\":\"Box Plot Styling Outliers for Attribute Open\"},\"template\":{\"data\":{\"bar\":[{\"error_x\":{\"color\":\"#2a3f5f\"},\"error_y\":{\"color\":\"#2a3f5f\"},\"marker\":{\"line\":{\"color\":\"#E5ECF6\",\"width\":0.5},\"pattern\":{\"fillmode\":\"overlay\",\"size\":10,\"solidity\":0.2}},\"type\":\"bar\"}],\"barpolar\":[{\"marker\":{\"line\":{\"color\":\"#E5ECF6\",\"width\":0.5},\"pattern\":{\"fillmode\":\"overlay\",\"size\":10,\"solidity\":0.2}},\"type\":\"barpolar\"}],\"carpet\":[{\"aaxis\":{\"endlinecolor\":\"#2a3f5f\",\"gridcolor\":\"white\",\"linecolor\":\"white\",\"minorgridcolor\":\"white\",\"startlinecolor\":\"#2a3f5f\"},\"baxis\":{\"endlinecolor\":\"#2a3f5f\",\"gridcolor\":\"white\",\"linecolor\":\"white\",\"minorgridcolor\":\"white\",\"startlinecolor\":\"#2a3f5f\"},\"type\":\"carpet\"}],\"choropleth\":[{\"colorbar\":{\"outlinewidth\":0,\"ticks\":\"\"},\"type\":\"choropleth\"}],\"contour\":[{\"colorbar\":{\"outlinewidth\":0,\"ticks\":\"\"},\"colorscale\":[[0.0,\"#0d0887\"],[0.1111111111111111,\"#46039f\"],[0.2222222222222222,\"#7201a8\"],[0.3333333333333333,\"#9c179e\"],[0.4444444444444444,\"#bd3786\"],[0.5555555555555556,\"#d8576b\"],[0.6666666666666666,\"#ed7953\"],[0.7777777777777778,\"#fb9f3a\"],[0.8888888888888888,\"#fdca26\"],[1.0,\"#f0f921\"]],\"type\":\"contour\"}],\"contourcarpet\":[{\"colorbar\":{\"outlinewidth\":0,\"ticks\":\"\"},\"type\":\"contourcarpet\"}],\"heatmap\":[{\"colorbar\":{\"outlinewidth\":0,\"ticks\":\"\"},\"colorscale\":[[0.0,\"#0d0887\"],[0.1111111111111111,\"#46039f\"],[0.2222222222222222,\"#7201a8\"],[0.3333333333333333,\"#9c179e\"],[0.4444444444444444,\"#bd3786\"],[0.5555555555555556,\"#d8576b\"],[0.6666666666666666,\"#ed7953\"],[0.7777777777777778,\"#fb9f3a\"],[0.8888888888888888,\"#fdca26\"],[1.0,\"#f0f921\"]],\"type\":\"heatmap\"}],\"heatmapgl\":[{\"colorbar\":{\"outlinewidth\":0,\"ticks\":\"\"},\"colorscale\":[[0.0,\"#0d0887\"],[0.1111111111111111,\"#46039f\"],[0.2222222222222222,\"#7201a8\"],[0.3333333333333333,\"#9c179e\"],[0.4444444444444444,\"#bd3786\"],[0.5555555555555556,\"#d8576b\"],[0.6666666666666666,\"#ed7953\"],[0.7777777777777778,\"#fb9f3a\"],[0.8888888888888888,\"#fdca26\"],[1.0,\"#f0f921\"]],\"type\":\"heatmapgl\"}],\"histogram\":[{\"marker\":{\"pattern\":{\"fillmode\":\"overlay\",\"size\":10,\"solidity\":0.2}},\"type\":\"histogram\"}],\"histogram2d\":[{\"colorbar\":{\"outlinewidth\":0,\"ticks\":\"\"},\"colorscale\":[[0.0,\"#0d0887\"],[0.1111111111111111,\"#46039f\"],[0.2222222222222222,\"#7201a8\"],[0.3333333333333333,\"#9c179e\"],[0.4444444444444444,\"#bd3786\"],[0.5555555555555556,\"#d8576b\"],[0.6666666666666666,\"#ed7953\"],[0.7777777777777778,\"#fb9f3a\"],[0.8888888888888888,\"#fdca26\"],[1.0,\"#f0f921\"]],\"type\":\"histogram2d\"}],\"histogram2dcontour\":[{\"colorbar\":{\"outlinewidth\":0,\"ticks\":\"\"},\"colorscale\":[[0.0,\"#0d0887\"],[0.1111111111111111,\"#46039f\"],[0.2222222222222222,\"#7201a8\"],[0.3333333333333333,\"#9c179e\"],[0.4444444444444444,\"#bd3786\"],[0.5555555555555556,\"#d8576b\"],[0.6666666666666666,\"#ed7953\"],[0.7777777777777778,\"#fb9f3a\"],[0.8888888888888888,\"#fdca26\"],[1.0,\"#f0f921\"]],\"type\":\"histogram2dcontour\"}],\"mesh3d\":[{\"colorbar\":{\"outlinewidth\":0,\"ticks\":\"\"},\"type\":\"mesh3d\"}],\"parcoords\":[{\"line\":{\"colorbar\":{\"outlinewidth\":0,\"ticks\":\"\"}},\"type\":\"parcoords\"}],\"pie\":[{\"automargin\":true,\"type\":\"pie\"}],\"scatter\":[{\"marker\":{\"colorbar\":{\"outlinewidth\":0,\"ticks\":\"\"}},\"type\":\"scatter\"}],\"scatter3d\":[{\"line\":{\"colorbar\":{\"outlinewidth\":0,\"ticks\":\"\"}},\"marker\":{\"colorbar\":{\"outlinewidth\":0,\"ticks\":\"\"}},\"type\":\"scatter3d\"}],\"scattercarpet\":[{\"marker\":{\"colorbar\":{\"outlinewidth\":0,\"ticks\":\"\"}},\"type\":\"scattercarpet\"}],\"scattergeo\":[{\"marker\":{\"colorbar\":{\"outlinewidth\":0,\"ticks\":\"\"}},\"type\":\"scattergeo\"}],\"scattergl\":[{\"marker\":{\"colorbar\":{\"outlinewidth\":0,\"ticks\":\"\"}},\"type\":\"scattergl\"}],\"scattermapbox\":[{\"marker\":{\"colorbar\":{\"outlinewidth\":0,\"ticks\":\"\"}},\"type\":\"scattermapbox\"}],\"scatterpolar\":[{\"marker\":{\"colorbar\":{\"outlinewidth\":0,\"ticks\":\"\"}},\"type\":\"scatterpolar\"}],\"scatterpolargl\":[{\"marker\":{\"colorbar\":{\"outlinewidth\":0,\"ticks\":\"\"}},\"type\":\"scatterpolargl\"}],\"scatterternary\":[{\"marker\":{\"colorbar\":{\"outlinewidth\":0,\"ticks\":\"\"}},\"type\":\"scatterternary\"}],\"surface\":[{\"colorbar\":{\"outlinewidth\":0,\"ticks\":\"\"},\"colorscale\":[[0.0,\"#0d0887\"],[0.1111111111111111,\"#46039f\"],[0.2222222222222222,\"#7201a8\"],[0.3333333333333333,\"#9c179e\"],[0.4444444444444444,\"#bd3786\"],[0.5555555555555556,\"#d8576b\"],[0.6666666666666666,\"#ed7953\"],[0.7777777777777778,\"#fb9f3a\"],[0.8888888888888888,\"#fdca26\"],[1.0,\"#f0f921\"]],\"type\":\"surface\"}],\"table\":[{\"cells\":{\"fill\":{\"color\":\"#EBF0F8\"},\"line\":{\"color\":\"white\"}},\"header\":{\"fill\":{\"color\":\"#C8D4E3\"},\"line\":{\"color\":\"white\"}},\"type\":\"table\"}]},\"layout\":{\"annotationdefaults\":{\"arrowcolor\":\"#2a3f5f\",\"arrowhead\":0,\"arrowwidth\":1},\"autotypenumbers\":\"strict\",\"coloraxis\":{\"colorbar\":{\"outlinewidth\":0,\"ticks\":\"\"}},\"colorscale\":{\"diverging\":[[0,\"#8e0152\"],[0.1,\"#c51b7d\"],[0.2,\"#de77ae\"],[0.3,\"#f1b6da\"],[0.4,\"#fde0ef\"],[0.5,\"#f7f7f7\"],[0.6,\"#e6f5d0\"],[0.7,\"#b8e186\"],[0.8,\"#7fbc41\"],[0.9,\"#4d9221\"],[1,\"#276419\"]],\"sequential\":[[0.0,\"#0d0887\"],[0.1111111111111111,\"#46039f\"],[0.2222222222222222,\"#7201a8\"],[0.3333333333333333,\"#9c179e\"],[0.4444444444444444,\"#bd3786\"],[0.5555555555555556,\"#d8576b\"],[0.6666666666666666,\"#ed7953\"],[0.7777777777777778,\"#fb9f3a\"],[0.8888888888888888,\"#fdca26\"],[1.0,\"#f0f921\"]],\"sequentialminus\":[[0.0,\"#0d0887\"],[0.1111111111111111,\"#46039f\"],[0.2222222222222222,\"#7201a8\"],[0.3333333333333333,\"#9c179e\"],[0.4444444444444444,\"#bd3786\"],[0.5555555555555556,\"#d8576b\"],[0.6666666666666666,\"#ed7953\"],[0.7777777777777778,\"#fb9f3a\"],[0.8888888888888888,\"#fdca26\"],[1.0,\"#f0f921\"]]},\"colorway\":[\"#636efa\",\"#EF553B\",\"#00cc96\",\"#ab63fa\",\"#FFA15A\",\"#19d3f3\",\"#FF6692\",\"#B6E880\",\"#FF97FF\",\"#FECB52\"],\"font\":{\"color\":\"#2a3f5f\"},\"geo\":{\"bgcolor\":\"white\",\"lakecolor\":\"white\",\"landcolor\":\"#E5ECF6\",\"showlakes\":true,\"showland\":true,\"subunitcolor\":\"white\"},\"hoverlabel\":{\"align\":\"left\"},\"hovermode\":\"closest\",\"mapbox\":{\"style\":\"light\"},\"paper_bgcolor\":\"white\",\"plot_bgcolor\":\"#E5ECF6\",\"polar\":{\"angularaxis\":{\"gridcolor\":\"white\",\"linecolor\":\"white\",\"ticks\":\"\"},\"bgcolor\":\"#E5ECF6\",\"radialaxis\":{\"gridcolor\":\"white\",\"linecolor\":\"white\",\"ticks\":\"\"}},\"scene\":{\"xaxis\":{\"backgroundcolor\":\"#E5ECF6\",\"gridcolor\":\"white\",\"gridwidth\":2,\"linecolor\":\"white\",\"showbackground\":true,\"ticks\":\"\",\"zerolinecolor\":\"white\"},\"yaxis\":{\"backgroundcolor\":\"#E5ECF6\",\"gridcolor\":\"white\",\"gridwidth\":2,\"linecolor\":\"white\",\"showbackground\":true,\"ticks\":\"\",\"zerolinecolor\":\"white\"},\"zaxis\":{\"backgroundcolor\":\"#E5ECF6\",\"gridcolor\":\"white\",\"gridwidth\":2,\"linecolor\":\"white\",\"showbackground\":true,\"ticks\":\"\",\"zerolinecolor\":\"white\"}},\"shapedefaults\":{\"line\":{\"color\":\"#2a3f5f\"}},\"ternary\":{\"aaxis\":{\"gridcolor\":\"white\",\"linecolor\":\"white\",\"ticks\":\"\"},\"baxis\":{\"gridcolor\":\"white\",\"linecolor\":\"white\",\"ticks\":\"\"},\"bgcolor\":\"#E5ECF6\",\"caxis\":{\"gridcolor\":\"white\",\"linecolor\":\"white\",\"ticks\":\"\"}},\"title\":{\"x\":0.05},\"xaxis\":{\"automargin\":true,\"gridcolor\":\"white\",\"linecolor\":\"white\",\"ticks\":\"\",\"title\":{\"standoff\":15},\"zerolinecolor\":\"white\",\"zerolinewidth\":2},\"yaxis\":{\"automargin\":true,\"gridcolor\":\"white\",\"linecolor\":\"white\",\"ticks\":\"\",\"title\":{\"standoff\":15},\"zerolinecolor\":\"white\",\"zerolinewidth\":2}}}},                        {\"responsive\": true}                    ).then(function(){\n",
              "                            \n",
              "var gd = document.getElementById('b9c00e94-2725-4fad-abd9-794372513e4c');\n",
              "var x = new MutationObserver(function (mutations, observer) {{\n",
              "        var display = window.getComputedStyle(gd).display;\n",
              "        if (!display || display === 'none') {{\n",
              "            console.log([gd, 'removed!']);\n",
              "            Plotly.purge(gd);\n",
              "            observer.disconnect();\n",
              "        }}\n",
              "}});\n",
              "\n",
              "// Listen for the removal of the full notebook cells\n",
              "var notebookContainer = gd.closest('#notebook-container');\n",
              "if (notebookContainer) {{\n",
              "    x.observe(notebookContainer, {childList: true});\n",
              "}}\n",
              "\n",
              "// Listen for the clearing of the current output cell\n",
              "var outputEl = gd.closest('.output');\n",
              "if (outputEl) {{\n",
              "    x.observe(outputEl, {childList: true});\n",
              "}}\n",
              "\n",
              "                        })                };                            </script>        </div>\n",
              "</body>\n",
              "</html>"
            ]
          },
          "metadata": {}
        }
      ]
    },
    {
      "cell_type": "markdown",
      "source": [
        "From the figure we can say that attribute Open is negatively skewed with no outliers.Having maximum value 1189.55 ,third quartile(q3) value 1009.73,median value 913.655 , first quartile (q1) value 856.3 and minimum value 700.39."
      ],
      "metadata": {
        "id": "vjF3zd1JIowb"
      }
    },
    {
      "cell_type": "code",
      "source": [
        "import plotly.graph_objs as go\n",
        "\n",
        "trace0 = go.Box(\n",
        "    y =df2[\"Close\"],\n",
        "    name = \"All Points\",\n",
        "    jitter = 0.3,\n",
        "    pointpos = -1.8,\n",
        "    boxpoints = 'all',\n",
        "    marker = dict(\n",
        "        color = 'rgb(7,40,89)'),\n",
        "    line = dict(\n",
        "        color = 'rgb(7,40,89)')\n",
        ")\n",
        "\n",
        "trace1 = go.Box(\n",
        "    y = df2[\"Close\"],\n",
        "    name = \"Only Whiskers\",\n",
        "    boxpoints = False,\n",
        "    marker = dict(\n",
        "        color = 'rgb(9,56,125)'),\n",
        "    line = dict(\n",
        "        color = 'rgb(9,56,125)')\n",
        ")\n",
        "\n",
        "trace2 = go.Box(\n",
        "    y = df2[\"Close\"],\n",
        "    name = \"Suspected Outliers\",\n",
        "    boxpoints = 'suspectedoutliers',\n",
        "    marker = dict(\n",
        "        color = 'rgb(8,81,156)',\n",
        "        outliercolor = 'rgba(219, 64, 82, 0.6)',\n",
        "        line = dict(\n",
        "            outliercolor = 'rgba(219, 64, 82, 0.6)',\n",
        "            outlierwidth = 2)),\n",
        "    line = dict(\n",
        "        color = 'rgb(8,81,156)')\n",
        ")\n",
        "\n",
        "trace3 = go.Box(\n",
        "    y = df2[\"Close\"],\n",
        "    name = \"Whiskers and Outliers\",\n",
        "    boxpoints = 'outliers',\n",
        "    marker = dict(\n",
        "        color = 'rgb(107,174,214)'),\n",
        "    line = dict(\n",
        "        color = 'rgb(107,174,214)')\n",
        ")\n",
        "\n",
        "data = [trace0,trace1,trace2,trace3]\n",
        "\n",
        "layout = go.Layout(\n",
        "    title = \"Box Plot Styling Outliers for Attribute Close\"\n",
        ")\n",
        "\n",
        "fig = go.Figure(data=data,layout=layout)\n",
        "fig.show(filename = \"Box Plot Styling Outliers for Attribute Close\")\n"
      ],
      "metadata": {
        "colab": {
          "base_uri": "https://localhost:8080/",
          "height": 542
        },
        "id": "xbfT0jEgOFh5",
        "outputId": "d56431a3-0ee5-4cf0-91f0-e3494b0d61dd"
      },
      "execution_count": null,
      "outputs": [
        {
          "output_type": "display_data",
          "data": {
            "text/html": [
              "<html>\n",
              "<head><meta charset=\"utf-8\" /></head>\n",
              "<body>\n",
              "    <div>            <script src=\"https://cdnjs.cloudflare.com/ajax/libs/mathjax/2.7.5/MathJax.js?config=TeX-AMS-MML_SVG\"></script><script type=\"text/javascript\">if (window.MathJax) {MathJax.Hub.Config({SVG: {font: \"STIX-Web\"}});}</script>                <script type=\"text/javascript\">window.PlotlyConfig = {MathJaxConfig: 'local'};</script>\n",
              "        <script src=\"https://cdn.plot.ly/plotly-2.8.3.min.js\"></script>                <div id=\"5f2eb4e1-a57e-4378-976b-66b8c3b887f1\" class=\"plotly-graph-div\" style=\"height:525px; width:100%;\"></div>            <script type=\"text/javascript\">                                    window.PLOTLYENV=window.PLOTLYENV || {};                                    if (document.getElementById(\"5f2eb4e1-a57e-4378-976b-66b8c3b887f1\")) {                    Plotly.newPlot(                        \"5f2eb4e1-a57e-4378-976b-66b8c3b887f1\",                        [{\"boxpoints\":\"all\",\"jitter\":0.3,\"line\":{\"color\":\"rgb(7,40,89)\"},\"marker\":{\"color\":\"rgb(7,40,89)\"},\"name\":\"All Points\",\"pointpos\":-1.8,\"y\":[1149.589966,1088.119995,1064.699951,1026.959961,1058.119995,1064.400024,1106.219971,1031.560059,1049.609985,1030.51001,995.650024,996.27002,943.900024,930.0,918.400024,937.409973,829.099976,846.349976,936.719971,931.25,905.659973,891.140015,923.320007,907.340027,922.0,932.0,904.549988,860.0,875.76001,922.429993,923.390015,876.349976,856.97998,821.530029,764.039978,800.77002,809.869995,870.429993,864.369995,879.890015,839.289978,838.289978,804.580017,824.400024,858.969971,838.299988,795.349976,766.369995,801.890015,840.22998,871.599976,905.390015,921.159973,993.97998,999.109985,1013.919983,1010.640015,1091.839966,1099.569946,1093.98999,1077.599976,1084.589966],\"type\":\"box\"},{\"boxpoints\":false,\"line\":{\"color\":\"rgb(9,56,125)\"},\"marker\":{\"color\":\"rgb(9,56,125)\"},\"name\":\"Only Whiskers\",\"y\":[1149.589966,1088.119995,1064.699951,1026.959961,1058.119995,1064.400024,1106.219971,1031.560059,1049.609985,1030.51001,995.650024,996.27002,943.900024,930.0,918.400024,937.409973,829.099976,846.349976,936.719971,931.25,905.659973,891.140015,923.320007,907.340027,922.0,932.0,904.549988,860.0,875.76001,922.429993,923.390015,876.349976,856.97998,821.530029,764.039978,800.77002,809.869995,870.429993,864.369995,879.890015,839.289978,838.289978,804.580017,824.400024,858.969971,838.299988,795.349976,766.369995,801.890015,840.22998,871.599976,905.390015,921.159973,993.97998,999.109985,1013.919983,1010.640015,1091.839966,1099.569946,1093.98999,1077.599976,1084.589966],\"type\":\"box\"},{\"boxpoints\":\"suspectedoutliers\",\"line\":{\"color\":\"rgb(8,81,156)\"},\"marker\":{\"color\":\"rgb(8,81,156)\",\"line\":{\"outliercolor\":\"rgba(219, 64, 82, 0.6)\",\"outlierwidth\":2},\"outliercolor\":\"rgba(219, 64, 82, 0.6)\"},\"name\":\"Suspected Outliers\",\"y\":[1149.589966,1088.119995,1064.699951,1026.959961,1058.119995,1064.400024,1106.219971,1031.560059,1049.609985,1030.51001,995.650024,996.27002,943.900024,930.0,918.400024,937.409973,829.099976,846.349976,936.719971,931.25,905.659973,891.140015,923.320007,907.340027,922.0,932.0,904.549988,860.0,875.76001,922.429993,923.390015,876.349976,856.97998,821.530029,764.039978,800.77002,809.869995,870.429993,864.369995,879.890015,839.289978,838.289978,804.580017,824.400024,858.969971,838.299988,795.349976,766.369995,801.890015,840.22998,871.599976,905.390015,921.159973,993.97998,999.109985,1013.919983,1010.640015,1091.839966,1099.569946,1093.98999,1077.599976,1084.589966],\"type\":\"box\"},{\"boxpoints\":\"outliers\",\"line\":{\"color\":\"rgb(107,174,214)\"},\"marker\":{\"color\":\"rgb(107,174,214)\"},\"name\":\"Whiskers and Outliers\",\"y\":[1149.589966,1088.119995,1064.699951,1026.959961,1058.119995,1064.400024,1106.219971,1031.560059,1049.609985,1030.51001,995.650024,996.27002,943.900024,930.0,918.400024,937.409973,829.099976,846.349976,936.719971,931.25,905.659973,891.140015,923.320007,907.340027,922.0,932.0,904.549988,860.0,875.76001,922.429993,923.390015,876.349976,856.97998,821.530029,764.039978,800.77002,809.869995,870.429993,864.369995,879.890015,839.289978,838.289978,804.580017,824.400024,858.969971,838.299988,795.349976,766.369995,801.890015,840.22998,871.599976,905.390015,921.159973,993.97998,999.109985,1013.919983,1010.640015,1091.839966,1099.569946,1093.98999,1077.599976,1084.589966],\"type\":\"box\"}],                        {\"title\":{\"text\":\"Box Plot Styling Outliers for Attribute Close\"},\"template\":{\"data\":{\"bar\":[{\"error_x\":{\"color\":\"#2a3f5f\"},\"error_y\":{\"color\":\"#2a3f5f\"},\"marker\":{\"line\":{\"color\":\"#E5ECF6\",\"width\":0.5},\"pattern\":{\"fillmode\":\"overlay\",\"size\":10,\"solidity\":0.2}},\"type\":\"bar\"}],\"barpolar\":[{\"marker\":{\"line\":{\"color\":\"#E5ECF6\",\"width\":0.5},\"pattern\":{\"fillmode\":\"overlay\",\"size\":10,\"solidity\":0.2}},\"type\":\"barpolar\"}],\"carpet\":[{\"aaxis\":{\"endlinecolor\":\"#2a3f5f\",\"gridcolor\":\"white\",\"linecolor\":\"white\",\"minorgridcolor\":\"white\",\"startlinecolor\":\"#2a3f5f\"},\"baxis\":{\"endlinecolor\":\"#2a3f5f\",\"gridcolor\":\"white\",\"linecolor\":\"white\",\"minorgridcolor\":\"white\",\"startlinecolor\":\"#2a3f5f\"},\"type\":\"carpet\"}],\"choropleth\":[{\"colorbar\":{\"outlinewidth\":0,\"ticks\":\"\"},\"type\":\"choropleth\"}],\"contour\":[{\"colorbar\":{\"outlinewidth\":0,\"ticks\":\"\"},\"colorscale\":[[0.0,\"#0d0887\"],[0.1111111111111111,\"#46039f\"],[0.2222222222222222,\"#7201a8\"],[0.3333333333333333,\"#9c179e\"],[0.4444444444444444,\"#bd3786\"],[0.5555555555555556,\"#d8576b\"],[0.6666666666666666,\"#ed7953\"],[0.7777777777777778,\"#fb9f3a\"],[0.8888888888888888,\"#fdca26\"],[1.0,\"#f0f921\"]],\"type\":\"contour\"}],\"contourcarpet\":[{\"colorbar\":{\"outlinewidth\":0,\"ticks\":\"\"},\"type\":\"contourcarpet\"}],\"heatmap\":[{\"colorbar\":{\"outlinewidth\":0,\"ticks\":\"\"},\"colorscale\":[[0.0,\"#0d0887\"],[0.1111111111111111,\"#46039f\"],[0.2222222222222222,\"#7201a8\"],[0.3333333333333333,\"#9c179e\"],[0.4444444444444444,\"#bd3786\"],[0.5555555555555556,\"#d8576b\"],[0.6666666666666666,\"#ed7953\"],[0.7777777777777778,\"#fb9f3a\"],[0.8888888888888888,\"#fdca26\"],[1.0,\"#f0f921\"]],\"type\":\"heatmap\"}],\"heatmapgl\":[{\"colorbar\":{\"outlinewidth\":0,\"ticks\":\"\"},\"colorscale\":[[0.0,\"#0d0887\"],[0.1111111111111111,\"#46039f\"],[0.2222222222222222,\"#7201a8\"],[0.3333333333333333,\"#9c179e\"],[0.4444444444444444,\"#bd3786\"],[0.5555555555555556,\"#d8576b\"],[0.6666666666666666,\"#ed7953\"],[0.7777777777777778,\"#fb9f3a\"],[0.8888888888888888,\"#fdca26\"],[1.0,\"#f0f921\"]],\"type\":\"heatmapgl\"}],\"histogram\":[{\"marker\":{\"pattern\":{\"fillmode\":\"overlay\",\"size\":10,\"solidity\":0.2}},\"type\":\"histogram\"}],\"histogram2d\":[{\"colorbar\":{\"outlinewidth\":0,\"ticks\":\"\"},\"colorscale\":[[0.0,\"#0d0887\"],[0.1111111111111111,\"#46039f\"],[0.2222222222222222,\"#7201a8\"],[0.3333333333333333,\"#9c179e\"],[0.4444444444444444,\"#bd3786\"],[0.5555555555555556,\"#d8576b\"],[0.6666666666666666,\"#ed7953\"],[0.7777777777777778,\"#fb9f3a\"],[0.8888888888888888,\"#fdca26\"],[1.0,\"#f0f921\"]],\"type\":\"histogram2d\"}],\"histogram2dcontour\":[{\"colorbar\":{\"outlinewidth\":0,\"ticks\":\"\"},\"colorscale\":[[0.0,\"#0d0887\"],[0.1111111111111111,\"#46039f\"],[0.2222222222222222,\"#7201a8\"],[0.3333333333333333,\"#9c179e\"],[0.4444444444444444,\"#bd3786\"],[0.5555555555555556,\"#d8576b\"],[0.6666666666666666,\"#ed7953\"],[0.7777777777777778,\"#fb9f3a\"],[0.8888888888888888,\"#fdca26\"],[1.0,\"#f0f921\"]],\"type\":\"histogram2dcontour\"}],\"mesh3d\":[{\"colorbar\":{\"outlinewidth\":0,\"ticks\":\"\"},\"type\":\"mesh3d\"}],\"parcoords\":[{\"line\":{\"colorbar\":{\"outlinewidth\":0,\"ticks\":\"\"}},\"type\":\"parcoords\"}],\"pie\":[{\"automargin\":true,\"type\":\"pie\"}],\"scatter\":[{\"marker\":{\"colorbar\":{\"outlinewidth\":0,\"ticks\":\"\"}},\"type\":\"scatter\"}],\"scatter3d\":[{\"line\":{\"colorbar\":{\"outlinewidth\":0,\"ticks\":\"\"}},\"marker\":{\"colorbar\":{\"outlinewidth\":0,\"ticks\":\"\"}},\"type\":\"scatter3d\"}],\"scattercarpet\":[{\"marker\":{\"colorbar\":{\"outlinewidth\":0,\"ticks\":\"\"}},\"type\":\"scattercarpet\"}],\"scattergeo\":[{\"marker\":{\"colorbar\":{\"outlinewidth\":0,\"ticks\":\"\"}},\"type\":\"scattergeo\"}],\"scattergl\":[{\"marker\":{\"colorbar\":{\"outlinewidth\":0,\"ticks\":\"\"}},\"type\":\"scattergl\"}],\"scattermapbox\":[{\"marker\":{\"colorbar\":{\"outlinewidth\":0,\"ticks\":\"\"}},\"type\":\"scattermapbox\"}],\"scatterpolar\":[{\"marker\":{\"colorbar\":{\"outlinewidth\":0,\"ticks\":\"\"}},\"type\":\"scatterpolar\"}],\"scatterpolargl\":[{\"marker\":{\"colorbar\":{\"outlinewidth\":0,\"ticks\":\"\"}},\"type\":\"scatterpolargl\"}],\"scatterternary\":[{\"marker\":{\"colorbar\":{\"outlinewidth\":0,\"ticks\":\"\"}},\"type\":\"scatterternary\"}],\"surface\":[{\"colorbar\":{\"outlinewidth\":0,\"ticks\":\"\"},\"colorscale\":[[0.0,\"#0d0887\"],[0.1111111111111111,\"#46039f\"],[0.2222222222222222,\"#7201a8\"],[0.3333333333333333,\"#9c179e\"],[0.4444444444444444,\"#bd3786\"],[0.5555555555555556,\"#d8576b\"],[0.6666666666666666,\"#ed7953\"],[0.7777777777777778,\"#fb9f3a\"],[0.8888888888888888,\"#fdca26\"],[1.0,\"#f0f921\"]],\"type\":\"surface\"}],\"table\":[{\"cells\":{\"fill\":{\"color\":\"#EBF0F8\"},\"line\":{\"color\":\"white\"}},\"header\":{\"fill\":{\"color\":\"#C8D4E3\"},\"line\":{\"color\":\"white\"}},\"type\":\"table\"}]},\"layout\":{\"annotationdefaults\":{\"arrowcolor\":\"#2a3f5f\",\"arrowhead\":0,\"arrowwidth\":1},\"autotypenumbers\":\"strict\",\"coloraxis\":{\"colorbar\":{\"outlinewidth\":0,\"ticks\":\"\"}},\"colorscale\":{\"diverging\":[[0,\"#8e0152\"],[0.1,\"#c51b7d\"],[0.2,\"#de77ae\"],[0.3,\"#f1b6da\"],[0.4,\"#fde0ef\"],[0.5,\"#f7f7f7\"],[0.6,\"#e6f5d0\"],[0.7,\"#b8e186\"],[0.8,\"#7fbc41\"],[0.9,\"#4d9221\"],[1,\"#276419\"]],\"sequential\":[[0.0,\"#0d0887\"],[0.1111111111111111,\"#46039f\"],[0.2222222222222222,\"#7201a8\"],[0.3333333333333333,\"#9c179e\"],[0.4444444444444444,\"#bd3786\"],[0.5555555555555556,\"#d8576b\"],[0.6666666666666666,\"#ed7953\"],[0.7777777777777778,\"#fb9f3a\"],[0.8888888888888888,\"#fdca26\"],[1.0,\"#f0f921\"]],\"sequentialminus\":[[0.0,\"#0d0887\"],[0.1111111111111111,\"#46039f\"],[0.2222222222222222,\"#7201a8\"],[0.3333333333333333,\"#9c179e\"],[0.4444444444444444,\"#bd3786\"],[0.5555555555555556,\"#d8576b\"],[0.6666666666666666,\"#ed7953\"],[0.7777777777777778,\"#fb9f3a\"],[0.8888888888888888,\"#fdca26\"],[1.0,\"#f0f921\"]]},\"colorway\":[\"#636efa\",\"#EF553B\",\"#00cc96\",\"#ab63fa\",\"#FFA15A\",\"#19d3f3\",\"#FF6692\",\"#B6E880\",\"#FF97FF\",\"#FECB52\"],\"font\":{\"color\":\"#2a3f5f\"},\"geo\":{\"bgcolor\":\"white\",\"lakecolor\":\"white\",\"landcolor\":\"#E5ECF6\",\"showlakes\":true,\"showland\":true,\"subunitcolor\":\"white\"},\"hoverlabel\":{\"align\":\"left\"},\"hovermode\":\"closest\",\"mapbox\":{\"style\":\"light\"},\"paper_bgcolor\":\"white\",\"plot_bgcolor\":\"#E5ECF6\",\"polar\":{\"angularaxis\":{\"gridcolor\":\"white\",\"linecolor\":\"white\",\"ticks\":\"\"},\"bgcolor\":\"#E5ECF6\",\"radialaxis\":{\"gridcolor\":\"white\",\"linecolor\":\"white\",\"ticks\":\"\"}},\"scene\":{\"xaxis\":{\"backgroundcolor\":\"#E5ECF6\",\"gridcolor\":\"white\",\"gridwidth\":2,\"linecolor\":\"white\",\"showbackground\":true,\"ticks\":\"\",\"zerolinecolor\":\"white\"},\"yaxis\":{\"backgroundcolor\":\"#E5ECF6\",\"gridcolor\":\"white\",\"gridwidth\":2,\"linecolor\":\"white\",\"showbackground\":true,\"ticks\":\"\",\"zerolinecolor\":\"white\"},\"zaxis\":{\"backgroundcolor\":\"#E5ECF6\",\"gridcolor\":\"white\",\"gridwidth\":2,\"linecolor\":\"white\",\"showbackground\":true,\"ticks\":\"\",\"zerolinecolor\":\"white\"}},\"shapedefaults\":{\"line\":{\"color\":\"#2a3f5f\"}},\"ternary\":{\"aaxis\":{\"gridcolor\":\"white\",\"linecolor\":\"white\",\"ticks\":\"\"},\"baxis\":{\"gridcolor\":\"white\",\"linecolor\":\"white\",\"ticks\":\"\"},\"bgcolor\":\"#E5ECF6\",\"caxis\":{\"gridcolor\":\"white\",\"linecolor\":\"white\",\"ticks\":\"\"}},\"title\":{\"x\":0.05},\"xaxis\":{\"automargin\":true,\"gridcolor\":\"white\",\"linecolor\":\"white\",\"ticks\":\"\",\"title\":{\"standoff\":15},\"zerolinecolor\":\"white\",\"zerolinewidth\":2},\"yaxis\":{\"automargin\":true,\"gridcolor\":\"white\",\"linecolor\":\"white\",\"ticks\":\"\",\"title\":{\"standoff\":15},\"zerolinecolor\":\"white\",\"zerolinewidth\":2}}}},                        {\"responsive\": true}                    ).then(function(){\n",
              "                            \n",
              "var gd = document.getElementById('5f2eb4e1-a57e-4378-976b-66b8c3b887f1');\n",
              "var x = new MutationObserver(function (mutations, observer) {{\n",
              "        var display = window.getComputedStyle(gd).display;\n",
              "        if (!display || display === 'none') {{\n",
              "            console.log([gd, 'removed!']);\n",
              "            Plotly.purge(gd);\n",
              "            observer.disconnect();\n",
              "        }}\n",
              "}});\n",
              "\n",
              "// Listen for the removal of the full notebook cells\n",
              "var notebookContainer = gd.closest('#notebook-container');\n",
              "if (notebookContainer) {{\n",
              "    x.observe(notebookContainer, {childList: true});\n",
              "}}\n",
              "\n",
              "// Listen for the clearing of the current output cell\n",
              "var outputEl = gd.closest('.output');\n",
              "if (outputEl) {{\n",
              "    x.observe(outputEl, {childList: true});\n",
              "}}\n",
              "\n",
              "                        })                };                            </script>        </div>\n",
              "</body>\n",
              "</html>"
            ]
          },
          "metadata": {}
        }
      ]
    },
    {
      "cell_type": "markdown",
      "source": [
        "From the figure we can say that attribute Close is negatively skewed with no outliers.Having maximum value 1149.59 ,third quartile(q3) value 1013.92,me- dian value 921.58 , first quartile (q1) value 856.98 and minimum value 764.04."
      ],
      "metadata": {
        "id": "X9QR4ONdJWkb"
      }
    },
    {
      "cell_type": "code",
      "source": [
        "\n",
        "import plotly.graph_objs as go\n",
        "\n",
        "trace0 = go.Box(\n",
        "    y =df2[\"High\"],\n",
        "    name = \"All Points\",\n",
        "    jitter = 0.3,\n",
        "    pointpos = -1.8,\n",
        "    boxpoints = 'all',\n",
        "    marker = dict(\n",
        "        color = 'rgb(7,40,89)'),\n",
        "    line = dict(\n",
        "        color = 'rgb(7,40,89)')\n",
        ")\n",
        "\n",
        "trace1 = go.Box(\n",
        "    y = df2[\"High\"],\n",
        "    name = \"Only Whiskers\",\n",
        "    boxpoints = False,\n",
        "    marker = dict(\n",
        "        color = 'rgb(9,56,125)'),\n",
        "    line = dict(\n",
        "        color = 'rgb(9,56,125)')\n",
        ")\n",
        "\n",
        "trace2 = go.Box(\n",
        "    y = df2[\"High\"],\n",
        "    name = \"Suspected Outliers\",\n",
        "    boxpoints = 'suspectedoutliers',\n",
        "    marker = dict(\n",
        "        color = 'rgb(8,81,156)',\n",
        "        outliercolor = 'rgba(219, 64, 82, 0.6)',\n",
        "        line = dict(\n",
        "            outliercolor = 'rgba(219, 64, 82, 0.6)',\n",
        "            outlierwidth = 2)),\n",
        "    line = dict(\n",
        "        color = 'rgb(8,81,156)')\n",
        ")\n",
        "\n",
        "trace3 = go.Box(\n",
        "    y = df2[\"High\"],\n",
        "    name = \"Whiskers and Outliers\",\n",
        "    boxpoints = 'outliers',\n",
        "    marker = dict(\n",
        "        color = 'rgb(107,174,214)'),\n",
        "    line = dict(\n",
        "        color = 'rgb(107,174,214)')\n",
        ")\n",
        "\n",
        "data = [trace0,trace1,trace2,trace3]\n",
        "\n",
        "layout = go.Layout(\n",
        "    title = \"Box Plot Styling Outliers for Attribute High\"\n",
        ")\n",
        "\n",
        "fig = go.Figure(data=data,layout=layout)\n",
        "fig.show(filename = \"Box Plot Styling Outliers for Attribute High\")\n"
      ],
      "metadata": {
        "colab": {
          "base_uri": "https://localhost:8080/",
          "height": 542
        },
        "id": "Rh1hbC6eOUkQ",
        "outputId": "d92ce294-be05-452e-cebe-c04182a32e75"
      },
      "execution_count": null,
      "outputs": [
        {
          "output_type": "display_data",
          "data": {
            "text/html": [
              "<html>\n",
              "<head><meta charset=\"utf-8\" /></head>\n",
              "<body>\n",
              "    <div>            <script src=\"https://cdnjs.cloudflare.com/ajax/libs/mathjax/2.7.5/MathJax.js?config=TeX-AMS-MML_SVG\"></script><script type=\"text/javascript\">if (window.MathJax) {MathJax.Hub.Config({SVG: {font: \"STIX-Web\"}});}</script>                <script type=\"text/javascript\">window.PlotlyConfig = {MathJaxConfig: 'local'};</script>\n",
              "        <script src=\"https://cdn.plot.ly/plotly-2.8.3.min.js\"></script>                <div id=\"6ccc1952-627c-4490-9b2c-01c7d559dbf0\" class=\"plotly-graph-div\" style=\"height:525px; width:100%;\"></div>            <script type=\"text/javascript\">                                    window.PLOTLYENV=window.PLOTLYENV || {};                                    if (document.getElementById(\"6ccc1952-627c-4490-9b2c-01c7d559dbf0\")) {                    Plotly.newPlot(                        \"6ccc1952-627c-4490-9b2c-01c7d559dbf0\",                        [{\"boxpoints\":\"all\",\"jitter\":0.3,\"line\":{\"color\":\"rgb(7,40,89)\"},\"marker\":{\"color\":\"rgb(7,40,89)\"},\"name\":\"All Points\",\"pointpos\":-1.8,\"y\":[1208.0,1170.339966,1088.0,1080.930054,1059.099976,1075.849976,1114.839966,1115.599976,1052.0,1070.790039,1054.670044,1041.660034,1004.549988,933.51001,951.26001,987.690002,935.390015,857.5,937.98999,943.700012,931.5,937.0,936.5,947.77002,926.289978,946.27002,943.809998,915.960022,898.880005,923.0,926.429993,918.5,886.869995,856.72998,835.299988,802.47998,819.5,876.859985,889.880005,886.47998,886.440002,855.650024,866.140015,849.98999,860.559998,854.450012,843.799988,800.700012,805.570007,842.0,875.0,907.849976,942.849976,997.859985,1040.699951,1024.48999,1021.799988,1097.880005,1114.77002,1113.949951,1103.140015,1094.75],\"type\":\"box\"},{\"boxpoints\":false,\"line\":{\"color\":\"rgb(9,56,125)\"},\"marker\":{\"color\":\"rgb(9,56,125)\"},\"name\":\"Only Whiskers\",\"y\":[1208.0,1170.339966,1088.0,1080.930054,1059.099976,1075.849976,1114.839966,1115.599976,1052.0,1070.790039,1054.670044,1041.660034,1004.549988,933.51001,951.26001,987.690002,935.390015,857.5,937.98999,943.700012,931.5,937.0,936.5,947.77002,926.289978,946.27002,943.809998,915.960022,898.880005,923.0,926.429993,918.5,886.869995,856.72998,835.299988,802.47998,819.5,876.859985,889.880005,886.47998,886.440002,855.650024,866.140015,849.98999,860.559998,854.450012,843.799988,800.700012,805.570007,842.0,875.0,907.849976,942.849976,997.859985,1040.699951,1024.48999,1021.799988,1097.880005,1114.77002,1113.949951,1103.140015,1094.75],\"type\":\"box\"},{\"boxpoints\":\"suspectedoutliers\",\"line\":{\"color\":\"rgb(8,81,156)\"},\"marker\":{\"color\":\"rgb(8,81,156)\",\"line\":{\"outliercolor\":\"rgba(219, 64, 82, 0.6)\",\"outlierwidth\":2},\"outliercolor\":\"rgba(219, 64, 82, 0.6)\"},\"name\":\"Suspected Outliers\",\"y\":[1208.0,1170.339966,1088.0,1080.930054,1059.099976,1075.849976,1114.839966,1115.599976,1052.0,1070.790039,1054.670044,1041.660034,1004.549988,933.51001,951.26001,987.690002,935.390015,857.5,937.98999,943.700012,931.5,937.0,936.5,947.77002,926.289978,946.27002,943.809998,915.960022,898.880005,923.0,926.429993,918.5,886.869995,856.72998,835.299988,802.47998,819.5,876.859985,889.880005,886.47998,886.440002,855.650024,866.140015,849.98999,860.559998,854.450012,843.799988,800.700012,805.570007,842.0,875.0,907.849976,942.849976,997.859985,1040.699951,1024.48999,1021.799988,1097.880005,1114.77002,1113.949951,1103.140015,1094.75],\"type\":\"box\"},{\"boxpoints\":\"outliers\",\"line\":{\"color\":\"rgb(107,174,214)\"},\"marker\":{\"color\":\"rgb(107,174,214)\"},\"name\":\"Whiskers and Outliers\",\"y\":[1208.0,1170.339966,1088.0,1080.930054,1059.099976,1075.849976,1114.839966,1115.599976,1052.0,1070.790039,1054.670044,1041.660034,1004.549988,933.51001,951.26001,987.690002,935.390015,857.5,937.98999,943.700012,931.5,937.0,936.5,947.77002,926.289978,946.27002,943.809998,915.960022,898.880005,923.0,926.429993,918.5,886.869995,856.72998,835.299988,802.47998,819.5,876.859985,889.880005,886.47998,886.440002,855.650024,866.140015,849.98999,860.559998,854.450012,843.799988,800.700012,805.570007,842.0,875.0,907.849976,942.849976,997.859985,1040.699951,1024.48999,1021.799988,1097.880005,1114.77002,1113.949951,1103.140015,1094.75],\"type\":\"box\"}],                        {\"title\":{\"text\":\"Box Plot Styling Outliers for Attribute High\"},\"template\":{\"data\":{\"bar\":[{\"error_x\":{\"color\":\"#2a3f5f\"},\"error_y\":{\"color\":\"#2a3f5f\"},\"marker\":{\"line\":{\"color\":\"#E5ECF6\",\"width\":0.5},\"pattern\":{\"fillmode\":\"overlay\",\"size\":10,\"solidity\":0.2}},\"type\":\"bar\"}],\"barpolar\":[{\"marker\":{\"line\":{\"color\":\"#E5ECF6\",\"width\":0.5},\"pattern\":{\"fillmode\":\"overlay\",\"size\":10,\"solidity\":0.2}},\"type\":\"barpolar\"}],\"carpet\":[{\"aaxis\":{\"endlinecolor\":\"#2a3f5f\",\"gridcolor\":\"white\",\"linecolor\":\"white\",\"minorgridcolor\":\"white\",\"startlinecolor\":\"#2a3f5f\"},\"baxis\":{\"endlinecolor\":\"#2a3f5f\",\"gridcolor\":\"white\",\"linecolor\":\"white\",\"minorgridcolor\":\"white\",\"startlinecolor\":\"#2a3f5f\"},\"type\":\"carpet\"}],\"choropleth\":[{\"colorbar\":{\"outlinewidth\":0,\"ticks\":\"\"},\"type\":\"choropleth\"}],\"contour\":[{\"colorbar\":{\"outlinewidth\":0,\"ticks\":\"\"},\"colorscale\":[[0.0,\"#0d0887\"],[0.1111111111111111,\"#46039f\"],[0.2222222222222222,\"#7201a8\"],[0.3333333333333333,\"#9c179e\"],[0.4444444444444444,\"#bd3786\"],[0.5555555555555556,\"#d8576b\"],[0.6666666666666666,\"#ed7953\"],[0.7777777777777778,\"#fb9f3a\"],[0.8888888888888888,\"#fdca26\"],[1.0,\"#f0f921\"]],\"type\":\"contour\"}],\"contourcarpet\":[{\"colorbar\":{\"outlinewidth\":0,\"ticks\":\"\"},\"type\":\"contourcarpet\"}],\"heatmap\":[{\"colorbar\":{\"outlinewidth\":0,\"ticks\":\"\"},\"colorscale\":[[0.0,\"#0d0887\"],[0.1111111111111111,\"#46039f\"],[0.2222222222222222,\"#7201a8\"],[0.3333333333333333,\"#9c179e\"],[0.4444444444444444,\"#bd3786\"],[0.5555555555555556,\"#d8576b\"],[0.6666666666666666,\"#ed7953\"],[0.7777777777777778,\"#fb9f3a\"],[0.8888888888888888,\"#fdca26\"],[1.0,\"#f0f921\"]],\"type\":\"heatmap\"}],\"heatmapgl\":[{\"colorbar\":{\"outlinewidth\":0,\"ticks\":\"\"},\"colorscale\":[[0.0,\"#0d0887\"],[0.1111111111111111,\"#46039f\"],[0.2222222222222222,\"#7201a8\"],[0.3333333333333333,\"#9c179e\"],[0.4444444444444444,\"#bd3786\"],[0.5555555555555556,\"#d8576b\"],[0.6666666666666666,\"#ed7953\"],[0.7777777777777778,\"#fb9f3a\"],[0.8888888888888888,\"#fdca26\"],[1.0,\"#f0f921\"]],\"type\":\"heatmapgl\"}],\"histogram\":[{\"marker\":{\"pattern\":{\"fillmode\":\"overlay\",\"size\":10,\"solidity\":0.2}},\"type\":\"histogram\"}],\"histogram2d\":[{\"colorbar\":{\"outlinewidth\":0,\"ticks\":\"\"},\"colorscale\":[[0.0,\"#0d0887\"],[0.1111111111111111,\"#46039f\"],[0.2222222222222222,\"#7201a8\"],[0.3333333333333333,\"#9c179e\"],[0.4444444444444444,\"#bd3786\"],[0.5555555555555556,\"#d8576b\"],[0.6666666666666666,\"#ed7953\"],[0.7777777777777778,\"#fb9f3a\"],[0.8888888888888888,\"#fdca26\"],[1.0,\"#f0f921\"]],\"type\":\"histogram2d\"}],\"histogram2dcontour\":[{\"colorbar\":{\"outlinewidth\":0,\"ticks\":\"\"},\"colorscale\":[[0.0,\"#0d0887\"],[0.1111111111111111,\"#46039f\"],[0.2222222222222222,\"#7201a8\"],[0.3333333333333333,\"#9c179e\"],[0.4444444444444444,\"#bd3786\"],[0.5555555555555556,\"#d8576b\"],[0.6666666666666666,\"#ed7953\"],[0.7777777777777778,\"#fb9f3a\"],[0.8888888888888888,\"#fdca26\"],[1.0,\"#f0f921\"]],\"type\":\"histogram2dcontour\"}],\"mesh3d\":[{\"colorbar\":{\"outlinewidth\":0,\"ticks\":\"\"},\"type\":\"mesh3d\"}],\"parcoords\":[{\"line\":{\"colorbar\":{\"outlinewidth\":0,\"ticks\":\"\"}},\"type\":\"parcoords\"}],\"pie\":[{\"automargin\":true,\"type\":\"pie\"}],\"scatter\":[{\"marker\":{\"colorbar\":{\"outlinewidth\":0,\"ticks\":\"\"}},\"type\":\"scatter\"}],\"scatter3d\":[{\"line\":{\"colorbar\":{\"outlinewidth\":0,\"ticks\":\"\"}},\"marker\":{\"colorbar\":{\"outlinewidth\":0,\"ticks\":\"\"}},\"type\":\"scatter3d\"}],\"scattercarpet\":[{\"marker\":{\"colorbar\":{\"outlinewidth\":0,\"ticks\":\"\"}},\"type\":\"scattercarpet\"}],\"scattergeo\":[{\"marker\":{\"colorbar\":{\"outlinewidth\":0,\"ticks\":\"\"}},\"type\":\"scattergeo\"}],\"scattergl\":[{\"marker\":{\"colorbar\":{\"outlinewidth\":0,\"ticks\":\"\"}},\"type\":\"scattergl\"}],\"scattermapbox\":[{\"marker\":{\"colorbar\":{\"outlinewidth\":0,\"ticks\":\"\"}},\"type\":\"scattermapbox\"}],\"scatterpolar\":[{\"marker\":{\"colorbar\":{\"outlinewidth\":0,\"ticks\":\"\"}},\"type\":\"scatterpolar\"}],\"scatterpolargl\":[{\"marker\":{\"colorbar\":{\"outlinewidth\":0,\"ticks\":\"\"}},\"type\":\"scatterpolargl\"}],\"scatterternary\":[{\"marker\":{\"colorbar\":{\"outlinewidth\":0,\"ticks\":\"\"}},\"type\":\"scatterternary\"}],\"surface\":[{\"colorbar\":{\"outlinewidth\":0,\"ticks\":\"\"},\"colorscale\":[[0.0,\"#0d0887\"],[0.1111111111111111,\"#46039f\"],[0.2222222222222222,\"#7201a8\"],[0.3333333333333333,\"#9c179e\"],[0.4444444444444444,\"#bd3786\"],[0.5555555555555556,\"#d8576b\"],[0.6666666666666666,\"#ed7953\"],[0.7777777777777778,\"#fb9f3a\"],[0.8888888888888888,\"#fdca26\"],[1.0,\"#f0f921\"]],\"type\":\"surface\"}],\"table\":[{\"cells\":{\"fill\":{\"color\":\"#EBF0F8\"},\"line\":{\"color\":\"white\"}},\"header\":{\"fill\":{\"color\":\"#C8D4E3\"},\"line\":{\"color\":\"white\"}},\"type\":\"table\"}]},\"layout\":{\"annotationdefaults\":{\"arrowcolor\":\"#2a3f5f\",\"arrowhead\":0,\"arrowwidth\":1},\"autotypenumbers\":\"strict\",\"coloraxis\":{\"colorbar\":{\"outlinewidth\":0,\"ticks\":\"\"}},\"colorscale\":{\"diverging\":[[0,\"#8e0152\"],[0.1,\"#c51b7d\"],[0.2,\"#de77ae\"],[0.3,\"#f1b6da\"],[0.4,\"#fde0ef\"],[0.5,\"#f7f7f7\"],[0.6,\"#e6f5d0\"],[0.7,\"#b8e186\"],[0.8,\"#7fbc41\"],[0.9,\"#4d9221\"],[1,\"#276419\"]],\"sequential\":[[0.0,\"#0d0887\"],[0.1111111111111111,\"#46039f\"],[0.2222222222222222,\"#7201a8\"],[0.3333333333333333,\"#9c179e\"],[0.4444444444444444,\"#bd3786\"],[0.5555555555555556,\"#d8576b\"],[0.6666666666666666,\"#ed7953\"],[0.7777777777777778,\"#fb9f3a\"],[0.8888888888888888,\"#fdca26\"],[1.0,\"#f0f921\"]],\"sequentialminus\":[[0.0,\"#0d0887\"],[0.1111111111111111,\"#46039f\"],[0.2222222222222222,\"#7201a8\"],[0.3333333333333333,\"#9c179e\"],[0.4444444444444444,\"#bd3786\"],[0.5555555555555556,\"#d8576b\"],[0.6666666666666666,\"#ed7953\"],[0.7777777777777778,\"#fb9f3a\"],[0.8888888888888888,\"#fdca26\"],[1.0,\"#f0f921\"]]},\"colorway\":[\"#636efa\",\"#EF553B\",\"#00cc96\",\"#ab63fa\",\"#FFA15A\",\"#19d3f3\",\"#FF6692\",\"#B6E880\",\"#FF97FF\",\"#FECB52\"],\"font\":{\"color\":\"#2a3f5f\"},\"geo\":{\"bgcolor\":\"white\",\"lakecolor\":\"white\",\"landcolor\":\"#E5ECF6\",\"showlakes\":true,\"showland\":true,\"subunitcolor\":\"white\"},\"hoverlabel\":{\"align\":\"left\"},\"hovermode\":\"closest\",\"mapbox\":{\"style\":\"light\"},\"paper_bgcolor\":\"white\",\"plot_bgcolor\":\"#E5ECF6\",\"polar\":{\"angularaxis\":{\"gridcolor\":\"white\",\"linecolor\":\"white\",\"ticks\":\"\"},\"bgcolor\":\"#E5ECF6\",\"radialaxis\":{\"gridcolor\":\"white\",\"linecolor\":\"white\",\"ticks\":\"\"}},\"scene\":{\"xaxis\":{\"backgroundcolor\":\"#E5ECF6\",\"gridcolor\":\"white\",\"gridwidth\":2,\"linecolor\":\"white\",\"showbackground\":true,\"ticks\":\"\",\"zerolinecolor\":\"white\"},\"yaxis\":{\"backgroundcolor\":\"#E5ECF6\",\"gridcolor\":\"white\",\"gridwidth\":2,\"linecolor\":\"white\",\"showbackground\":true,\"ticks\":\"\",\"zerolinecolor\":\"white\"},\"zaxis\":{\"backgroundcolor\":\"#E5ECF6\",\"gridcolor\":\"white\",\"gridwidth\":2,\"linecolor\":\"white\",\"showbackground\":true,\"ticks\":\"\",\"zerolinecolor\":\"white\"}},\"shapedefaults\":{\"line\":{\"color\":\"#2a3f5f\"}},\"ternary\":{\"aaxis\":{\"gridcolor\":\"white\",\"linecolor\":\"white\",\"ticks\":\"\"},\"baxis\":{\"gridcolor\":\"white\",\"linecolor\":\"white\",\"ticks\":\"\"},\"bgcolor\":\"#E5ECF6\",\"caxis\":{\"gridcolor\":\"white\",\"linecolor\":\"white\",\"ticks\":\"\"}},\"title\":{\"x\":0.05},\"xaxis\":{\"automargin\":true,\"gridcolor\":\"white\",\"linecolor\":\"white\",\"ticks\":\"\",\"title\":{\"standoff\":15},\"zerolinecolor\":\"white\",\"zerolinewidth\":2},\"yaxis\":{\"automargin\":true,\"gridcolor\":\"white\",\"linecolor\":\"white\",\"ticks\":\"\",\"title\":{\"standoff\":15},\"zerolinecolor\":\"white\",\"zerolinewidth\":2}}}},                        {\"responsive\": true}                    ).then(function(){\n",
              "                            \n",
              "var gd = document.getElementById('6ccc1952-627c-4490-9b2c-01c7d559dbf0');\n",
              "var x = new MutationObserver(function (mutations, observer) {{\n",
              "        var display = window.getComputedStyle(gd).display;\n",
              "        if (!display || display === 'none') {{\n",
              "            console.log([gd, 'removed!']);\n",
              "            Plotly.purge(gd);\n",
              "            observer.disconnect();\n",
              "        }}\n",
              "}});\n",
              "\n",
              "// Listen for the removal of the full notebook cells\n",
              "var notebookContainer = gd.closest('#notebook-container');\n",
              "if (notebookContainer) {{\n",
              "    x.observe(notebookContainer, {childList: true});\n",
              "}}\n",
              "\n",
              "// Listen for the clearing of the current output cell\n",
              "var outputEl = gd.closest('.output');\n",
              "if (outputEl) {{\n",
              "    x.observe(outputEl, {childList: true});\n",
              "}}\n",
              "\n",
              "                        })                };                            </script>        </div>\n",
              "</body>\n",
              "</html>"
            ]
          },
          "metadata": {}
        }
      ]
    },
    {
      "cell_type": "markdown",
      "source": [
        "From the figure we can say that attribute High is negatively skewed with no outliers.Having maximum value 1208 ,third quartile(q3) value 1052,median value 936.75 , first quartile (q1) value 876.86 and minimum value 800.7."
      ],
      "metadata": {
        "id": "n19zS8TbJ1iU"
      }
    },
    {
      "cell_type": "code",
      "source": [
        "import plotly.graph_objs as go\n",
        "\n",
        "trace0 = go.Box(\n",
        "    y =df2[\"Low\"],\n",
        "    name = \"All Points\",\n",
        "    jitter = 0.3,\n",
        "    pointpos = -1.8,\n",
        "    boxpoints = 'all',\n",
        "    marker = dict(\n",
        "        color = 'rgb(7,40,89)'),\n",
        "    line = dict(\n",
        "        color = 'rgb(7,40,89)')\n",
        ")\n",
        "\n",
        "trace1 = go.Box(\n",
        "    y = df2[\"Low\"],\n",
        "    name = \"Only Whiskers\",\n",
        "    boxpoints = False,\n",
        "    marker = dict(\n",
        "        color = 'rgb(9,56,125)'),\n",
        "    line = dict(\n",
        "        color = 'rgb(9,56,125)')\n",
        ")\n",
        "\n",
        "trace2 = go.Box(\n",
        "    y = df2[\"Low\"],\n",
        "    name = \"Suspected Outliers\",\n",
        "    boxpoints = 'suspectedoutliers',\n",
        "    marker = dict(\n",
        "        color = 'rgb(8,81,156)',\n",
        "        outliercolor = 'rgba(219, 64, 82, 0.6)',\n",
        "        line = dict(\n",
        "            outliercolor = 'rgba(219, 64, 82, 0.6)',\n",
        "            outlierwidth = 2)),\n",
        "    line = dict(\n",
        "        color = 'rgb(8,81,156)')\n",
        ")\n",
        "\n",
        "trace3 = go.Box(\n",
        "    y = df2[\"Low\"],\n",
        "    name = \"Whiskers and Outliers\",\n",
        "    boxpoints = 'outliers',\n",
        "    marker = dict(\n",
        "        color = 'rgb(107,174,214)'),\n",
        "    line = dict(\n",
        "        color = 'rgb(107,174,214)')\n",
        ")\n",
        "\n",
        "data = [trace0,trace1,trace2,trace3]\n",
        "\n",
        "layout = go.Layout(\n",
        "    title = \"Box Plot Styling Outliers for Attribute Low\"\n",
        ")\n",
        "\n",
        "fig = go.Figure(data=data,layout=layout)\n",
        "fig.show(filename = \"Box Plot Styling Outliers for Attribute Low\")\n"
      ],
      "metadata": {
        "colab": {
          "base_uri": "https://localhost:8080/",
          "height": 542
        },
        "id": "2OTsWl3ROm4Y",
        "outputId": "e082d131-41d7-493a-a327-e9f2b8c29f4a"
      },
      "execution_count": null,
      "outputs": [
        {
          "output_type": "display_data",
          "data": {
            "text/html": [
              "<html>\n",
              "<head><meta charset=\"utf-8\" /></head>\n",
              "<body>\n",
              "    <div>            <script src=\"https://cdnjs.cloudflare.com/ajax/libs/mathjax/2.7.5/MathJax.js?config=TeX-AMS-MML_SVG\"></script><script type=\"text/javascript\">if (window.MathJax) {MathJax.Hub.Config({SVG: {font: \"STIX-Web\"}});}</script>                <script type=\"text/javascript\">window.PlotlyConfig = {MathJaxConfig: 'local'};</script>\n",
              "        <script src=\"https://cdn.plot.ly/plotly-2.8.3.min.js\"></script>                <div id=\"a69755bf-0f4a-44ec-b8f3-0da1e5d46958\" class=\"plotly-graph-div\" style=\"height:525px; width:100%;\"></div>            <script type=\"text/javascript\">                                    window.PLOTLYENV=window.PLOTLYENV || {};                                    if (document.getElementById(\"a69755bf-0f4a-44ec-b8f3-0da1e5d46958\")) {                    Plotly.newPlot(                        \"a69755bf-0f4a-44ec-b8f3-0da1e5d46958\",                        [{\"boxpoints\":\"all\",\"jitter\":0.3,\"line\":{\"color\":\"rgb(7,40,89)\"},\"marker\":{\"color\":\"rgb(7,40,89)\"},\"name\":\"All Points\",\"pointpos\":-1.8,\"y\":[1123.050049,1081.01001,1020.5,1010.0,980.0,1038.819946,1072.589966,1026.540039,1013.380005,1016.059998,995.0,994.0,940.5,851.469971,903.210022,906.0,829.0,792.01001,862.049988,905.0,889.409973,880.52002,881.169983,902.710022,894.799988,920.0,896.700012,850.700012,853.150024,893.380005,901.210022,874.099976,837.609985,801.099976,760.559998,700.0,782.400024,814.710022,853.780029,844.27002,832.599976,825.159973,804.570007,782.169983,832.01001,810.359985,793.77002,756.039978,756.570007,802.26001,825.719971,867.390015,907.090027,921.75,976.400024,988.799988,997.320007,1053.599976,1073.109985,1084.0,1076.640015,1066.640015],\"type\":\"box\"},{\"boxpoints\":false,\"line\":{\"color\":\"rgb(9,56,125)\"},\"marker\":{\"color\":\"rgb(9,56,125)\"},\"name\":\"Only Whiskers\",\"y\":[1123.050049,1081.01001,1020.5,1010.0,980.0,1038.819946,1072.589966,1026.540039,1013.380005,1016.059998,995.0,994.0,940.5,851.469971,903.210022,906.0,829.0,792.01001,862.049988,905.0,889.409973,880.52002,881.169983,902.710022,894.799988,920.0,896.700012,850.700012,853.150024,893.380005,901.210022,874.099976,837.609985,801.099976,760.559998,700.0,782.400024,814.710022,853.780029,844.27002,832.599976,825.159973,804.570007,782.169983,832.01001,810.359985,793.77002,756.039978,756.570007,802.26001,825.719971,867.390015,907.090027,921.75,976.400024,988.799988,997.320007,1053.599976,1073.109985,1084.0,1076.640015,1066.640015],\"type\":\"box\"},{\"boxpoints\":\"suspectedoutliers\",\"line\":{\"color\":\"rgb(8,81,156)\"},\"marker\":{\"color\":\"rgb(8,81,156)\",\"line\":{\"outliercolor\":\"rgba(219, 64, 82, 0.6)\",\"outlierwidth\":2},\"outliercolor\":\"rgba(219, 64, 82, 0.6)\"},\"name\":\"Suspected Outliers\",\"y\":[1123.050049,1081.01001,1020.5,1010.0,980.0,1038.819946,1072.589966,1026.540039,1013.380005,1016.059998,995.0,994.0,940.5,851.469971,903.210022,906.0,829.0,792.01001,862.049988,905.0,889.409973,880.52002,881.169983,902.710022,894.799988,920.0,896.700012,850.700012,853.150024,893.380005,901.210022,874.099976,837.609985,801.099976,760.559998,700.0,782.400024,814.710022,853.780029,844.27002,832.599976,825.159973,804.570007,782.169983,832.01001,810.359985,793.77002,756.039978,756.570007,802.26001,825.719971,867.390015,907.090027,921.75,976.400024,988.799988,997.320007,1053.599976,1073.109985,1084.0,1076.640015,1066.640015],\"type\":\"box\"},{\"boxpoints\":\"outliers\",\"line\":{\"color\":\"rgb(107,174,214)\"},\"marker\":{\"color\":\"rgb(107,174,214)\"},\"name\":\"Whiskers and Outliers\",\"y\":[1123.050049,1081.01001,1020.5,1010.0,980.0,1038.819946,1072.589966,1026.540039,1013.380005,1016.059998,995.0,994.0,940.5,851.469971,903.210022,906.0,829.0,792.01001,862.049988,905.0,889.409973,880.52002,881.169983,902.710022,894.799988,920.0,896.700012,850.700012,853.150024,893.380005,901.210022,874.099976,837.609985,801.099976,760.559998,700.0,782.400024,814.710022,853.780029,844.27002,832.599976,825.159973,804.570007,782.169983,832.01001,810.359985,793.77002,756.039978,756.570007,802.26001,825.719971,867.390015,907.090027,921.75,976.400024,988.799988,997.320007,1053.599976,1073.109985,1084.0,1076.640015,1066.640015],\"type\":\"box\"}],                        {\"title\":{\"text\":\"Box Plot Styling Outliers for Attribute Low\"},\"template\":{\"data\":{\"bar\":[{\"error_x\":{\"color\":\"#2a3f5f\"},\"error_y\":{\"color\":\"#2a3f5f\"},\"marker\":{\"line\":{\"color\":\"#E5ECF6\",\"width\":0.5},\"pattern\":{\"fillmode\":\"overlay\",\"size\":10,\"solidity\":0.2}},\"type\":\"bar\"}],\"barpolar\":[{\"marker\":{\"line\":{\"color\":\"#E5ECF6\",\"width\":0.5},\"pattern\":{\"fillmode\":\"overlay\",\"size\":10,\"solidity\":0.2}},\"type\":\"barpolar\"}],\"carpet\":[{\"aaxis\":{\"endlinecolor\":\"#2a3f5f\",\"gridcolor\":\"white\",\"linecolor\":\"white\",\"minorgridcolor\":\"white\",\"startlinecolor\":\"#2a3f5f\"},\"baxis\":{\"endlinecolor\":\"#2a3f5f\",\"gridcolor\":\"white\",\"linecolor\":\"white\",\"minorgridcolor\":\"white\",\"startlinecolor\":\"#2a3f5f\"},\"type\":\"carpet\"}],\"choropleth\":[{\"colorbar\":{\"outlinewidth\":0,\"ticks\":\"\"},\"type\":\"choropleth\"}],\"contour\":[{\"colorbar\":{\"outlinewidth\":0,\"ticks\":\"\"},\"colorscale\":[[0.0,\"#0d0887\"],[0.1111111111111111,\"#46039f\"],[0.2222222222222222,\"#7201a8\"],[0.3333333333333333,\"#9c179e\"],[0.4444444444444444,\"#bd3786\"],[0.5555555555555556,\"#d8576b\"],[0.6666666666666666,\"#ed7953\"],[0.7777777777777778,\"#fb9f3a\"],[0.8888888888888888,\"#fdca26\"],[1.0,\"#f0f921\"]],\"type\":\"contour\"}],\"contourcarpet\":[{\"colorbar\":{\"outlinewidth\":0,\"ticks\":\"\"},\"type\":\"contourcarpet\"}],\"heatmap\":[{\"colorbar\":{\"outlinewidth\":0,\"ticks\":\"\"},\"colorscale\":[[0.0,\"#0d0887\"],[0.1111111111111111,\"#46039f\"],[0.2222222222222222,\"#7201a8\"],[0.3333333333333333,\"#9c179e\"],[0.4444444444444444,\"#bd3786\"],[0.5555555555555556,\"#d8576b\"],[0.6666666666666666,\"#ed7953\"],[0.7777777777777778,\"#fb9f3a\"],[0.8888888888888888,\"#fdca26\"],[1.0,\"#f0f921\"]],\"type\":\"heatmap\"}],\"heatmapgl\":[{\"colorbar\":{\"outlinewidth\":0,\"ticks\":\"\"},\"colorscale\":[[0.0,\"#0d0887\"],[0.1111111111111111,\"#46039f\"],[0.2222222222222222,\"#7201a8\"],[0.3333333333333333,\"#9c179e\"],[0.4444444444444444,\"#bd3786\"],[0.5555555555555556,\"#d8576b\"],[0.6666666666666666,\"#ed7953\"],[0.7777777777777778,\"#fb9f3a\"],[0.8888888888888888,\"#fdca26\"],[1.0,\"#f0f921\"]],\"type\":\"heatmapgl\"}],\"histogram\":[{\"marker\":{\"pattern\":{\"fillmode\":\"overlay\",\"size\":10,\"solidity\":0.2}},\"type\":\"histogram\"}],\"histogram2d\":[{\"colorbar\":{\"outlinewidth\":0,\"ticks\":\"\"},\"colorscale\":[[0.0,\"#0d0887\"],[0.1111111111111111,\"#46039f\"],[0.2222222222222222,\"#7201a8\"],[0.3333333333333333,\"#9c179e\"],[0.4444444444444444,\"#bd3786\"],[0.5555555555555556,\"#d8576b\"],[0.6666666666666666,\"#ed7953\"],[0.7777777777777778,\"#fb9f3a\"],[0.8888888888888888,\"#fdca26\"],[1.0,\"#f0f921\"]],\"type\":\"histogram2d\"}],\"histogram2dcontour\":[{\"colorbar\":{\"outlinewidth\":0,\"ticks\":\"\"},\"colorscale\":[[0.0,\"#0d0887\"],[0.1111111111111111,\"#46039f\"],[0.2222222222222222,\"#7201a8\"],[0.3333333333333333,\"#9c179e\"],[0.4444444444444444,\"#bd3786\"],[0.5555555555555556,\"#d8576b\"],[0.6666666666666666,\"#ed7953\"],[0.7777777777777778,\"#fb9f3a\"],[0.8888888888888888,\"#fdca26\"],[1.0,\"#f0f921\"]],\"type\":\"histogram2dcontour\"}],\"mesh3d\":[{\"colorbar\":{\"outlinewidth\":0,\"ticks\":\"\"},\"type\":\"mesh3d\"}],\"parcoords\":[{\"line\":{\"colorbar\":{\"outlinewidth\":0,\"ticks\":\"\"}},\"type\":\"parcoords\"}],\"pie\":[{\"automargin\":true,\"type\":\"pie\"}],\"scatter\":[{\"marker\":{\"colorbar\":{\"outlinewidth\":0,\"ticks\":\"\"}},\"type\":\"scatter\"}],\"scatter3d\":[{\"line\":{\"colorbar\":{\"outlinewidth\":0,\"ticks\":\"\"}},\"marker\":{\"colorbar\":{\"outlinewidth\":0,\"ticks\":\"\"}},\"type\":\"scatter3d\"}],\"scattercarpet\":[{\"marker\":{\"colorbar\":{\"outlinewidth\":0,\"ticks\":\"\"}},\"type\":\"scattercarpet\"}],\"scattergeo\":[{\"marker\":{\"colorbar\":{\"outlinewidth\":0,\"ticks\":\"\"}},\"type\":\"scattergeo\"}],\"scattergl\":[{\"marker\":{\"colorbar\":{\"outlinewidth\":0,\"ticks\":\"\"}},\"type\":\"scattergl\"}],\"scattermapbox\":[{\"marker\":{\"colorbar\":{\"outlinewidth\":0,\"ticks\":\"\"}},\"type\":\"scattermapbox\"}],\"scatterpolar\":[{\"marker\":{\"colorbar\":{\"outlinewidth\":0,\"ticks\":\"\"}},\"type\":\"scatterpolar\"}],\"scatterpolargl\":[{\"marker\":{\"colorbar\":{\"outlinewidth\":0,\"ticks\":\"\"}},\"type\":\"scatterpolargl\"}],\"scatterternary\":[{\"marker\":{\"colorbar\":{\"outlinewidth\":0,\"ticks\":\"\"}},\"type\":\"scatterternary\"}],\"surface\":[{\"colorbar\":{\"outlinewidth\":0,\"ticks\":\"\"},\"colorscale\":[[0.0,\"#0d0887\"],[0.1111111111111111,\"#46039f\"],[0.2222222222222222,\"#7201a8\"],[0.3333333333333333,\"#9c179e\"],[0.4444444444444444,\"#bd3786\"],[0.5555555555555556,\"#d8576b\"],[0.6666666666666666,\"#ed7953\"],[0.7777777777777778,\"#fb9f3a\"],[0.8888888888888888,\"#fdca26\"],[1.0,\"#f0f921\"]],\"type\":\"surface\"}],\"table\":[{\"cells\":{\"fill\":{\"color\":\"#EBF0F8\"},\"line\":{\"color\":\"white\"}},\"header\":{\"fill\":{\"color\":\"#C8D4E3\"},\"line\":{\"color\":\"white\"}},\"type\":\"table\"}]},\"layout\":{\"annotationdefaults\":{\"arrowcolor\":\"#2a3f5f\",\"arrowhead\":0,\"arrowwidth\":1},\"autotypenumbers\":\"strict\",\"coloraxis\":{\"colorbar\":{\"outlinewidth\":0,\"ticks\":\"\"}},\"colorscale\":{\"diverging\":[[0,\"#8e0152\"],[0.1,\"#c51b7d\"],[0.2,\"#de77ae\"],[0.3,\"#f1b6da\"],[0.4,\"#fde0ef\"],[0.5,\"#f7f7f7\"],[0.6,\"#e6f5d0\"],[0.7,\"#b8e186\"],[0.8,\"#7fbc41\"],[0.9,\"#4d9221\"],[1,\"#276419\"]],\"sequential\":[[0.0,\"#0d0887\"],[0.1111111111111111,\"#46039f\"],[0.2222222222222222,\"#7201a8\"],[0.3333333333333333,\"#9c179e\"],[0.4444444444444444,\"#bd3786\"],[0.5555555555555556,\"#d8576b\"],[0.6666666666666666,\"#ed7953\"],[0.7777777777777778,\"#fb9f3a\"],[0.8888888888888888,\"#fdca26\"],[1.0,\"#f0f921\"]],\"sequentialminus\":[[0.0,\"#0d0887\"],[0.1111111111111111,\"#46039f\"],[0.2222222222222222,\"#7201a8\"],[0.3333333333333333,\"#9c179e\"],[0.4444444444444444,\"#bd3786\"],[0.5555555555555556,\"#d8576b\"],[0.6666666666666666,\"#ed7953\"],[0.7777777777777778,\"#fb9f3a\"],[0.8888888888888888,\"#fdca26\"],[1.0,\"#f0f921\"]]},\"colorway\":[\"#636efa\",\"#EF553B\",\"#00cc96\",\"#ab63fa\",\"#FFA15A\",\"#19d3f3\",\"#FF6692\",\"#B6E880\",\"#FF97FF\",\"#FECB52\"],\"font\":{\"color\":\"#2a3f5f\"},\"geo\":{\"bgcolor\":\"white\",\"lakecolor\":\"white\",\"landcolor\":\"#E5ECF6\",\"showlakes\":true,\"showland\":true,\"subunitcolor\":\"white\"},\"hoverlabel\":{\"align\":\"left\"},\"hovermode\":\"closest\",\"mapbox\":{\"style\":\"light\"},\"paper_bgcolor\":\"white\",\"plot_bgcolor\":\"#E5ECF6\",\"polar\":{\"angularaxis\":{\"gridcolor\":\"white\",\"linecolor\":\"white\",\"ticks\":\"\"},\"bgcolor\":\"#E5ECF6\",\"radialaxis\":{\"gridcolor\":\"white\",\"linecolor\":\"white\",\"ticks\":\"\"}},\"scene\":{\"xaxis\":{\"backgroundcolor\":\"#E5ECF6\",\"gridcolor\":\"white\",\"gridwidth\":2,\"linecolor\":\"white\",\"showbackground\":true,\"ticks\":\"\",\"zerolinecolor\":\"white\"},\"yaxis\":{\"backgroundcolor\":\"#E5ECF6\",\"gridcolor\":\"white\",\"gridwidth\":2,\"linecolor\":\"white\",\"showbackground\":true,\"ticks\":\"\",\"zerolinecolor\":\"white\"},\"zaxis\":{\"backgroundcolor\":\"#E5ECF6\",\"gridcolor\":\"white\",\"gridwidth\":2,\"linecolor\":\"white\",\"showbackground\":true,\"ticks\":\"\",\"zerolinecolor\":\"white\"}},\"shapedefaults\":{\"line\":{\"color\":\"#2a3f5f\"}},\"ternary\":{\"aaxis\":{\"gridcolor\":\"white\",\"linecolor\":\"white\",\"ticks\":\"\"},\"baxis\":{\"gridcolor\":\"white\",\"linecolor\":\"white\",\"ticks\":\"\"},\"bgcolor\":\"#E5ECF6\",\"caxis\":{\"gridcolor\":\"white\",\"linecolor\":\"white\",\"ticks\":\"\"}},\"title\":{\"x\":0.05},\"xaxis\":{\"automargin\":true,\"gridcolor\":\"white\",\"linecolor\":\"white\",\"ticks\":\"\",\"title\":{\"standoff\":15},\"zerolinecolor\":\"white\",\"zerolinewidth\":2},\"yaxis\":{\"automargin\":true,\"gridcolor\":\"white\",\"linecolor\":\"white\",\"ticks\":\"\",\"title\":{\"standoff\":15},\"zerolinecolor\":\"white\",\"zerolinewidth\":2}}}},                        {\"responsive\": true}                    ).then(function(){\n",
              "                            \n",
              "var gd = document.getElementById('a69755bf-0f4a-44ec-b8f3-0da1e5d46958');\n",
              "var x = new MutationObserver(function (mutations, observer) {{\n",
              "        var display = window.getComputedStyle(gd).display;\n",
              "        if (!display || display === 'none') {{\n",
              "            console.log([gd, 'removed!']);\n",
              "            Plotly.purge(gd);\n",
              "            observer.disconnect();\n",
              "        }}\n",
              "}});\n",
              "\n",
              "// Listen for the removal of the full notebook cells\n",
              "var notebookContainer = gd.closest('#notebook-container');\n",
              "if (notebookContainer) {{\n",
              "    x.observe(notebookContainer, {childList: true});\n",
              "}}\n",
              "\n",
              "// Listen for the clearing of the current output cell\n",
              "var outputEl = gd.closest('.output');\n",
              "if (outputEl) {{\n",
              "    x.observe(outputEl, {childList: true});\n",
              "}}\n",
              "\n",
              "                        })                };                            </script>        </div>\n",
              "</body>\n",
              "</html>"
            ]
          },
          "metadata": {}
        }
      ]
    },
    {
      "cell_type": "markdown",
      "source": [
        "From the figure we can say that attribute Low is negatively skewed with no outliers.Having maximum value 1123.05 ,third quartile(q3) value 995,me- dian value 894.09 , first quartile (q1) value 829 and minimum value 700."
      ],
      "metadata": {
        "id": "fE6CYzYuKHNb"
      }
    },
    {
      "cell_type": "code",
      "source": [
        "import plotly.graph_objs as go\n",
        "\n",
        "trace0 = go.Box(\n",
        "    y =df2[\"Volume\"],\n",
        "    name = \"All Points\",\n",
        "    jitter = 0.3,\n",
        "    pointpos = -1.8,\n",
        "    boxpoints = 'all',\n",
        "    marker = dict(\n",
        "        color = 'rgb(7,40,89)'),\n",
        "    line = dict(\n",
        "        color = 'rgb(7,40,89)')\n",
        ")\n",
        "\n",
        "trace1 = go.Box(\n",
        "    y = df2[\"Volume\"],\n",
        "    name = \"Only Whiskers\",\n",
        "    boxpoints = False,\n",
        "    marker = dict(\n",
        "        color = 'rgb(9,56,125)'),\n",
        "    line = dict(\n",
        "        color = 'rgb(9,56,125)')\n",
        ")\n",
        "\n",
        "trace2 = go.Box(\n",
        "    y = df2[\"Volume\"],\n",
        "    name = \"Suspected Outliers\",\n",
        "    boxpoints = 'suspectedoutliers',\n",
        "    marker = dict(\n",
        "        color = 'rgb(8,81,156)',\n",
        "        outliercolor = 'rgba(219, 64, 82, 0.6)',\n",
        "        line = dict(\n",
        "            outliercolor = 'rgba(219, 64, 82, 0.6)',\n",
        "            outlierwidth = 2)),\n",
        "    line = dict(\n",
        "        color = 'rgb(8,81,156)')\n",
        ")\n",
        "\n",
        "trace3 = go.Box(\n",
        "    y = df2[\"Volume\"],\n",
        "    name = \"Whiskers and Outliers\",\n",
        "    boxpoints = 'outliers',\n",
        "    marker = dict(\n",
        "        color = 'rgb(107,174,214)'),\n",
        "    line = dict(\n",
        "        color = 'rgb(107,174,214)')\n",
        ")\n",
        "\n",
        "data = [trace0,trace1,trace2,trace3]\n",
        "\n",
        "layout = go.Layout(\n",
        "    title = \"Box Plot Styling Outliers for Attribute Volume\"\n",
        ")\n",
        "\n",
        "fig = go.Figure(data=data,layout=layout)\n",
        "fig.show(filename = \"Box Plot Styling Outliers for Attribute Volume\")\n"
      ],
      "metadata": {
        "colab": {
          "base_uri": "https://localhost:8080/",
          "height": 542
        },
        "id": "q6E5hOy7OuEJ",
        "outputId": "252dd972-9e61-47ff-be76-a9f300fd5727"
      },
      "execution_count": null,
      "outputs": [
        {
          "output_type": "display_data",
          "data": {
            "text/html": [
              "<html>\n",
              "<head><meta charset=\"utf-8\" /></head>\n",
              "<body>\n",
              "    <div>            <script src=\"https://cdnjs.cloudflare.com/ajax/libs/mathjax/2.7.5/MathJax.js?config=TeX-AMS-MML_SVG\"></script><script type=\"text/javascript\">if (window.MathJax) {MathJax.Hub.Config({SVG: {font: \"STIX-Web\"}});}</script>                <script type=\"text/javascript\">window.PlotlyConfig = {MathJaxConfig: 'local'};</script>\n",
              "        <script src=\"https://cdn.plot.ly/plotly-2.8.3.min.js\"></script>                <div id=\"4332bdca-f3bd-488e-9588-6e0ae83c970a\" class=\"plotly-graph-div\" style=\"height:525px; width:100%;\"></div>            <script type=\"text/javascript\">                                    window.PLOTLYENV=window.PLOTLYENV || {};                                    if (document.getElementById(\"4332bdca-f3bd-488e-9588-6e0ae83c970a\")) {                    Plotly.newPlot(                        \"4332bdca-f3bd-488e-9588-6e0ae83c970a\",                        [{\"boxpoints\":\"all\",\"jitter\":0.3,\"line\":{\"color\":\"rgb(7,40,89)\"},\"marker\":{\"color\":\"rgb(7,40,89)\"},\"name\":\"All Points\",\"pointpos\":-1.8,\"y\":[33416100,26706600,30112200,28054900,30605000,22021100,27913000,32403300,24308100,22247800,25147500,23496200,34472000,50521900,28865300,34955800,49036500,44929700,34812000,24379400,22264300,26285200,24541800,20331500,16909700,17419800,22042300,26548600,22585500,19095400,17098100,18392800,22833900,27762700,31752300,45107400,25355900,33002300,24922300,24881100,20541200,22333200,24164700,26799700,19728000,19549500,22272800,23717400,22280400,28009600,22194300,33408500,27327200,35289500,40225400,22973600,20677200,34168700,24538300,19955000,16330900,18012900],\"type\":\"box\"},{\"boxpoints\":false,\"line\":{\"color\":\"rgb(9,56,125)\"},\"marker\":{\"color\":\"rgb(9,56,125)\"},\"name\":\"Only Whiskers\",\"y\":[33416100,26706600,30112200,28054900,30605000,22021100,27913000,32403300,24308100,22247800,25147500,23496200,34472000,50521900,28865300,34955800,49036500,44929700,34812000,24379400,22264300,26285200,24541800,20331500,16909700,17419800,22042300,26548600,22585500,19095400,17098100,18392800,22833900,27762700,31752300,45107400,25355900,33002300,24922300,24881100,20541200,22333200,24164700,26799700,19728000,19549500,22272800,23717400,22280400,28009600,22194300,33408500,27327200,35289500,40225400,22973600,20677200,34168700,24538300,19955000,16330900,18012900],\"type\":\"box\"},{\"boxpoints\":\"suspectedoutliers\",\"line\":{\"color\":\"rgb(8,81,156)\"},\"marker\":{\"color\":\"rgb(8,81,156)\",\"line\":{\"outliercolor\":\"rgba(219, 64, 82, 0.6)\",\"outlierwidth\":2},\"outliercolor\":\"rgba(219, 64, 82, 0.6)\"},\"name\":\"Suspected Outliers\",\"y\":[33416100,26706600,30112200,28054900,30605000,22021100,27913000,32403300,24308100,22247800,25147500,23496200,34472000,50521900,28865300,34955800,49036500,44929700,34812000,24379400,22264300,26285200,24541800,20331500,16909700,17419800,22042300,26548600,22585500,19095400,17098100,18392800,22833900,27762700,31752300,45107400,25355900,33002300,24922300,24881100,20541200,22333200,24164700,26799700,19728000,19549500,22272800,23717400,22280400,28009600,22194300,33408500,27327200,35289500,40225400,22973600,20677200,34168700,24538300,19955000,16330900,18012900],\"type\":\"box\"},{\"boxpoints\":\"outliers\",\"line\":{\"color\":\"rgb(107,174,214)\"},\"marker\":{\"color\":\"rgb(107,174,214)\"},\"name\":\"Whiskers and Outliers\",\"y\":[33416100,26706600,30112200,28054900,30605000,22021100,27913000,32403300,24308100,22247800,25147500,23496200,34472000,50521900,28865300,34955800,49036500,44929700,34812000,24379400,22264300,26285200,24541800,20331500,16909700,17419800,22042300,26548600,22585500,19095400,17098100,18392800,22833900,27762700,31752300,45107400,25355900,33002300,24922300,24881100,20541200,22333200,24164700,26799700,19728000,19549500,22272800,23717400,22280400,28009600,22194300,33408500,27327200,35289500,40225400,22973600,20677200,34168700,24538300,19955000,16330900,18012900],\"type\":\"box\"}],                        {\"title\":{\"text\":\"Box Plot Styling Outliers for Attribute Volume\"},\"template\":{\"data\":{\"bar\":[{\"error_x\":{\"color\":\"#2a3f5f\"},\"error_y\":{\"color\":\"#2a3f5f\"},\"marker\":{\"line\":{\"color\":\"#E5ECF6\",\"width\":0.5},\"pattern\":{\"fillmode\":\"overlay\",\"size\":10,\"solidity\":0.2}},\"type\":\"bar\"}],\"barpolar\":[{\"marker\":{\"line\":{\"color\":\"#E5ECF6\",\"width\":0.5},\"pattern\":{\"fillmode\":\"overlay\",\"size\":10,\"solidity\":0.2}},\"type\":\"barpolar\"}],\"carpet\":[{\"aaxis\":{\"endlinecolor\":\"#2a3f5f\",\"gridcolor\":\"white\",\"linecolor\":\"white\",\"minorgridcolor\":\"white\",\"startlinecolor\":\"#2a3f5f\"},\"baxis\":{\"endlinecolor\":\"#2a3f5f\",\"gridcolor\":\"white\",\"linecolor\":\"white\",\"minorgridcolor\":\"white\",\"startlinecolor\":\"#2a3f5f\"},\"type\":\"carpet\"}],\"choropleth\":[{\"colorbar\":{\"outlinewidth\":0,\"ticks\":\"\"},\"type\":\"choropleth\"}],\"contour\":[{\"colorbar\":{\"outlinewidth\":0,\"ticks\":\"\"},\"colorscale\":[[0.0,\"#0d0887\"],[0.1111111111111111,\"#46039f\"],[0.2222222222222222,\"#7201a8\"],[0.3333333333333333,\"#9c179e\"],[0.4444444444444444,\"#bd3786\"],[0.5555555555555556,\"#d8576b\"],[0.6666666666666666,\"#ed7953\"],[0.7777777777777778,\"#fb9f3a\"],[0.8888888888888888,\"#fdca26\"],[1.0,\"#f0f921\"]],\"type\":\"contour\"}],\"contourcarpet\":[{\"colorbar\":{\"outlinewidth\":0,\"ticks\":\"\"},\"type\":\"contourcarpet\"}],\"heatmap\":[{\"colorbar\":{\"outlinewidth\":0,\"ticks\":\"\"},\"colorscale\":[[0.0,\"#0d0887\"],[0.1111111111111111,\"#46039f\"],[0.2222222222222222,\"#7201a8\"],[0.3333333333333333,\"#9c179e\"],[0.4444444444444444,\"#bd3786\"],[0.5555555555555556,\"#d8576b\"],[0.6666666666666666,\"#ed7953\"],[0.7777777777777778,\"#fb9f3a\"],[0.8888888888888888,\"#fdca26\"],[1.0,\"#f0f921\"]],\"type\":\"heatmap\"}],\"heatmapgl\":[{\"colorbar\":{\"outlinewidth\":0,\"ticks\":\"\"},\"colorscale\":[[0.0,\"#0d0887\"],[0.1111111111111111,\"#46039f\"],[0.2222222222222222,\"#7201a8\"],[0.3333333333333333,\"#9c179e\"],[0.4444444444444444,\"#bd3786\"],[0.5555555555555556,\"#d8576b\"],[0.6666666666666666,\"#ed7953\"],[0.7777777777777778,\"#fb9f3a\"],[0.8888888888888888,\"#fdca26\"],[1.0,\"#f0f921\"]],\"type\":\"heatmapgl\"}],\"histogram\":[{\"marker\":{\"pattern\":{\"fillmode\":\"overlay\",\"size\":10,\"solidity\":0.2}},\"type\":\"histogram\"}],\"histogram2d\":[{\"colorbar\":{\"outlinewidth\":0,\"ticks\":\"\"},\"colorscale\":[[0.0,\"#0d0887\"],[0.1111111111111111,\"#46039f\"],[0.2222222222222222,\"#7201a8\"],[0.3333333333333333,\"#9c179e\"],[0.4444444444444444,\"#bd3786\"],[0.5555555555555556,\"#d8576b\"],[0.6666666666666666,\"#ed7953\"],[0.7777777777777778,\"#fb9f3a\"],[0.8888888888888888,\"#fdca26\"],[1.0,\"#f0f921\"]],\"type\":\"histogram2d\"}],\"histogram2dcontour\":[{\"colorbar\":{\"outlinewidth\":0,\"ticks\":\"\"},\"colorscale\":[[0.0,\"#0d0887\"],[0.1111111111111111,\"#46039f\"],[0.2222222222222222,\"#7201a8\"],[0.3333333333333333,\"#9c179e\"],[0.4444444444444444,\"#bd3786\"],[0.5555555555555556,\"#d8576b\"],[0.6666666666666666,\"#ed7953\"],[0.7777777777777778,\"#fb9f3a\"],[0.8888888888888888,\"#fdca26\"],[1.0,\"#f0f921\"]],\"type\":\"histogram2dcontour\"}],\"mesh3d\":[{\"colorbar\":{\"outlinewidth\":0,\"ticks\":\"\"},\"type\":\"mesh3d\"}],\"parcoords\":[{\"line\":{\"colorbar\":{\"outlinewidth\":0,\"ticks\":\"\"}},\"type\":\"parcoords\"}],\"pie\":[{\"automargin\":true,\"type\":\"pie\"}],\"scatter\":[{\"marker\":{\"colorbar\":{\"outlinewidth\":0,\"ticks\":\"\"}},\"type\":\"scatter\"}],\"scatter3d\":[{\"line\":{\"colorbar\":{\"outlinewidth\":0,\"ticks\":\"\"}},\"marker\":{\"colorbar\":{\"outlinewidth\":0,\"ticks\":\"\"}},\"type\":\"scatter3d\"}],\"scattercarpet\":[{\"marker\":{\"colorbar\":{\"outlinewidth\":0,\"ticks\":\"\"}},\"type\":\"scattercarpet\"}],\"scattergeo\":[{\"marker\":{\"colorbar\":{\"outlinewidth\":0,\"ticks\":\"\"}},\"type\":\"scattergeo\"}],\"scattergl\":[{\"marker\":{\"colorbar\":{\"outlinewidth\":0,\"ticks\":\"\"}},\"type\":\"scattergl\"}],\"scattermapbox\":[{\"marker\":{\"colorbar\":{\"outlinewidth\":0,\"ticks\":\"\"}},\"type\":\"scattermapbox\"}],\"scatterpolar\":[{\"marker\":{\"colorbar\":{\"outlinewidth\":0,\"ticks\":\"\"}},\"type\":\"scatterpolar\"}],\"scatterpolargl\":[{\"marker\":{\"colorbar\":{\"outlinewidth\":0,\"ticks\":\"\"}},\"type\":\"scatterpolargl\"}],\"scatterternary\":[{\"marker\":{\"colorbar\":{\"outlinewidth\":0,\"ticks\":\"\"}},\"type\":\"scatterternary\"}],\"surface\":[{\"colorbar\":{\"outlinewidth\":0,\"ticks\":\"\"},\"colorscale\":[[0.0,\"#0d0887\"],[0.1111111111111111,\"#46039f\"],[0.2222222222222222,\"#7201a8\"],[0.3333333333333333,\"#9c179e\"],[0.4444444444444444,\"#bd3786\"],[0.5555555555555556,\"#d8576b\"],[0.6666666666666666,\"#ed7953\"],[0.7777777777777778,\"#fb9f3a\"],[0.8888888888888888,\"#fdca26\"],[1.0,\"#f0f921\"]],\"type\":\"surface\"}],\"table\":[{\"cells\":{\"fill\":{\"color\":\"#EBF0F8\"},\"line\":{\"color\":\"white\"}},\"header\":{\"fill\":{\"color\":\"#C8D4E3\"},\"line\":{\"color\":\"white\"}},\"type\":\"table\"}]},\"layout\":{\"annotationdefaults\":{\"arrowcolor\":\"#2a3f5f\",\"arrowhead\":0,\"arrowwidth\":1},\"autotypenumbers\":\"strict\",\"coloraxis\":{\"colorbar\":{\"outlinewidth\":0,\"ticks\":\"\"}},\"colorscale\":{\"diverging\":[[0,\"#8e0152\"],[0.1,\"#c51b7d\"],[0.2,\"#de77ae\"],[0.3,\"#f1b6da\"],[0.4,\"#fde0ef\"],[0.5,\"#f7f7f7\"],[0.6,\"#e6f5d0\"],[0.7,\"#b8e186\"],[0.8,\"#7fbc41\"],[0.9,\"#4d9221\"],[1,\"#276419\"]],\"sequential\":[[0.0,\"#0d0887\"],[0.1111111111111111,\"#46039f\"],[0.2222222222222222,\"#7201a8\"],[0.3333333333333333,\"#9c179e\"],[0.4444444444444444,\"#bd3786\"],[0.5555555555555556,\"#d8576b\"],[0.6666666666666666,\"#ed7953\"],[0.7777777777777778,\"#fb9f3a\"],[0.8888888888888888,\"#fdca26\"],[1.0,\"#f0f921\"]],\"sequentialminus\":[[0.0,\"#0d0887\"],[0.1111111111111111,\"#46039f\"],[0.2222222222222222,\"#7201a8\"],[0.3333333333333333,\"#9c179e\"],[0.4444444444444444,\"#bd3786\"],[0.5555555555555556,\"#d8576b\"],[0.6666666666666666,\"#ed7953\"],[0.7777777777777778,\"#fb9f3a\"],[0.8888888888888888,\"#fdca26\"],[1.0,\"#f0f921\"]]},\"colorway\":[\"#636efa\",\"#EF553B\",\"#00cc96\",\"#ab63fa\",\"#FFA15A\",\"#19d3f3\",\"#FF6692\",\"#B6E880\",\"#FF97FF\",\"#FECB52\"],\"font\":{\"color\":\"#2a3f5f\"},\"geo\":{\"bgcolor\":\"white\",\"lakecolor\":\"white\",\"landcolor\":\"#E5ECF6\",\"showlakes\":true,\"showland\":true,\"subunitcolor\":\"white\"},\"hoverlabel\":{\"align\":\"left\"},\"hovermode\":\"closest\",\"mapbox\":{\"style\":\"light\"},\"paper_bgcolor\":\"white\",\"plot_bgcolor\":\"#E5ECF6\",\"polar\":{\"angularaxis\":{\"gridcolor\":\"white\",\"linecolor\":\"white\",\"ticks\":\"\"},\"bgcolor\":\"#E5ECF6\",\"radialaxis\":{\"gridcolor\":\"white\",\"linecolor\":\"white\",\"ticks\":\"\"}},\"scene\":{\"xaxis\":{\"backgroundcolor\":\"#E5ECF6\",\"gridcolor\":\"white\",\"gridwidth\":2,\"linecolor\":\"white\",\"showbackground\":true,\"ticks\":\"\",\"zerolinecolor\":\"white\"},\"yaxis\":{\"backgroundcolor\":\"#E5ECF6\",\"gridcolor\":\"white\",\"gridwidth\":2,\"linecolor\":\"white\",\"showbackground\":true,\"ticks\":\"\",\"zerolinecolor\":\"white\"},\"zaxis\":{\"backgroundcolor\":\"#E5ECF6\",\"gridcolor\":\"white\",\"gridwidth\":2,\"linecolor\":\"white\",\"showbackground\":true,\"ticks\":\"\",\"zerolinecolor\":\"white\"}},\"shapedefaults\":{\"line\":{\"color\":\"#2a3f5f\"}},\"ternary\":{\"aaxis\":{\"gridcolor\":\"white\",\"linecolor\":\"white\",\"ticks\":\"\"},\"baxis\":{\"gridcolor\":\"white\",\"linecolor\":\"white\",\"ticks\":\"\"},\"bgcolor\":\"#E5ECF6\",\"caxis\":{\"gridcolor\":\"white\",\"linecolor\":\"white\",\"ticks\":\"\"}},\"title\":{\"x\":0.05},\"xaxis\":{\"automargin\":true,\"gridcolor\":\"white\",\"linecolor\":\"white\",\"ticks\":\"\",\"title\":{\"standoff\":15},\"zerolinecolor\":\"white\",\"zerolinewidth\":2},\"yaxis\":{\"automargin\":true,\"gridcolor\":\"white\",\"linecolor\":\"white\",\"ticks\":\"\",\"title\":{\"standoff\":15},\"zerolinecolor\":\"white\",\"zerolinewidth\":2}}}},                        {\"responsive\": true}                    ).then(function(){\n",
              "                            \n",
              "var gd = document.getElementById('4332bdca-f3bd-488e-9588-6e0ae83c970a');\n",
              "var x = new MutationObserver(function (mutations, observer) {{\n",
              "        var display = window.getComputedStyle(gd).display;\n",
              "        if (!display || display === 'none') {{\n",
              "            console.log([gd, 'removed!']);\n",
              "            Plotly.purge(gd);\n",
              "            observer.disconnect();\n",
              "        }}\n",
              "}});\n",
              "\n",
              "// Listen for the removal of the full notebook cells\n",
              "var notebookContainer = gd.closest('#notebook-container');\n",
              "if (notebookContainer) {{\n",
              "    x.observe(notebookContainer, {childList: true});\n",
              "}}\n",
              "\n",
              "// Listen for the clearing of the current output cell\n",
              "var outputEl = gd.closest('.output');\n",
              "if (outputEl) {{\n",
              "    x.observe(outputEl, {childList: true});\n",
              "}}\n",
              "\n",
              "                        })                };                            </script>        </div>\n",
              "</body>\n",
              "</html>"
            ]
          },
          "metadata": {}
        }
      ]
    },
    {
      "cell_type": "markdown",
      "source": [
        "\n",
        "From the figure we can say that attribute Volume is positively skewed which is having outliers with maximum value 50.5219M ,upper fence value 40.2245M\n",
        ",third quartile(q3) value 30.605M,median value 24.711M , first quartile (q1) value 22.1943M and minimum value 16.3309M.\n"
      ],
      "metadata": {
        "id": "prlvOnTHKeNy"
      }
    },
    {
      "cell_type": "markdown",
      "source": [
        "# **Bi-variate Analysis**\n",
        "Bi-variate Analysis finds out the relationship between two variables. Continuous and Continuous relationship can be obtained using correla- tion and scatter plot."
      ],
      "metadata": {
        "id": "3ni4awlFO_jQ"
      }
    },
    {
      "cell_type": "code",
      "source": [
        "corrmat = df2.corr()\n",
        "f, ax = plt.subplots(figsize=(12, 9))\n",
        "sns.heatmap(corrmat, vmax=.9);"
      ],
      "metadata": {
        "colab": {
          "base_uri": "https://localhost:8080/",
          "height": 537
        },
        "id": "n2YQep5VPBVY",
        "outputId": "4e171748-81d9-47bf-fc93-f0c397729f11"
      },
      "execution_count": null,
      "outputs": [
        {
          "output_type": "display_data",
          "data": {
            "text/plain": [
              "<Figure size 864x648 with 2 Axes>"
            ],
            "image/png": "[encoded data removed]"
          },
          "metadata": {
            "needs_background": "light"
          }
        }
      ]
    },
    {
      "cell_type": "markdown",
      "source": [
        "We can see that dependents variables are closely related or having high similarity."
      ],
      "metadata": {
        "id": "kYuvHeEgLqAL"
      }
    },
    {
      "cell_type": "code",
      "source": [
        "import chart_studio.plotly as py\n",
        "# Create traces\n",
        "trace0 = go.Scatter(\n",
        "    y = df2[\"Open\"],\n",
        "    x = df2[\"Date\"],\n",
        "    mode = 'markers+lines',\n",
        "    name = 'Open Value',\n",
        "    marker={\"size\": 2}\n",
        ")\n",
        "trace1 = go.Scatter(\n",
        "    y = df2[\"Close\"],\n",
        "    x = df2[\"Date\"],\n",
        "    mode = 'lines+markers',\n",
        "    name = 'Close Value',\n",
        "    marker={\"size\": 3.5}\n",
        ")\n",
        "trace2 = go.Scatter(\n",
        "    y = df2[\"High\"],\n",
        "    x = df2[\"Date\"],\n",
        "    mode = 'lines',\n",
        "    name = 'High Value',\n",
        "    marker={\"size\": 3}\n",
        ")\n",
        "trace3 = go.Scatter(\n",
        "    y = df2[\"Low\"],\n",
        "    x = df2[\"Date\"],\n",
        "    mode = 'lines',\n",
        "    name = 'Low Value',\n",
        "    marker={\"size\": 3.5}\n",
        ")\n",
        "\n",
        "data = [trace0, trace1, trace2,trace3]\n",
        "\n",
        "layout= go.Layout(\n",
        "    title= 'Visualizing Attributes Open, Close ,High, Low',\n",
        "    hovermode= 'closest',\n",
        "    xaxis= dict(\n",
        "        title= 'Dates',\n",
        "        ticklen= 5,\n",
        "        zeroline= False,\n",
        "        gridwidth= 2,\n",
        "    ),\n",
        "    yaxis=dict(\n",
        "        title= 'Open Value, Close Value ,High Value, Low Value',\n",
        "        ticklen= 5,\n",
        "        gridwidth= 2,\n",
        "    ),\n",
        "    showlegend= False\n",
        ")\n",
        "fig = go.Figure(data=data,layout=layout)\n",
        "\n",
        "fig.show(filename = \"scatter-mode\")"
      ],
      "metadata": {
        "colab": {
          "base_uri": "https://localhost:8080/",
          "height": 542
        },
        "id": "_R1J75jMPIPR",
        "outputId": "ffa59a52-96e3-405b-8daf-7dd7fbace3fe"
      },
      "execution_count": null,
      "outputs": [
        {
          "output_type": "display_data",
          "data": {
            "text/html": [
              "<html>\n",
              "<head><meta charset=\"utf-8\" /></head>\n",
              "<body>\n",
              "    <div>            <script src=\"https://cdnjs.cloudflare.com/ajax/libs/mathjax/2.7.5/MathJax.js?config=TeX-AMS-MML_SVG\"></script><script type=\"text/javascript\">if (window.MathJax) {MathJax.Hub.Config({SVG: {font: \"STIX-Web\"}});}</script>                <script type=\"text/javascript\">window.PlotlyConfig = {MathJaxConfig: 'local'};</script>\n",
              "        <script src=\"https://cdn.plot.ly/plotly-2.8.3.min.js\"></script>                <div id=\"f34ebd58-11ec-408c-afb2-675600ada48b\" class=\"plotly-graph-div\" style=\"height:525px; width:100%;\"></div>            <script type=\"text/javascript\">                                    window.PLOTLYENV=window.PLOTLYENV || {};                                    if (document.getElementById(\"f34ebd58-11ec-408c-afb2-675600ada48b\")) {                    Plotly.newPlot(                        \"f34ebd58-11ec-408c-afb2-675600ada48b\",                        [{\"marker\":{\"size\":2},\"mode\":\"markers+lines\",\"name\":\"Open Value\",\"x\":[\"2022-01-04\",\"2022-01-05\",\"2022-01-06\",\"2022-01-07\",\"2022-01-10\",\"2022-01-11\",\"2022-01-12\",\"2022-01-13\",\"2022-01-14\",\"2022-01-18\",\"2022-01-19\",\"2022-01-20\",\"2022-01-21\",\"2022-01-24\",\"2022-01-25\",\"2022-01-26\",\"2022-01-27\",\"2022-01-28\",\"2022-01-31\",\"2022-02-01\",\"2022-02-02\",\"2022-02-03\",\"2022-02-04\",\"2022-02-07\",\"2022-02-08\",\"2022-02-09\",\"2022-02-10\",\"2022-02-11\",\"2022-02-14\",\"2022-02-15\",\"2022-02-16\",\"2022-02-17\",\"2022-02-18\",\"2022-02-22\",\"2022-02-23\",\"2022-02-24\",\"2022-02-25\",\"2022-02-28\",\"2022-03-01\",\"2022-03-02\",\"2022-03-03\",\"2022-03-04\",\"2022-03-07\",\"2022-03-08\",\"2022-03-09\",\"2022-03-10\",\"2022-03-11\",\"2022-03-14\",\"2022-03-15\",\"2022-03-16\",\"2022-03-17\",\"2022-03-18\",\"2022-03-21\",\"2022-03-22\",\"2022-03-23\",\"2022-03-24\",\"2022-03-25\",\"2022-03-28\",\"2022-03-29\",\"2022-03-30\",\"2022-03-31\",\"2022-04-01\"],\"y\":[1189.550049,1146.650024,1077.0,1080.369995,1000.0,1053.670044,1078.849976,1109.069946,1019.880005,1026.609985,1041.709961,1009.72998,996.340027,904.76001,914.200012,952.429993,933.359985,831.559998,872.710022,935.210022,928.179993,882.0,897.219971,923.789978,905.530029,935.0,908.369995,909.630005,861.570007,900.0,914.049988,913.26001,886.0,834.130005,830.429993,700.390015,809.22998,815.01001,869.679993,872.130005,878.77002,849.099976,856.299988,795.530029,839.47998,851.450012,840.200012,780.609985,775.27002,809.0,830.98999,874.48999,914.97998,930.0,979.940002,1009.72998,1008.0,1065.099976,1107.98999,1091.170044,1094.569946,1081.150024],\"type\":\"scatter\"},{\"marker\":{\"size\":3.5},\"mode\":\"lines+markers\",\"name\":\"Close Value\",\"x\":[\"2022-01-04\",\"2022-01-05\",\"2022-01-06\",\"2022-01-07\",\"2022-01-10\",\"2022-01-11\",\"2022-01-12\",\"2022-01-13\",\"2022-01-14\",\"2022-01-18\",\"2022-01-19\",\"2022-01-20\",\"2022-01-21\",\"2022-01-24\",\"2022-01-25\",\"2022-01-26\",\"2022-01-27\",\"2022-01-28\",\"2022-01-31\",\"2022-02-01\",\"2022-02-02\",\"2022-02-03\",\"2022-02-04\",\"2022-02-07\",\"2022-02-08\",\"2022-02-09\",\"2022-02-10\",\"2022-02-11\",\"2022-02-14\",\"2022-02-15\",\"2022-02-16\",\"2022-02-17\",\"2022-02-18\",\"2022-02-22\",\"2022-02-23\",\"2022-02-24\",\"2022-02-25\",\"2022-02-28\",\"2022-03-01\",\"2022-03-02\",\"2022-03-03\",\"2022-03-04\",\"2022-03-07\",\"2022-03-08\",\"2022-03-09\",\"2022-03-10\",\"2022-03-11\",\"2022-03-14\",\"2022-03-15\",\"2022-03-16\",\"2022-03-17\",\"2022-03-18\",\"2022-03-21\",\"2022-03-22\",\"2022-03-23\",\"2022-03-24\",\"2022-03-25\",\"2022-03-28\",\"2022-03-29\",\"2022-03-30\",\"2022-03-31\",\"2022-04-01\"],\"y\":[1149.589966,1088.119995,1064.699951,1026.959961,1058.119995,1064.400024,1106.219971,1031.560059,1049.609985,1030.51001,995.650024,996.27002,943.900024,930.0,918.400024,937.409973,829.099976,846.349976,936.719971,931.25,905.659973,891.140015,923.320007,907.340027,922.0,932.0,904.549988,860.0,875.76001,922.429993,923.390015,876.349976,856.97998,821.530029,764.039978,800.77002,809.869995,870.429993,864.369995,879.890015,839.289978,838.289978,804.580017,824.400024,858.969971,838.299988,795.349976,766.369995,801.890015,840.22998,871.599976,905.390015,921.159973,993.97998,999.109985,1013.919983,1010.640015,1091.839966,1099.569946,1093.98999,1077.599976,1084.589966],\"type\":\"scatter\"},{\"marker\":{\"size\":3},\"mode\":\"lines\",\"name\":\"High Value\",\"x\":[\"2022-01-04\",\"2022-01-05\",\"2022-01-06\",\"2022-01-07\",\"2022-01-10\",\"2022-01-11\",\"2022-01-12\",\"2022-01-13\",\"2022-01-14\",\"2022-01-18\",\"2022-01-19\",\"2022-01-20\",\"2022-01-21\",\"2022-01-24\",\"2022-01-25\",\"2022-01-26\",\"2022-01-27\",\"2022-01-28\",\"2022-01-31\",\"2022-02-01\",\"2022-02-02\",\"2022-02-03\",\"2022-02-04\",\"2022-02-07\",\"2022-02-08\",\"2022-02-09\",\"2022-02-10\",\"2022-02-11\",\"2022-02-14\",\"2022-02-15\",\"2022-02-16\",\"2022-02-17\",\"2022-02-18\",\"2022-02-22\",\"2022-02-23\",\"2022-02-24\",\"2022-02-25\",\"2022-02-28\",\"2022-03-01\",\"2022-03-02\",\"2022-03-03\",\"2022-03-04\",\"2022-03-07\",\"2022-03-08\",\"2022-03-09\",\"2022-03-10\",\"2022-03-11\",\"2022-03-14\",\"2022-03-15\",\"2022-03-16\",\"2022-03-17\",\"2022-03-18\",\"2022-03-21\",\"2022-03-22\",\"2022-03-23\",\"2022-03-24\",\"2022-03-25\",\"2022-03-28\",\"2022-03-29\",\"2022-03-30\",\"2022-03-31\",\"2022-04-01\"],\"y\":[1208.0,1170.339966,1088.0,1080.930054,1059.099976,1075.849976,1114.839966,1115.599976,1052.0,1070.790039,1054.670044,1041.660034,1004.549988,933.51001,951.26001,987.690002,935.390015,857.5,937.98999,943.700012,931.5,937.0,936.5,947.77002,926.289978,946.27002,943.809998,915.960022,898.880005,923.0,926.429993,918.5,886.869995,856.72998,835.299988,802.47998,819.5,876.859985,889.880005,886.47998,886.440002,855.650024,866.140015,849.98999,860.559998,854.450012,843.799988,800.700012,805.570007,842.0,875.0,907.849976,942.849976,997.859985,1040.699951,1024.48999,1021.799988,1097.880005,1114.77002,1113.949951,1103.140015,1094.75],\"type\":\"scatter\"},{\"marker\":{\"size\":3.5},\"mode\":\"lines\",\"name\":\"Low Value\",\"x\":[\"2022-01-04\",\"2022-01-05\",\"2022-01-06\",\"2022-01-07\",\"2022-01-10\",\"2022-01-11\",\"2022-01-12\",\"2022-01-13\",\"2022-01-14\",\"2022-01-18\",\"2022-01-19\",\"2022-01-20\",\"2022-01-21\",\"2022-01-24\",\"2022-01-25\",\"2022-01-26\",\"2022-01-27\",\"2022-01-28\",\"2022-01-31\",\"2022-02-01\",\"2022-02-02\",\"2022-02-03\",\"2022-02-04\",\"2022-02-07\",\"2022-02-08\",\"2022-02-09\",\"2022-02-10\",\"2022-02-11\",\"2022-02-14\",\"2022-02-15\",\"2022-02-16\",\"2022-02-17\",\"2022-02-18\",\"2022-02-22\",\"2022-02-23\",\"2022-02-24\",\"2022-02-25\",\"2022-02-28\",\"2022-03-01\",\"2022-03-02\",\"2022-03-03\",\"2022-03-04\",\"2022-03-07\",\"2022-03-08\",\"2022-03-09\",\"2022-03-10\",\"2022-03-11\",\"2022-03-14\",\"2022-03-15\",\"2022-03-16\",\"2022-03-17\",\"2022-03-18\",\"2022-03-21\",\"2022-03-22\",\"2022-03-23\",\"2022-03-24\",\"2022-03-25\",\"2022-03-28\",\"2022-03-29\",\"2022-03-30\",\"2022-03-31\",\"2022-04-01\"],\"y\":[1123.050049,1081.01001,1020.5,1010.0,980.0,1038.819946,1072.589966,1026.540039,1013.380005,1016.059998,995.0,994.0,940.5,851.469971,903.210022,906.0,829.0,792.01001,862.049988,905.0,889.409973,880.52002,881.169983,902.710022,894.799988,920.0,896.700012,850.700012,853.150024,893.380005,901.210022,874.099976,837.609985,801.099976,760.559998,700.0,782.400024,814.710022,853.780029,844.27002,832.599976,825.159973,804.570007,782.169983,832.01001,810.359985,793.77002,756.039978,756.570007,802.26001,825.719971,867.390015,907.090027,921.75,976.400024,988.799988,997.320007,1053.599976,1073.109985,1084.0,1076.640015,1066.640015],\"type\":\"scatter\"}],                        {\"hovermode\":\"closest\",\"showlegend\":false,\"title\":{\"text\":\"Visualizing Attributes Open, Close ,High, Low\"},\"xaxis\":{\"gridwidth\":2,\"ticklen\":5,\"title\":{\"text\":\"Dates\"},\"zeroline\":false},\"yaxis\":{\"gridwidth\":2,\"ticklen\":5,\"title\":{\"text\":\"Open Value, Close Value ,High Value, Low Value\"}},\"template\":{\"data\":{\"bar\":[{\"error_x\":{\"color\":\"#2a3f5f\"},\"error_y\":{\"color\":\"#2a3f5f\"},\"marker\":{\"line\":{\"color\":\"#E5ECF6\",\"width\":0.5},\"pattern\":{\"fillmode\":\"overlay\",\"size\":10,\"solidity\":0.2}},\"type\":\"bar\"}],\"barpolar\":[{\"marker\":{\"line\":{\"color\":\"#E5ECF6\",\"width\":0.5},\"pattern\":{\"fillmode\":\"overlay\",\"size\":10,\"solidity\":0.2}},\"type\":\"barpolar\"}],\"carpet\":[{\"aaxis\":{\"endlinecolor\":\"#2a3f5f\",\"gridcolor\":\"white\",\"linecolor\":\"white\",\"minorgridcolor\":\"white\",\"startlinecolor\":\"#2a3f5f\"},\"baxis\":{\"endlinecolor\":\"#2a3f5f\",\"gridcolor\":\"white\",\"linecolor\":\"white\",\"minorgridcolor\":\"white\",\"startlinecolor\":\"#2a3f5f\"},\"type\":\"carpet\"}],\"choropleth\":[{\"colorbar\":{\"outlinewidth\":0,\"ticks\":\"\"},\"type\":\"choropleth\"}],\"contour\":[{\"colorbar\":{\"outlinewidth\":0,\"ticks\":\"\"},\"colorscale\":[[0.0,\"#0d0887\"],[0.1111111111111111,\"#46039f\"],[0.2222222222222222,\"#7201a8\"],[0.3333333333333333,\"#9c179e\"],[0.4444444444444444,\"#bd3786\"],[0.5555555555555556,\"#d8576b\"],[0.6666666666666666,\"#ed7953\"],[0.7777777777777778,\"#fb9f3a\"],[0.8888888888888888,\"#fdca26\"],[1.0,\"#f0f921\"]],\"type\":\"contour\"}],\"contourcarpet\":[{\"colorbar\":{\"outlinewidth\":0,\"ticks\":\"\"},\"type\":\"contourcarpet\"}],\"heatmap\":[{\"colorbar\":{\"outlinewidth\":0,\"ticks\":\"\"},\"colorscale\":[[0.0,\"#0d0887\"],[0.1111111111111111,\"#46039f\"],[0.2222222222222222,\"#7201a8\"],[0.3333333333333333,\"#9c179e\"],[0.4444444444444444,\"#bd3786\"],[0.5555555555555556,\"#d8576b\"],[0.6666666666666666,\"#ed7953\"],[0.7777777777777778,\"#fb9f3a\"],[0.8888888888888888,\"#fdca26\"],[1.0,\"#f0f921\"]],\"type\":\"heatmap\"}],\"heatmapgl\":[{\"colorbar\":{\"outlinewidth\":0,\"ticks\":\"\"},\"colorscale\":[[0.0,\"#0d0887\"],[0.1111111111111111,\"#46039f\"],[0.2222222222222222,\"#7201a8\"],[0.3333333333333333,\"#9c179e\"],[0.4444444444444444,\"#bd3786\"],[0.5555555555555556,\"#d8576b\"],[0.6666666666666666,\"#ed7953\"],[0.7777777777777778,\"#fb9f3a\"],[0.8888888888888888,\"#fdca26\"],[1.0,\"#f0f921\"]],\"type\":\"heatmapgl\"}],\"histogram\":[{\"marker\":{\"pattern\":{\"fillmode\":\"overlay\",\"size\":10,\"solidity\":0.2}},\"type\":\"histogram\"}],\"histogram2d\":[{\"colorbar\":{\"outlinewidth\":0,\"ticks\":\"\"},\"colorscale\":[[0.0,\"#0d0887\"],[0.1111111111111111,\"#46039f\"],[0.2222222222222222,\"#7201a8\"],[0.3333333333333333,\"#9c179e\"],[0.4444444444444444,\"#bd3786\"],[0.5555555555555556,\"#d8576b\"],[0.6666666666666666,\"#ed7953\"],[0.7777777777777778,\"#fb9f3a\"],[0.8888888888888888,\"#fdca26\"],[1.0,\"#f0f921\"]],\"type\":\"histogram2d\"}],\"histogram2dcontour\":[{\"colorbar\":{\"outlinewidth\":0,\"ticks\":\"\"},\"colorscale\":[[0.0,\"#0d0887\"],[0.1111111111111111,\"#46039f\"],[0.2222222222222222,\"#7201a8\"],[0.3333333333333333,\"#9c179e\"],[0.4444444444444444,\"#bd3786\"],[0.5555555555555556,\"#d8576b\"],[0.6666666666666666,\"#ed7953\"],[0.7777777777777778,\"#fb9f3a\"],[0.8888888888888888,\"#fdca26\"],[1.0,\"#f0f921\"]],\"type\":\"histogram2dcontour\"}],\"mesh3d\":[{\"colorbar\":{\"outlinewidth\":0,\"ticks\":\"\"},\"type\":\"mesh3d\"}],\"parcoords\":[{\"line\":{\"colorbar\":{\"outlinewidth\":0,\"ticks\":\"\"}},\"type\":\"parcoords\"}],\"pie\":[{\"automargin\":true,\"type\":\"pie\"}],\"scatter\":[{\"marker\":{\"colorbar\":{\"outlinewidth\":0,\"ticks\":\"\"}},\"type\":\"scatter\"}],\"scatter3d\":[{\"line\":{\"colorbar\":{\"outlinewidth\":0,\"ticks\":\"\"}},\"marker\":{\"colorbar\":{\"outlinewidth\":0,\"ticks\":\"\"}},\"type\":\"scatter3d\"}],\"scattercarpet\":[{\"marker\":{\"colorbar\":{\"outlinewidth\":0,\"ticks\":\"\"}},\"type\":\"scattercarpet\"}],\"scattergeo\":[{\"marker\":{\"colorbar\":{\"outlinewidth\":0,\"ticks\":\"\"}},\"type\":\"scattergeo\"}],\"scattergl\":[{\"marker\":{\"colorbar\":{\"outlinewidth\":0,\"ticks\":\"\"}},\"type\":\"scattergl\"}],\"scattermapbox\":[{\"marker\":{\"colorbar\":{\"outlinewidth\":0,\"ticks\":\"\"}},\"type\":\"scattermapbox\"}],\"scatterpolar\":[{\"marker\":{\"colorbar\":{\"outlinewidth\":0,\"ticks\":\"\"}},\"type\":\"scatterpolar\"}],\"scatterpolargl\":[{\"marker\":{\"colorbar\":{\"outlinewidth\":0,\"ticks\":\"\"}},\"type\":\"scatterpolargl\"}],\"scatterternary\":[{\"marker\":{\"colorbar\":{\"outlinewidth\":0,\"ticks\":\"\"}},\"type\":\"scatterternary\"}],\"surface\":[{\"colorbar\":{\"outlinewidth\":0,\"ticks\":\"\"},\"colorscale\":[[0.0,\"#0d0887\"],[0.1111111111111111,\"#46039f\"],[0.2222222222222222,\"#7201a8\"],[0.3333333333333333,\"#9c179e\"],[0.4444444444444444,\"#bd3786\"],[0.5555555555555556,\"#d8576b\"],[0.6666666666666666,\"#ed7953\"],[0.7777777777777778,\"#fb9f3a\"],[0.8888888888888888,\"#fdca26\"],[1.0,\"#f0f921\"]],\"type\":\"surface\"}],\"table\":[{\"cells\":{\"fill\":{\"color\":\"#EBF0F8\"},\"line\":{\"color\":\"white\"}},\"header\":{\"fill\":{\"color\":\"#C8D4E3\"},\"line\":{\"color\":\"white\"}},\"type\":\"table\"}]},\"layout\":{\"annotationdefaults\":{\"arrowcolor\":\"#2a3f5f\",\"arrowhead\":0,\"arrowwidth\":1},\"autotypenumbers\":\"strict\",\"coloraxis\":{\"colorbar\":{\"outlinewidth\":0,\"ticks\":\"\"}},\"colorscale\":{\"diverging\":[[0,\"#8e0152\"],[0.1,\"#c51b7d\"],[0.2,\"#de77ae\"],[0.3,\"#f1b6da\"],[0.4,\"#fde0ef\"],[0.5,\"#f7f7f7\"],[0.6,\"#e6f5d0\"],[0.7,\"#b8e186\"],[0.8,\"#7fbc41\"],[0.9,\"#4d9221\"],[1,\"#276419\"]],\"sequential\":[[0.0,\"#0d0887\"],[0.1111111111111111,\"#46039f\"],[0.2222222222222222,\"#7201a8\"],[0.3333333333333333,\"#9c179e\"],[0.4444444444444444,\"#bd3786\"],[0.5555555555555556,\"#d8576b\"],[0.6666666666666666,\"#ed7953\"],[0.7777777777777778,\"#fb9f3a\"],[0.8888888888888888,\"#fdca26\"],[1.0,\"#f0f921\"]],\"sequentialminus\":[[0.0,\"#0d0887\"],[0.1111111111111111,\"#46039f\"],[0.2222222222222222,\"#7201a8\"],[0.3333333333333333,\"#9c179e\"],[0.4444444444444444,\"#bd3786\"],[0.5555555555555556,\"#d8576b\"],[0.6666666666666666,\"#ed7953\"],[0.7777777777777778,\"#fb9f3a\"],[0.8888888888888888,\"#fdca26\"],[1.0,\"#f0f921\"]]},\"colorway\":[\"#636efa\",\"#EF553B\",\"#00cc96\",\"#ab63fa\",\"#FFA15A\",\"#19d3f3\",\"#FF6692\",\"#B6E880\",\"#FF97FF\",\"#FECB52\"],\"font\":{\"color\":\"#2a3f5f\"},\"geo\":{\"bgcolor\":\"white\",\"lakecolor\":\"white\",\"landcolor\":\"#E5ECF6\",\"showlakes\":true,\"showland\":true,\"subunitcolor\":\"white\"},\"hoverlabel\":{\"align\":\"left\"},\"hovermode\":\"closest\",\"mapbox\":{\"style\":\"light\"},\"paper_bgcolor\":\"white\",\"plot_bgcolor\":\"#E5ECF6\",\"polar\":{\"angularaxis\":{\"gridcolor\":\"white\",\"linecolor\":\"white\",\"ticks\":\"\"},\"bgcolor\":\"#E5ECF6\",\"radialaxis\":{\"gridcolor\":\"white\",\"linecolor\":\"white\",\"ticks\":\"\"}},\"scene\":{\"xaxis\":{\"backgroundcolor\":\"#E5ECF6\",\"gridcolor\":\"white\",\"gridwidth\":2,\"linecolor\":\"white\",\"showbackground\":true,\"ticks\":\"\",\"zerolinecolor\":\"white\"},\"yaxis\":{\"backgroundcolor\":\"#E5ECF6\",\"gridcolor\":\"white\",\"gridwidth\":2,\"linecolor\":\"white\",\"showbackground\":true,\"ticks\":\"\",\"zerolinecolor\":\"white\"},\"zaxis\":{\"backgroundcolor\":\"#E5ECF6\",\"gridcolor\":\"white\",\"gridwidth\":2,\"linecolor\":\"white\",\"showbackground\":true,\"ticks\":\"\",\"zerolinecolor\":\"white\"}},\"shapedefaults\":{\"line\":{\"color\":\"#2a3f5f\"}},\"ternary\":{\"aaxis\":{\"gridcolor\":\"white\",\"linecolor\":\"white\",\"ticks\":\"\"},\"baxis\":{\"gridcolor\":\"white\",\"linecolor\":\"white\",\"ticks\":\"\"},\"bgcolor\":\"#E5ECF6\",\"caxis\":{\"gridcolor\":\"white\",\"linecolor\":\"white\",\"ticks\":\"\"}},\"title\":{\"x\":0.05},\"xaxis\":{\"automargin\":true,\"gridcolor\":\"white\",\"linecolor\":\"white\",\"ticks\":\"\",\"title\":{\"standoff\":15},\"zerolinecolor\":\"white\",\"zerolinewidth\":2},\"yaxis\":{\"automargin\":true,\"gridcolor\":\"white\",\"linecolor\":\"white\",\"ticks\":\"\",\"title\":{\"standoff\":15},\"zerolinecolor\":\"white\",\"zerolinewidth\":2}}}},                        {\"responsive\": true}                    ).then(function(){\n",
              "                            \n",
              "var gd = document.getElementById('f34ebd58-11ec-408c-afb2-675600ada48b');\n",
              "var x = new MutationObserver(function (mutations, observer) {{\n",
              "        var display = window.getComputedStyle(gd).display;\n",
              "        if (!display || display === 'none') {{\n",
              "            console.log([gd, 'removed!']);\n",
              "            Plotly.purge(gd);\n",
              "            observer.disconnect();\n",
              "        }}\n",
              "}});\n",
              "\n",
              "// Listen for the removal of the full notebook cells\n",
              "var notebookContainer = gd.closest('#notebook-container');\n",
              "if (notebookContainer) {{\n",
              "    x.observe(notebookContainer, {childList: true});\n",
              "}}\n",
              "\n",
              "// Listen for the clearing of the current output cell\n",
              "var outputEl = gd.closest('.output');\n",
              "if (outputEl) {{\n",
              "    x.observe(outputEl, {childList: true});\n",
              "}}\n",
              "\n",
              "                        })                };                            </script>        </div>\n",
              "</body>\n",
              "</html>"
            ]
          },
          "metadata": {}
        }
      ]
    },
    {
      "cell_type": "code",
      "source": [
        "df2.skew(axis = 0, skipna = True)"
      ],
      "metadata": {
        "colab": {
          "base_uri": "https://localhost:8080/"
        },
        "id": "fsRvnlROX05K",
        "outputId": "3ce0e1f7-302d-4a6f-ef59-6bb2db9c8b23"
      },
      "execution_count": null,
      "outputs": [
        {
          "output_type": "execute_result",
          "data": {
            "text/plain": [
              "SA        3.157115\n",
              "Open      0.389641\n",
              "High      0.460802\n",
              "Low       0.321205\n",
              "Close     0.357341\n",
              "Volume    1.282593\n",
              "dtype: float64"
            ]
          },
          "metadata": {},
          "execution_count": 154
        }
      ]
    },
    {
      "cell_type": "markdown",
      "source": [
        "# **Detecting Outliers**\n",
        "Detected Outliers by using standard deviation method.Number of outliers obtained are 1.\n",
        "\n",
        "**Variable transformation and Outlier treatment**\n",
        "\n",
        "So we can remove that single outlier or fill it by mean value.\n",
        "Apply log transformation because it is highly skewed positively for Volume\n",
        "\n"
      ],
      "metadata": {
        "id": "ZiirIL9fX50A"
      }
    },
    {
      "cell_type": "code",
      "source": [
        "df3 = df2.Volume\n",
        "d=df3[((df3-df3.mean()).abs()>3*df3.std())]\n",
        "print(\"No of outliers by standard deviation method is \",len(d)-d.isna().sum())"
      ],
      "metadata": {
        "colab": {
          "base_uri": "https://localhost:8080/"
        },
        "id": "HvlmPoVDX8Un",
        "outputId": "3074b61a-4d91-4fc0-a11f-9aec518c15a0"
      },
      "execution_count": null,
      "outputs": [
        {
          "output_type": "stream",
          "name": "stdout",
          "text": [
            "No of outliers by standard deviation method is  1\n"
          ]
        }
      ]
    },
    {
      "cell_type": "code",
      "source": [
        "df2.skew(axis = 0, skipna = True)"
      ],
      "metadata": {
        "colab": {
          "base_uri": "https://localhost:8080/"
        },
        "id": "fYkGqpwPY5bS",
        "outputId": "c23b1a10-d2a9-4c2e-8190-6ab2fb5b1327"
      },
      "execution_count": null,
      "outputs": [
        {
          "output_type": "execute_result",
          "data": {
            "text/plain": [
              "SA        3.157115\n",
              "Open      0.389641\n",
              "High      0.460802\n",
              "Low       0.321205\n",
              "Close     0.357341\n",
              "Volume    1.282593\n",
              "dtype: float64"
            ]
          },
          "metadata": {},
          "execution_count": 156
        }
      ]
    },
    {
      "cell_type": "code",
      "source": [
        "import chart_studio.plotly as py\n",
        "import plotly.graph_objs as go\n",
        "\n",
        "trace0 = go.Box(\n",
        "    y =df2[\"Volume\"],\n",
        "    name = \"All Points\",\n",
        "    jitter = 0.3,\n",
        "    pointpos = -1.8,\n",
        "    boxpoints = 'all',\n",
        "    marker = dict(\n",
        "        color = 'rgb(7,40,89)'),\n",
        "    line = dict(\n",
        "        color = 'rgb(7,40,89)')\n",
        ")\n",
        "\n",
        "trace1 = go.Box(\n",
        "    y = df2[\"Volume\"],\n",
        "    name = \"Only Whiskers\",\n",
        "    boxpoints = False,\n",
        "    marker = dict(\n",
        "        color = 'rgb(9,56,125)'),\n",
        "    line = dict(\n",
        "        color = 'rgb(9,56,125)')\n",
        ")\n",
        "\n",
        "trace2 = go.Box(\n",
        "    y = df2[\"Volume\"],\n",
        "    name = \"Suspected Outliers\",\n",
        "    boxpoints = 'suspectedoutliers',\n",
        "    marker = dict(\n",
        "        color = 'rgb(8,81,156)',\n",
        "        outliercolor = 'rgba(219, 64, 82, 0.6)',\n",
        "        line = dict(\n",
        "            outliercolor = 'rgba(219, 64, 82, 0.6)',\n",
        "            outlierwidth = 2)),\n",
        "    line = dict(\n",
        "        color = 'rgb(8,81,156)')\n",
        ")\n",
        "\n",
        "trace3 = go.Box(\n",
        "    y = df2[\"Volume\"],\n",
        "    name = \"Whiskers and Outliers\",\n",
        "    boxpoints = 'outliers',\n",
        "    marker = dict(\n",
        "        color = 'rgb(107,174,214)'),\n",
        "    line = dict(\n",
        "        color = 'rgb(107,174,214)')\n",
        ")\n",
        "\n",
        "data = [trace0,trace1,trace2,trace3]\n",
        "\n",
        "layout = go.Layout(\n",
        "    title = \"Box Plot Styling Outliers for Attribute Volume After Outlier Treatment\"\n",
        ")\n",
        "\n",
        "fig = go.Figure(data=data,layout=layout)\n",
        "fig.show( filename = \"Box Plot Styling Outliers for Attribute Volume After Outlier Treatment\")\n"
      ],
      "metadata": {
        "colab": {
          "base_uri": "https://localhost:8080/",
          "height": 542
        },
        "id": "MHTl3zqGa_Yx",
        "outputId": "f1fa8dd9-69af-46da-f6c6-27f9a902d6e1"
      },
      "execution_count": null,
      "outputs": [
        {
          "output_type": "display_data",
          "data": {
            "text/html": [
              "<html>\n",
              "<head><meta charset=\"utf-8\" /></head>\n",
              "<body>\n",
              "    <div>            <script src=\"https://cdnjs.cloudflare.com/ajax/libs/mathjax/2.7.5/MathJax.js?config=TeX-AMS-MML_SVG\"></script><script type=\"text/javascript\">if (window.MathJax) {MathJax.Hub.Config({SVG: {font: \"STIX-Web\"}});}</script>                <script type=\"text/javascript\">window.PlotlyConfig = {MathJaxConfig: 'local'};</script>\n",
              "        <script src=\"https://cdn.plot.ly/plotly-2.8.3.min.js\"></script>                <div id=\"b83bbcac-1b0c-48d2-a6b4-c9acd4197a77\" class=\"plotly-graph-div\" style=\"height:525px; width:100%;\"></div>            <script type=\"text/javascript\">                                    window.PLOTLYENV=window.PLOTLYENV || {};                                    if (document.getElementById(\"b83bbcac-1b0c-48d2-a6b4-c9acd4197a77\")) {                    Plotly.newPlot(                        \"b83bbcac-1b0c-48d2-a6b4-c9acd4197a77\",                        [{\"boxpoints\":\"all\",\"jitter\":0.3,\"line\":{\"color\":\"rgb(7,40,89)\"},\"marker\":{\"color\":\"rgb(7,40,89)\"},\"name\":\"All Points\",\"pointpos\":-1.8,\"y\":[33416100,26706600,30112200,28054900,30605000,22021100,27913000,32403300,24308100,22247800,25147500,23496200,34472000,50521900,28865300,34955800,49036500,44929700,34812000,24379400,22264300,26285200,24541800,20331500,16909700,17419800,22042300,26548600,22585500,19095400,17098100,18392800,22833900,27762700,31752300,45107400,25355900,33002300,24922300,24881100,20541200,22333200,24164700,26799700,19728000,19549500,22272800,23717400,22280400,28009600,22194300,33408500,27327200,35289500,40225400,22973600,20677200,34168700,24538300,19955000,16330900,18012900],\"type\":\"box\"},{\"boxpoints\":false,\"line\":{\"color\":\"rgb(9,56,125)\"},\"marker\":{\"color\":\"rgb(9,56,125)\"},\"name\":\"Only Whiskers\",\"y\":[33416100,26706600,30112200,28054900,30605000,22021100,27913000,32403300,24308100,22247800,25147500,23496200,34472000,50521900,28865300,34955800,49036500,44929700,34812000,24379400,22264300,26285200,24541800,20331500,16909700,17419800,22042300,26548600,22585500,19095400,17098100,18392800,22833900,27762700,31752300,45107400,25355900,33002300,24922300,24881100,20541200,22333200,24164700,26799700,19728000,19549500,22272800,23717400,22280400,28009600,22194300,33408500,27327200,35289500,40225400,22973600,20677200,34168700,24538300,19955000,16330900,18012900],\"type\":\"box\"},{\"boxpoints\":\"suspectedoutliers\",\"line\":{\"color\":\"rgb(8,81,156)\"},\"marker\":{\"color\":\"rgb(8,81,156)\",\"line\":{\"outliercolor\":\"rgba(219, 64, 82, 0.6)\",\"outlierwidth\":2},\"outliercolor\":\"rgba(219, 64, 82, 0.6)\"},\"name\":\"Suspected Outliers\",\"y\":[33416100,26706600,30112200,28054900,30605000,22021100,27913000,32403300,24308100,22247800,25147500,23496200,34472000,50521900,28865300,34955800,49036500,44929700,34812000,24379400,22264300,26285200,24541800,20331500,16909700,17419800,22042300,26548600,22585500,19095400,17098100,18392800,22833900,27762700,31752300,45107400,25355900,33002300,24922300,24881100,20541200,22333200,24164700,26799700,19728000,19549500,22272800,23717400,22280400,28009600,22194300,33408500,27327200,35289500,40225400,22973600,20677200,34168700,24538300,19955000,16330900,18012900],\"type\":\"box\"},{\"boxpoints\":\"outliers\",\"line\":{\"color\":\"rgb(107,174,214)\"},\"marker\":{\"color\":\"rgb(107,174,214)\"},\"name\":\"Whiskers and Outliers\",\"y\":[33416100,26706600,30112200,28054900,30605000,22021100,27913000,32403300,24308100,22247800,25147500,23496200,34472000,50521900,28865300,34955800,49036500,44929700,34812000,24379400,22264300,26285200,24541800,20331500,16909700,17419800,22042300,26548600,22585500,19095400,17098100,18392800,22833900,27762700,31752300,45107400,25355900,33002300,24922300,24881100,20541200,22333200,24164700,26799700,19728000,19549500,22272800,23717400,22280400,28009600,22194300,33408500,27327200,35289500,40225400,22973600,20677200,34168700,24538300,19955000,16330900,18012900],\"type\":\"box\"}],                        {\"title\":{\"text\":\"Box Plot Styling Outliers for Attribute Volume After Outlier Treatment\"},\"template\":{\"data\":{\"bar\":[{\"error_x\":{\"color\":\"#2a3f5f\"},\"error_y\":{\"color\":\"#2a3f5f\"},\"marker\":{\"line\":{\"color\":\"#E5ECF6\",\"width\":0.5},\"pattern\":{\"fillmode\":\"overlay\",\"size\":10,\"solidity\":0.2}},\"type\":\"bar\"}],\"barpolar\":[{\"marker\":{\"line\":{\"color\":\"#E5ECF6\",\"width\":0.5},\"pattern\":{\"fillmode\":\"overlay\",\"size\":10,\"solidity\":0.2}},\"type\":\"barpolar\"}],\"carpet\":[{\"aaxis\":{\"endlinecolor\":\"#2a3f5f\",\"gridcolor\":\"white\",\"linecolor\":\"white\",\"minorgridcolor\":\"white\",\"startlinecolor\":\"#2a3f5f\"},\"baxis\":{\"endlinecolor\":\"#2a3f5f\",\"gridcolor\":\"white\",\"linecolor\":\"white\",\"minorgridcolor\":\"white\",\"startlinecolor\":\"#2a3f5f\"},\"type\":\"carpet\"}],\"choropleth\":[{\"colorbar\":{\"outlinewidth\":0,\"ticks\":\"\"},\"type\":\"choropleth\"}],\"contour\":[{\"colorbar\":{\"outlinewidth\":0,\"ticks\":\"\"},\"colorscale\":[[0.0,\"#0d0887\"],[0.1111111111111111,\"#46039f\"],[0.2222222222222222,\"#7201a8\"],[0.3333333333333333,\"#9c179e\"],[0.4444444444444444,\"#bd3786\"],[0.5555555555555556,\"#d8576b\"],[0.6666666666666666,\"#ed7953\"],[0.7777777777777778,\"#fb9f3a\"],[0.8888888888888888,\"#fdca26\"],[1.0,\"#f0f921\"]],\"type\":\"contour\"}],\"contourcarpet\":[{\"colorbar\":{\"outlinewidth\":0,\"ticks\":\"\"},\"type\":\"contourcarpet\"}],\"heatmap\":[{\"colorbar\":{\"outlinewidth\":0,\"ticks\":\"\"},\"colorscale\":[[0.0,\"#0d0887\"],[0.1111111111111111,\"#46039f\"],[0.2222222222222222,\"#7201a8\"],[0.3333333333333333,\"#9c179e\"],[0.4444444444444444,\"#bd3786\"],[0.5555555555555556,\"#d8576b\"],[0.6666666666666666,\"#ed7953\"],[0.7777777777777778,\"#fb9f3a\"],[0.8888888888888888,\"#fdca26\"],[1.0,\"#f0f921\"]],\"type\":\"heatmap\"}],\"heatmapgl\":[{\"colorbar\":{\"outlinewidth\":0,\"ticks\":\"\"},\"colorscale\":[[0.0,\"#0d0887\"],[0.1111111111111111,\"#46039f\"],[0.2222222222222222,\"#7201a8\"],[0.3333333333333333,\"#9c179e\"],[0.4444444444444444,\"#bd3786\"],[0.5555555555555556,\"#d8576b\"],[0.6666666666666666,\"#ed7953\"],[0.7777777777777778,\"#fb9f3a\"],[0.8888888888888888,\"#fdca26\"],[1.0,\"#f0f921\"]],\"type\":\"heatmapgl\"}],\"histogram\":[{\"marker\":{\"pattern\":{\"fillmode\":\"overlay\",\"size\":10,\"solidity\":0.2}},\"type\":\"histogram\"}],\"histogram2d\":[{\"colorbar\":{\"outlinewidth\":0,\"ticks\":\"\"},\"colorscale\":[[0.0,\"#0d0887\"],[0.1111111111111111,\"#46039f\"],[0.2222222222222222,\"#7201a8\"],[0.3333333333333333,\"#9c179e\"],[0.4444444444444444,\"#bd3786\"],[0.5555555555555556,\"#d8576b\"],[0.6666666666666666,\"#ed7953\"],[0.7777777777777778,\"#fb9f3a\"],[0.8888888888888888,\"#fdca26\"],[1.0,\"#f0f921\"]],\"type\":\"histogram2d\"}],\"histogram2dcontour\":[{\"colorbar\":{\"outlinewidth\":0,\"ticks\":\"\"},\"colorscale\":[[0.0,\"#0d0887\"],[0.1111111111111111,\"#46039f\"],[0.2222222222222222,\"#7201a8\"],[0.3333333333333333,\"#9c179e\"],[0.4444444444444444,\"#bd3786\"],[0.5555555555555556,\"#d8576b\"],[0.6666666666666666,\"#ed7953\"],[0.7777777777777778,\"#fb9f3a\"],[0.8888888888888888,\"#fdca26\"],[1.0,\"#f0f921\"]],\"type\":\"histogram2dcontour\"}],\"mesh3d\":[{\"colorbar\":{\"outlinewidth\":0,\"ticks\":\"\"},\"type\":\"mesh3d\"}],\"parcoords\":[{\"line\":{\"colorbar\":{\"outlinewidth\":0,\"ticks\":\"\"}},\"type\":\"parcoords\"}],\"pie\":[{\"automargin\":true,\"type\":\"pie\"}],\"scatter\":[{\"marker\":{\"colorbar\":{\"outlinewidth\":0,\"ticks\":\"\"}},\"type\":\"scatter\"}],\"scatter3d\":[{\"line\":{\"colorbar\":{\"outlinewidth\":0,\"ticks\":\"\"}},\"marker\":{\"colorbar\":{\"outlinewidth\":0,\"ticks\":\"\"}},\"type\":\"scatter3d\"}],\"scattercarpet\":[{\"marker\":{\"colorbar\":{\"outlinewidth\":0,\"ticks\":\"\"}},\"type\":\"scattercarpet\"}],\"scattergeo\":[{\"marker\":{\"colorbar\":{\"outlinewidth\":0,\"ticks\":\"\"}},\"type\":\"scattergeo\"}],\"scattergl\":[{\"marker\":{\"colorbar\":{\"outlinewidth\":0,\"ticks\":\"\"}},\"type\":\"scattergl\"}],\"scattermapbox\":[{\"marker\":{\"colorbar\":{\"outlinewidth\":0,\"ticks\":\"\"}},\"type\":\"scattermapbox\"}],\"scatterpolar\":[{\"marker\":{\"colorbar\":{\"outlinewidth\":0,\"ticks\":\"\"}},\"type\":\"scatterpolar\"}],\"scatterpolargl\":[{\"marker\":{\"colorbar\":{\"outlinewidth\":0,\"ticks\":\"\"}},\"type\":\"scatterpolargl\"}],\"scatterternary\":[{\"marker\":{\"colorbar\":{\"outlinewidth\":0,\"ticks\":\"\"}},\"type\":\"scatterternary\"}],\"surface\":[{\"colorbar\":{\"outlinewidth\":0,\"ticks\":\"\"},\"colorscale\":[[0.0,\"#0d0887\"],[0.1111111111111111,\"#46039f\"],[0.2222222222222222,\"#7201a8\"],[0.3333333333333333,\"#9c179e\"],[0.4444444444444444,\"#bd3786\"],[0.5555555555555556,\"#d8576b\"],[0.6666666666666666,\"#ed7953\"],[0.7777777777777778,\"#fb9f3a\"],[0.8888888888888888,\"#fdca26\"],[1.0,\"#f0f921\"]],\"type\":\"surface\"}],\"table\":[{\"cells\":{\"fill\":{\"color\":\"#EBF0F8\"},\"line\":{\"color\":\"white\"}},\"header\":{\"fill\":{\"color\":\"#C8D4E3\"},\"line\":{\"color\":\"white\"}},\"type\":\"table\"}]},\"layout\":{\"annotationdefaults\":{\"arrowcolor\":\"#2a3f5f\",\"arrowhead\":0,\"arrowwidth\":1},\"autotypenumbers\":\"strict\",\"coloraxis\":{\"colorbar\":{\"outlinewidth\":0,\"ticks\":\"\"}},\"colorscale\":{\"diverging\":[[0,\"#8e0152\"],[0.1,\"#c51b7d\"],[0.2,\"#de77ae\"],[0.3,\"#f1b6da\"],[0.4,\"#fde0ef\"],[0.5,\"#f7f7f7\"],[0.6,\"#e6f5d0\"],[0.7,\"#b8e186\"],[0.8,\"#7fbc41\"],[0.9,\"#4d9221\"],[1,\"#276419\"]],\"sequential\":[[0.0,\"#0d0887\"],[0.1111111111111111,\"#46039f\"],[0.2222222222222222,\"#7201a8\"],[0.3333333333333333,\"#9c179e\"],[0.4444444444444444,\"#bd3786\"],[0.5555555555555556,\"#d8576b\"],[0.6666666666666666,\"#ed7953\"],[0.7777777777777778,\"#fb9f3a\"],[0.8888888888888888,\"#fdca26\"],[1.0,\"#f0f921\"]],\"sequentialminus\":[[0.0,\"#0d0887\"],[0.1111111111111111,\"#46039f\"],[0.2222222222222222,\"#7201a8\"],[0.3333333333333333,\"#9c179e\"],[0.4444444444444444,\"#bd3786\"],[0.5555555555555556,\"#d8576b\"],[0.6666666666666666,\"#ed7953\"],[0.7777777777777778,\"#fb9f3a\"],[0.8888888888888888,\"#fdca26\"],[1.0,\"#f0f921\"]]},\"colorway\":[\"#636efa\",\"#EF553B\",\"#00cc96\",\"#ab63fa\",\"#FFA15A\",\"#19d3f3\",\"#FF6692\",\"#B6E880\",\"#FF97FF\",\"#FECB52\"],\"font\":{\"color\":\"#2a3f5f\"},\"geo\":{\"bgcolor\":\"white\",\"lakecolor\":\"white\",\"landcolor\":\"#E5ECF6\",\"showlakes\":true,\"showland\":true,\"subunitcolor\":\"white\"},\"hoverlabel\":{\"align\":\"left\"},\"hovermode\":\"closest\",\"mapbox\":{\"style\":\"light\"},\"paper_bgcolor\":\"white\",\"plot_bgcolor\":\"#E5ECF6\",\"polar\":{\"angularaxis\":{\"gridcolor\":\"white\",\"linecolor\":\"white\",\"ticks\":\"\"},\"bgcolor\":\"#E5ECF6\",\"radialaxis\":{\"gridcolor\":\"white\",\"linecolor\":\"white\",\"ticks\":\"\"}},\"scene\":{\"xaxis\":{\"backgroundcolor\":\"#E5ECF6\",\"gridcolor\":\"white\",\"gridwidth\":2,\"linecolor\":\"white\",\"showbackground\":true,\"ticks\":\"\",\"zerolinecolor\":\"white\"},\"yaxis\":{\"backgroundcolor\":\"#E5ECF6\",\"gridcolor\":\"white\",\"gridwidth\":2,\"linecolor\":\"white\",\"showbackground\":true,\"ticks\":\"\",\"zerolinecolor\":\"white\"},\"zaxis\":{\"backgroundcolor\":\"#E5ECF6\",\"gridcolor\":\"white\",\"gridwidth\":2,\"linecolor\":\"white\",\"showbackground\":true,\"ticks\":\"\",\"zerolinecolor\":\"white\"}},\"shapedefaults\":{\"line\":{\"color\":\"#2a3f5f\"}},\"ternary\":{\"aaxis\":{\"gridcolor\":\"white\",\"linecolor\":\"white\",\"ticks\":\"\"},\"baxis\":{\"gridcolor\":\"white\",\"linecolor\":\"white\",\"ticks\":\"\"},\"bgcolor\":\"#E5ECF6\",\"caxis\":{\"gridcolor\":\"white\",\"linecolor\":\"white\",\"ticks\":\"\"}},\"title\":{\"x\":0.05},\"xaxis\":{\"automargin\":true,\"gridcolor\":\"white\",\"linecolor\":\"white\",\"ticks\":\"\",\"title\":{\"standoff\":15},\"zerolinecolor\":\"white\",\"zerolinewidth\":2},\"yaxis\":{\"automargin\":true,\"gridcolor\":\"white\",\"linecolor\":\"white\",\"ticks\":\"\",\"title\":{\"standoff\":15},\"zerolinecolor\":\"white\",\"zerolinewidth\":2}}}},                        {\"responsive\": true}                    ).then(function(){\n",
              "                            \n",
              "var gd = document.getElementById('b83bbcac-1b0c-48d2-a6b4-c9acd4197a77');\n",
              "var x = new MutationObserver(function (mutations, observer) {{\n",
              "        var display = window.getComputedStyle(gd).display;\n",
              "        if (!display || display === 'none') {{\n",
              "            console.log([gd, 'removed!']);\n",
              "            Plotly.purge(gd);\n",
              "            observer.disconnect();\n",
              "        }}\n",
              "}});\n",
              "\n",
              "// Listen for the removal of the full notebook cells\n",
              "var notebookContainer = gd.closest('#notebook-container');\n",
              "if (notebookContainer) {{\n",
              "    x.observe(notebookContainer, {childList: true});\n",
              "}}\n",
              "\n",
              "// Listen for the clearing of the current output cell\n",
              "var outputEl = gd.closest('.output');\n",
              "if (outputEl) {{\n",
              "    x.observe(outputEl, {childList: true});\n",
              "}}\n",
              "\n",
              "                        })                };                            </script>        </div>\n",
              "</body>\n",
              "</html>"
            ]
          },
          "metadata": {}
        }
      ]
    },
    {
      "cell_type": "markdown",
      "source": [
        "# **Build and Train the Model**"
      ],
      "metadata": {
        "id": "PkR96n6vc7Ix"
      }
    },
    {
      "cell_type": "code",
      "source": [
        "df2.head()"
      ],
      "metadata": {
        "colab": {
          "base_uri": "https://localhost:8080/",
          "height": 204
        },
        "id": "oAnPwNjhc9IZ",
        "outputId": "3c9cfb3b-987c-482d-ddf4-2d020275c202"
      },
      "execution_count": null,
      "outputs": [
        {
          "output_type": "execute_result",
          "data": {
            "text/plain": [
              "         Date   SA         Open         High          Low        Close  \\\n",
              "0  2022-01-04  0.0  1189.550049  1208.000000  1123.050049  1149.589966   \n",
              "1  2022-01-05  0.0  1146.650024  1170.339966  1081.010010  1088.119995   \n",
              "2  2022-01-06  0.0  1077.000000  1088.000000  1020.500000  1064.699951   \n",
              "3  2022-01-07  0.0  1080.369995  1080.930054  1010.000000  1026.959961   \n",
              "4  2022-01-10  0.0  1000.000000  1059.099976   980.000000  1058.119995   \n",
              "\n",
              "     Volume  \n",
              "0  33416100  \n",
              "1  26706600  \n",
              "2  30112200  \n",
              "3  28054900  \n",
              "4  30605000  "
            ],
            "text/html": [
              "\n",
              "  <div id=\"df-0516eecb-535c-47b1-8d46-cc1df70bb573\">\n",
              "    <div class=\"colab-df-container\">\n",
              "      <div>\n",
              "<style scoped>\n",
              "    .dataframe tbody tr th:only-of-type {\n",
              "        vertical-align: middle;\n",
              "    }\n",
              "\n",
              "    .dataframe tbody tr th {\n",
              "        vertical-align: top;\n",
              "    }\n",
              "\n",
              "    .dataframe thead th {\n",
              "        text-align: right;\n",
              "    }\n",
              "</style>\n",
              "<table border=\"1\" class=\"dataframe\">\n",
              "  <thead>\n",
              "    <tr style=\"text-align: right;\">\n",
              "      <th></th>\n",
              "      <th>Date</th>\n",
              "      <th>SA</th>\n",
              "      <th>Open</th>\n",
              "      <th>High</th>\n",
              "      <th>Low</th>\n",
              "      <th>Close</th>\n",
              "      <th>Volume</th>\n",
              "    </tr>\n",
              "  </thead>\n",
              "  <tbody>\n",
              "    <tr>\n",
              "      <th>0</th>\n",
              "      <td>2022-01-04</td>\n",
              "      <td>0.0</td>\n",
              "      <td>1189.550049</td>\n",
              "      <td>1208.000000</td>\n",
              "      <td>1123.050049</td>\n",
              "      <td>1149.589966</td>\n",
              "      <td>33416100</td>\n",
              "    </tr>\n",
              "    <tr>\n",
              "      <th>1</th>\n",
              "      <td>2022-01-05</td>\n",
              "      <td>0.0</td>\n",
              "      <td>1146.650024</td>\n",
              "      <td>1170.339966</td>\n",
              "      <td>1081.010010</td>\n",
              "      <td>1088.119995</td>\n",
              "      <td>26706600</td>\n",
              "    </tr>\n",
              "    <tr>\n",
              "      <th>2</th>\n",
              "      <td>2022-01-06</td>\n",
              "      <td>0.0</td>\n",
              "      <td>1077.000000</td>\n",
              "      <td>1088.000000</td>\n",
              "      <td>1020.500000</td>\n",
              "      <td>1064.699951</td>\n",
              "      <td>30112200</td>\n",
              "    </tr>\n",
              "    <tr>\n",
              "      <th>3</th>\n",
              "      <td>2022-01-07</td>\n",
              "      <td>0.0</td>\n",
              "      <td>1080.369995</td>\n",
              "      <td>1080.930054</td>\n",
              "      <td>1010.000000</td>\n",
              "      <td>1026.959961</td>\n",
              "      <td>28054900</td>\n",
              "    </tr>\n",
              "    <tr>\n",
              "      <th>4</th>\n",
              "      <td>2022-01-10</td>\n",
              "      <td>0.0</td>\n",
              "      <td>1000.000000</td>\n",
              "      <td>1059.099976</td>\n",
              "      <td>980.000000</td>\n",
              "      <td>1058.119995</td>\n",
              "      <td>30605000</td>\n",
              "    </tr>\n",
              "  </tbody>\n",
              "</table>\n",
              "</div>\n",
              "      <button class=\"colab-df-convert\" onclick=\"convertToInteractive('df-0516eecb-535c-47b1-8d46-cc1df70bb573')\"\n",
              "              title=\"Convert this dataframe to an interactive table.\"\n",
              "              style=\"display:none;\">\n",
              "        \n",
              "  <svg xmlns=\"http://www.w3.org/2000/svg\" height=\"24px\"viewBox=\"0 0 24 24\"\n",
              "       width=\"24px\">\n",
              "    <path d=\"M0 0h24v24H0V0z\" fill=\"none\"/>\n",
              "    <path d=\"M18.56 5.44l.94 2.06.94-2.06 2.06-.94-2.06-.94-.94-2.06-.94 2.06-2.06.94zm-11 1L8.5 8.5l.94-2.06 2.06-.94-2.06-.94L8.5 2.5l-.94 2.06-2.06.94zm10 10l.94 2.06.94-2.06 2.06-.94-2.06-.94-.94-2.06-.94 2.06-2.06.94z\"/><path d=\"M17.41 7.96l-1.37-1.37c-.4-.4-.92-.59-1.43-.59-.52 0-1.04.2-1.43.59L10.3 9.45l-7.72 7.72c-.78.78-.78 2.05 0 2.83L4 21.41c.39.39.9.59 1.41.59.51 0 1.02-.2 1.41-.59l7.78-7.78 2.81-2.81c.8-.78.8-2.07 0-2.86zM5.41 20L4 18.59l7.72-7.72 1.47 1.35L5.41 20z\"/>\n",
              "  </svg>\n",
              "      </button>\n",
              "      \n",
              "  <style>\n",
              "    .colab-df-container {\n",
              "      display:flex;\n",
              "      flex-wrap:wrap;\n",
              "      gap: 12px;\n",
              "    }\n",
              "\n",
              "    .colab-df-convert {\n",
              "      background-color: #E8F0FE;\n",
              "      border: none;\n",
              "      border-radius: 50%;\n",
              "      cursor: pointer;\n",
              "      display: none;\n",
              "      fill: #1967D2;\n",
              "      height: 32px;\n",
              "      padding: 0 0 0 0;\n",
              "      width: 32px;\n",
              "    }\n",
              "\n",
              "    .colab-df-convert:hover {\n",
              "      background-color: #E2EBFA;\n",
              "      box-shadow: 0px 1px 2px rgba(60, 64, 67, 0.3), 0px 1px 3px 1px rgba(60, 64, 67, 0.15);\n",
              "      fill: #174EA6;\n",
              "    }\n",
              "\n",
              "    [theme=dark] .colab-df-convert {\n",
              "      background-color: #3B4455;\n",
              "      fill: #D2E3FC;\n",
              "    }\n",
              "\n",
              "    [theme=dark] .colab-df-convert:hover {\n",
              "      background-color: #434B5C;\n",
              "      box-shadow: 0px 1px 3px 1px rgba(0, 0, 0, 0.15);\n",
              "      filter: drop-shadow(0px 1px 2px rgba(0, 0, 0, 0.3));\n",
              "      fill: #FFFFFF;\n",
              "    }\n",
              "  </style>\n",
              "\n",
              "      <script>\n",
              "        const buttonEl =\n",
              "          document.querySelector('#df-0516eecb-535c-47b1-8d46-cc1df70bb573 button.colab-df-convert');\n",
              "        buttonEl.style.display =\n",
              "          google.colab.kernel.accessAllowed ? 'block' : 'none';\n",
              "\n",
              "        async function convertToInteractive(key) {\n",
              "          const element = document.querySelector('#df-0516eecb-535c-47b1-8d46-cc1df70bb573');\n",
              "          const dataTable =\n",
              "            await google.colab.kernel.invokeFunction('convertToInteractive',\n",
              "                                                     [key], {});\n",
              "          if (!dataTable) return;\n",
              "\n",
              "          const docLinkHtml = 'Like what you see? Visit the ' +\n",
              "            '<a target=\"_blank\" href=https://colab.research.google.com/notebooks/data_table.ipynb>data table notebook</a>'\n",
              "            + ' to learn more about interactive tables.';\n",
              "          element.innerHTML = '';\n",
              "          dataTable['output_type'] = 'display_data';\n",
              "          await google.colab.output.renderOutput(dataTable, element);\n",
              "          const docLink = document.createElement('div');\n",
              "          docLink.innerHTML = docLinkHtml;\n",
              "          element.appendChild(docLink);\n",
              "        }\n",
              "      </script>\n",
              "    </div>\n",
              "  </div>\n",
              "  "
            ]
          },
          "metadata": {},
          "execution_count": 158
        }
      ]
    },
    {
      "cell_type": "markdown",
      "source": [
        "# **Open,Close,High,Low are dependent variables**"
      ],
      "metadata": {
        "id": "R_92i3bndZtn"
      }
    },
    {
      "cell_type": "code",
      "source": [
        "from sklearn.linear_model import LinearRegression\n",
        "X = df2[['SA','Volume']] # here we have 2 variables for multiple regression. If you just want to use one variable for simple linear regression, then use X = df['Interest_Rate'] for example.Alternatively, you may add additional variables within the brackets\n",
        "Y = df2['Open']"
      ],
      "metadata": {
        "id": "nvB-a1cddqsQ"
      },
      "execution_count": null,
      "outputs": []
    },
    {
      "cell_type": "code",
      "source": [
        "from sklearn.model_selection import train_test_split\n",
        "from sklearn.model_selection import cross_val_score\n",
        "X_train, X_test, y_train, y_test_open = train_test_split(X, Y, test_size = 0.15, random_state = 3)\n",
        "\n",
        "#### Fitting Multiple Linear Regression to the Training setfrom sklearn.linear_model import LinearRegression\n",
        "regressor = LinearRegression()\n",
        "regressor.fit(X_train, y_train)\n",
        "y_pred_open = regressor.predict(X_test)"
      ],
      "metadata": {
        "id": "ZEvwdKiPdsqo"
      },
      "execution_count": null,
      "outputs": []
    },
    {
      "cell_type": "code",
      "source": [
        "from sklearn.metrics import explained_variance_score\n",
        "explained_variance_score(y_test_open, y_pred_open)"
      ],
      "metadata": {
        "colab": {
          "base_uri": "https://localhost:8080/"
        },
        "id": "YLHk6hBbeB2i",
        "outputId": "bdc81dc4-3c7d-471a-9a3e-00b29ca3accf"
      },
      "execution_count": null,
      "outputs": [
        {
          "output_type": "execute_result",
          "data": {
            "text/plain": [
              "0.0648384127874354"
            ]
          },
          "metadata": {},
          "execution_count": 163
        }
      ]
    },
    {
      "cell_type": "markdown",
      "source": [
        "# **explained_{}variance(y, \\hat{y}) = 1 - \\frac{Var{ y - \\hat{y}}}{Var{y}} tex commands**"
      ],
      "metadata": {
        "id": "bpAsAEjjeLAI"
      }
    },
    {
      "cell_type": "markdown",
      "source": [
        "Accuracy is evaluated using these formula\n",
        "If the value is less than zero then the model is worse.\n",
        "If the value is close to 1 then it is the best model.\n"
      ],
      "metadata": {
        "id": "j-sIQWiyOKf6"
      }
    },
    {
      "cell_type": "code",
      "source": [
        "from sklearn.metrics import r2_score\n",
        "r2_score(y_test_open, y_pred_open)"
      ],
      "metadata": {
        "colab": {
          "base_uri": "https://localhost:8080/"
        },
        "id": "qWesC7nKeMsQ",
        "outputId": "ea186f34-1b2f-4f70-9be7-dbf227a23da9"
      },
      "execution_count": null,
      "outputs": [
        {
          "output_type": "execute_result",
          "data": {
            "text/plain": [
              "0.0557069039854412"
            ]
          },
          "metadata": {},
          "execution_count": 164
        }
      ]
    },
    {
      "cell_type": "code",
      "source": [
        "# Similarly for other  dependent variables"
      ],
      "metadata": {
        "id": "WBKgSbGdeWN4"
      },
      "execution_count": null,
      "outputs": []
    },
    {
      "cell_type": "code",
      "source": [
        "Y= df2['Close']\n",
        "X_train, X_test, y_train, y_test_close = train_test_split(X, Y, test_size = 0.15, random_state = 3)\n",
        "\n",
        "#### Fitting Multiple Linear Regression to the Training setfrom sklearn.linear_model import LinearRegression\n",
        "regressor = LinearRegression()\n",
        "regressor.fit(X_train, y_train)\n",
        "y_pred_close = regressor.predict(X_test)\n",
        "explained_variance_score(y_test_close, y_pred_close)"
      ],
      "metadata": {
        "colab": {
          "base_uri": "https://localhost:8080/"
        },
        "id": "GGIfu6uReW6x",
        "outputId": "489d7d59-d74b-4e09-adbe-52f55b7e2c81"
      },
      "execution_count": null,
      "outputs": [
        {
          "output_type": "execute_result",
          "data": {
            "text/plain": [
              "0.014967843141496129"
            ]
          },
          "metadata": {},
          "execution_count": 165
        }
      ]
    },
    {
      "cell_type": "code",
      "source": [
        "Y= df2['High']\n",
        "X_train, X_test, y_train, y_test_high = train_test_split(X, Y, test_size = 0.15, random_state = 3)\n",
        "\n",
        "#### Fitting Multiple Linear Regression to the Training setfrom sklearn.linear_model import LinearRegression\n",
        "regressor = LinearRegression()\n",
        "regressor.fit(X_train, y_train)\n",
        "y_pred_high = regressor.predict(X_test)\n",
        "explained_variance_score(y_test_high, y_pred_high)"
      ],
      "metadata": {
        "colab": {
          "base_uri": "https://localhost:8080/"
        },
        "id": "nbwXHH7Mebzg",
        "outputId": "7ec4c475-6a6a-4e5b-b4db-331e45a0ef73"
      },
      "execution_count": null,
      "outputs": [
        {
          "output_type": "execute_result",
          "data": {
            "text/plain": [
              "0.057819596149092045"
            ]
          },
          "metadata": {},
          "execution_count": 166
        }
      ]
    },
    {
      "cell_type": "code",
      "source": [
        "Y= df2['Low']\n",
        "X_train, X_test, y_train, y_test_low = train_test_split(X, Y, test_size = 0.15, random_state = 3)\n",
        "\n",
        "#### Fitting Multiple Linear Regression to the Training setfrom sklearn.linear_model import LinearRegression\n",
        "regressor = LinearRegression()\n",
        "regressor.fit(X_train, y_train)\n",
        "y_pred_low = regressor.predict(X_test)\n",
        "explained_variance_score(y_test_low, y_pred_low)"
      ],
      "metadata": {
        "colab": {
          "base_uri": "https://localhost:8080/"
        },
        "id": "GnTts1aqeecx",
        "outputId": "5e32edb0-0fbd-4edd-c4f5-d87d127f9d3b"
      },
      "execution_count": null,
      "outputs": [
        {
          "output_type": "execute_result",
          "data": {
            "text/plain": [
              "0.06905793681369565"
            ]
          },
          "metadata": {},
          "execution_count": 167
        }
      ]
    },
    {
      "cell_type": "code",
      "source": [
        "# Create traces\n",
        "trace0 = go.Scatter(\n",
        "    y = y_pred_open,\n",
        "    x = df2[\"Date\"][len(df2[\"Date\"])-len(y_pred_open):len(df2[\"Date\"])],\n",
        "    mode = 'markers+lines',\n",
        "    name = 'y_pred_open',\n",
        "    marker={\"size\": 2}\n",
        ")\n",
        "trace1 = go.Scatter(\n",
        "    y = y_test_open,\n",
        "    x = df2[\"Date\"][len(df2[\"Date\"])-len(y_pred_open):len(df2[\"Date\"])],\n",
        "    mode = 'markers+lines',\n",
        "    name = 'y_test_open',\n",
        "    marker={\"size\": 3.5}\n",
        ")\n",
        "trace2 = go.Scatter(\n",
        "    y = y_pred_close,\n",
        "    x = df2[\"Date\"][len(df2[\"Date\"])-len(y_pred_close):len(df2[\"Date\"])],\n",
        "    mode = 'markers+lines',\n",
        "    name = 'y_pred_close',\n",
        "    marker={\"size\": 3}\n",
        ")\n",
        "trace3 = go.Scatter(\n",
        "    y = y_test_close,\n",
        "    x = df2[\"Date\"][len(df2[\"Date\"])-len(y_pred_close):len(df2[\"Date\"])],\n",
        "    mode = 'markers+lines',\n",
        "    name = 'y_test_close',\n",
        "    marker={\"size\": 3.5}\n",
        "\n",
        ")\n",
        "\n",
        "trace4 = go.Scatter(\n",
        "    y = y_pred_high,\n",
        "    x = df2[\"Date\"][len(df2[\"Date\"])-len(y_pred_high):len(df2[\"Date\"])],\n",
        "    mode = 'markers+lines',\n",
        "    name = 'y_pred_high',\n",
        "    marker={\"size\": 2}\n",
        ")\n",
        "trace5 = go.Scatter(\n",
        "    y = y_test_high,\n",
        "    x = df2[\"Date\"][len(df2[\"Date\"])-len(y_pred_high):len(df2[\"Date\"])],\n",
        "    mode = 'markers+lines',\n",
        "    name = 'y_test_high',\n",
        "    marker={\"size\": 3.5}\n",
        ")\n",
        "trace6 = go.Scatter(\n",
        "    y = y_pred_low,\n",
        "    x = df2[\"Date\"][len(df2[\"Date\"])-len(y_pred_low):len(df2[\"Date\"])],\n",
        "    mode = 'markers+lines',\n",
        "    name = 'y_pred_low',\n",
        "    marker={\"size\": 3}\n",
        ")\n",
        "trace7 = go.Scatter(\n",
        "    y =  y_test_low,\n",
        "    x = df2[\"Date\"][len(df2[\"Date\"])-len(y_pred_low):len(df2[\"Date\"])],\n",
        "    mode = 'markers+lines',\n",
        "    name = 'y_test_low',\n",
        "    marker={\"size\": 3.5}\n",
        "\n",
        ")\n",
        "\n",
        "data = [trace0, trace1, trace2,trace3,trace4, trace5, trace6,trace7]\n",
        "layout= go.Layout(\n",
        "    title= 'Visualizing  Test and Predicted Attributes  ',\n",
        "    hovermode= 'closest',\n",
        "    xaxis= dict(\n",
        "        title= 'Dates',\n",
        "        ticklen= 5,\n",
        "        zeroline= False,\n",
        "        gridwidth= 2,\n",
        "    ),\n",
        "    yaxis=dict(\n",
        "        title= 'Test and Predicted Values',\n",
        "        ticklen= 5,\n",
        "        gridwidth= 2,\n",
        "    ),\n",
        "    showlegend= False\n",
        ")\n",
        "\n",
        "fig = go.Figure(data=data,layout=layout)\n",
        "fig.show( filename ='scatter-mode')"
      ],
      "metadata": {
        "colab": {
          "base_uri": "https://localhost:8080/",
          "height": 542
        },
        "id": "HNKa8t46ekwE",
        "outputId": "9d055268-02eb-4097-918d-9cce395af6f6"
      },
      "execution_count": null,
      "outputs": [
        {
          "output_type": "display_data",
          "data": {
            "text/html": [
              "<html>\n",
              "<head><meta charset=\"utf-8\" /></head>\n",
              "<body>\n",
              "    <div>            <script src=\"https://cdnjs.cloudflare.com/ajax/libs/mathjax/2.7.5/MathJax.js?config=TeX-AMS-MML_SVG\"></script><script type=\"text/javascript\">if (window.MathJax) {MathJax.Hub.Config({SVG: {font: \"STIX-Web\"}});}</script>                <script type=\"text/javascript\">window.PlotlyConfig = {MathJaxConfig: 'local'};</script>\n",
              "        <script src=\"https://cdn.plot.ly/plotly-2.8.3.min.js\"></script>                <div id=\"e73e9dc1-ed94-4f91-8741-978fe3e8232c\" class=\"plotly-graph-div\" style=\"height:525px; width:100%;\"></div>            <script type=\"text/javascript\">                                    window.PLOTLYENV=window.PLOTLYENV || {};                                    if (document.getElementById(\"e73e9dc1-ed94-4f91-8741-978fe3e8232c\")) {                    Plotly.newPlot(                        \"e73e9dc1-ed94-4f91-8741-978fe3e8232c\",                        [{\"marker\":{\"size\":2},\"mode\":\"markers+lines\",\"name\":\"y_pred_open\",\"x\":[\"2022-03-21\",\"2022-03-22\",\"2022-03-23\",\"2022-03-24\",\"2022-03-25\",\"2022-03-28\",\"2022-03-29\",\"2022-03-30\",\"2022-03-31\",\"2022-04-01\"],\"y\":[945.0069147556377,885.6080387854631,942.3198614190968,911.3976243513154,932.2471303679067,947.3262372444922,938.3037407340246,944.6438251710774,930.4980882098332,893.997181389333],\"type\":\"scatter\"},{\"marker\":{\"size\":3.5},\"mode\":\"markers+lines\",\"name\":\"y_test_open\",\"x\":[\"2022-03-21\",\"2022-03-22\",\"2022-03-23\",\"2022-03-24\",\"2022-03-25\",\"2022-03-28\",\"2022-03-29\",\"2022-03-30\",\"2022-03-31\",\"2022-04-01\"],\"y\":[775.27002,872.710022,1107.98999,904.76001,815.01001,923.789978,1078.849976,861.570007,996.340027,834.130005],\"type\":\"scatter\"},{\"marker\":{\"size\":3},\"mode\":\"markers+lines\",\"name\":\"y_pred_close\",\"x\":[\"2022-03-21\",\"2022-03-22\",\"2022-03-23\",\"2022-03-24\",\"2022-03-25\",\"2022-03-28\",\"2022-03-29\",\"2022-03-30\",\"2022-03-31\",\"2022-04-01\"],\"y\":[937.9140574734104,908.3212491407254,935.7807049811363,911.2303804236915,927.7835857576948,939.7554546443183,932.5921560393418,937.6257870250323,926.3949555447114,914.9817043087081],\"type\":\"scatter\"},{\"marker\":{\"size\":3.5},\"mode\":\"markers+lines\",\"name\":\"y_test_close\",\"x\":[\"2022-03-21\",\"2022-03-22\",\"2022-03-23\",\"2022-03-24\",\"2022-03-25\",\"2022-03-28\",\"2022-03-29\",\"2022-03-30\",\"2022-03-31\",\"2022-04-01\"],\"y\":[801.890015,936.719971,1099.569946,930.0,870.429993,907.340027,1106.219971,875.76001,943.900024,821.530029],\"type\":\"scatter\"},{\"marker\":{\"size\":2},\"mode\":\"markers+lines\",\"name\":\"y_pred_high\",\"x\":[\"2022-03-21\",\"2022-03-22\",\"2022-03-23\",\"2022-03-24\",\"2022-03-25\",\"2022-03-28\",\"2022-03-29\",\"2022-03-30\",\"2022-03-31\",\"2022-04-01\"],\"y\":[963.7398384612303,926.0441120636949,963.6976209850957,963.2117881258506,963.5393638798197,963.7762783563712,963.6345219476223,963.7341338011618,963.5118839096372,926.17591757081],\"type\":\"scatter\"},{\"marker\":{\"size\":3.5},\"mode\":\"markers+lines\",\"name\":\"y_test_high\",\"x\":[\"2022-03-21\",\"2022-03-22\",\"2022-03-23\",\"2022-03-24\",\"2022-03-25\",\"2022-03-28\",\"2022-03-29\",\"2022-03-30\",\"2022-03-31\",\"2022-04-01\"],\"y\":[805.570007,937.98999,1114.77002,933.51001,876.859985,947.77002,1114.839966,898.880005,1004.549988,856.72998],\"type\":\"scatter\"},{\"marker\":{\"size\":3},\"mode\":\"markers+lines\",\"name\":\"y_pred_low\",\"x\":[\"2022-03-21\",\"2022-03-22\",\"2022-03-23\",\"2022-03-24\",\"2022-03-25\",\"2022-03-28\",\"2022-03-29\",\"2022-03-30\",\"2022-03-31\",\"2022-04-01\"],\"y\":[920.4260680852097,854.1891751261822,915.5104546874309,858.942257565092,897.08370779926,924.6689658888907,908.163486029171,919.7618430762801,893.8840634347107,869.5360166714071],\"type\":\"scatter\"},{\"marker\":{\"size\":3.5},\"mode\":\"markers+lines\",\"name\":\"y_test_low\",\"x\":[\"2022-03-21\",\"2022-03-22\",\"2022-03-23\",\"2022-03-24\",\"2022-03-25\",\"2022-03-28\",\"2022-03-29\",\"2022-03-30\",\"2022-03-31\",\"2022-04-01\"],\"y\":[756.570007,862.049988,1073.109985,851.469971,814.710022,902.710022,1072.589966,853.150024,940.5,801.099976],\"type\":\"scatter\"}],                        {\"hovermode\":\"closest\",\"showlegend\":false,\"title\":{\"text\":\"Visualizing  Test and Predicted Attributes  \"},\"xaxis\":{\"gridwidth\":2,\"ticklen\":5,\"title\":{\"text\":\"Dates\"},\"zeroline\":false},\"yaxis\":{\"gridwidth\":2,\"ticklen\":5,\"title\":{\"text\":\"Test and Predicted Values\"}},\"template\":{\"data\":{\"bar\":[{\"error_x\":{\"color\":\"#2a3f5f\"},\"error_y\":{\"color\":\"#2a3f5f\"},\"marker\":{\"line\":{\"color\":\"#E5ECF6\",\"width\":0.5},\"pattern\":{\"fillmode\":\"overlay\",\"size\":10,\"solidity\":0.2}},\"type\":\"bar\"}],\"barpolar\":[{\"marker\":{\"line\":{\"color\":\"#E5ECF6\",\"width\":0.5},\"pattern\":{\"fillmode\":\"overlay\",\"size\":10,\"solidity\":0.2}},\"type\":\"barpolar\"}],\"carpet\":[{\"aaxis\":{\"endlinecolor\":\"#2a3f5f\",\"gridcolor\":\"white\",\"linecolor\":\"white\",\"minorgridcolor\":\"white\",\"startlinecolor\":\"#2a3f5f\"},\"baxis\":{\"endlinecolor\":\"#2a3f5f\",\"gridcolor\":\"white\",\"linecolor\":\"white\",\"minorgridcolor\":\"white\",\"startlinecolor\":\"#2a3f5f\"},\"type\":\"carpet\"}],\"choropleth\":[{\"colorbar\":{\"outlinewidth\":0,\"ticks\":\"\"},\"type\":\"choropleth\"}],\"contour\":[{\"colorbar\":{\"outlinewidth\":0,\"ticks\":\"\"},\"colorscale\":[[0.0,\"#0d0887\"],[0.1111111111111111,\"#46039f\"],[0.2222222222222222,\"#7201a8\"],[0.3333333333333333,\"#9c179e\"],[0.4444444444444444,\"#bd3786\"],[0.5555555555555556,\"#d8576b\"],[0.6666666666666666,\"#ed7953\"],[0.7777777777777778,\"#fb9f3a\"],[0.8888888888888888,\"#fdca26\"],[1.0,\"#f0f921\"]],\"type\":\"contour\"}],\"contourcarpet\":[{\"colorbar\":{\"outlinewidth\":0,\"ticks\":\"\"},\"type\":\"contourcarpet\"}],\"heatmap\":[{\"colorbar\":{\"outlinewidth\":0,\"ticks\":\"\"},\"colorscale\":[[0.0,\"#0d0887\"],[0.1111111111111111,\"#46039f\"],[0.2222222222222222,\"#7201a8\"],[0.3333333333333333,\"#9c179e\"],[0.4444444444444444,\"#bd3786\"],[0.5555555555555556,\"#d8576b\"],[0.6666666666666666,\"#ed7953\"],[0.7777777777777778,\"#fb9f3a\"],[0.8888888888888888,\"#fdca26\"],[1.0,\"#f0f921\"]],\"type\":\"heatmap\"}],\"heatmapgl\":[{\"colorbar\":{\"outlinewidth\":0,\"ticks\":\"\"},\"colorscale\":[[0.0,\"#0d0887\"],[0.1111111111111111,\"#46039f\"],[0.2222222222222222,\"#7201a8\"],[0.3333333333333333,\"#9c179e\"],[0.4444444444444444,\"#bd3786\"],[0.5555555555555556,\"#d8576b\"],[0.6666666666666666,\"#ed7953\"],[0.7777777777777778,\"#fb9f3a\"],[0.8888888888888888,\"#fdca26\"],[1.0,\"#f0f921\"]],\"type\":\"heatmapgl\"}],\"histogram\":[{\"marker\":{\"pattern\":{\"fillmode\":\"overlay\",\"size\":10,\"solidity\":0.2}},\"type\":\"histogram\"}],\"histogram2d\":[{\"colorbar\":{\"outlinewidth\":0,\"ticks\":\"\"},\"colorscale\":[[0.0,\"#0d0887\"],[0.1111111111111111,\"#46039f\"],[0.2222222222222222,\"#7201a8\"],[0.3333333333333333,\"#9c179e\"],[0.4444444444444444,\"#bd3786\"],[0.5555555555555556,\"#d8576b\"],[0.6666666666666666,\"#ed7953\"],[0.7777777777777778,\"#fb9f3a\"],[0.8888888888888888,\"#fdca26\"],[1.0,\"#f0f921\"]],\"type\":\"histogram2d\"}],\"histogram2dcontour\":[{\"colorbar\":{\"outlinewidth\":0,\"ticks\":\"\"},\"colorscale\":[[0.0,\"#0d0887\"],[0.1111111111111111,\"#46039f\"],[0.2222222222222222,\"#7201a8\"],[0.3333333333333333,\"#9c179e\"],[0.4444444444444444,\"#bd3786\"],[0.5555555555555556,\"#d8576b\"],[0.6666666666666666,\"#ed7953\"],[0.7777777777777778,\"#fb9f3a\"],[0.8888888888888888,\"#fdca26\"],[1.0,\"#f0f921\"]],\"type\":\"histogram2dcontour\"}],\"mesh3d\":[{\"colorbar\":{\"outlinewidth\":0,\"ticks\":\"\"},\"type\":\"mesh3d\"}],\"parcoords\":[{\"line\":{\"colorbar\":{\"outlinewidth\":0,\"ticks\":\"\"}},\"type\":\"parcoords\"}],\"pie\":[{\"automargin\":true,\"type\":\"pie\"}],\"scatter\":[{\"marker\":{\"colorbar\":{\"outlinewidth\":0,\"ticks\":\"\"}},\"type\":\"scatter\"}],\"scatter3d\":[{\"line\":{\"colorbar\":{\"outlinewidth\":0,\"ticks\":\"\"}},\"marker\":{\"colorbar\":{\"outlinewidth\":0,\"ticks\":\"\"}},\"type\":\"scatter3d\"}],\"scattercarpet\":[{\"marker\":{\"colorbar\":{\"outlinewidth\":0,\"ticks\":\"\"}},\"type\":\"scattercarpet\"}],\"scattergeo\":[{\"marker\":{\"colorbar\":{\"outlinewidth\":0,\"ticks\":\"\"}},\"type\":\"scattergeo\"}],\"scattergl\":[{\"marker\":{\"colorbar\":{\"outlinewidth\":0,\"ticks\":\"\"}},\"type\":\"scattergl\"}],\"scattermapbox\":[{\"marker\":{\"colorbar\":{\"outlinewidth\":0,\"ticks\":\"\"}},\"type\":\"scattermapbox\"}],\"scatterpolar\":[{\"marker\":{\"colorbar\":{\"outlinewidth\":0,\"ticks\":\"\"}},\"type\":\"scatterpolar\"}],\"scatterpolargl\":[{\"marker\":{\"colorbar\":{\"outlinewidth\":0,\"ticks\":\"\"}},\"type\":\"scatterpolargl\"}],\"scatterternary\":[{\"marker\":{\"colorbar\":{\"outlinewidth\":0,\"ticks\":\"\"}},\"type\":\"scatterternary\"}],\"surface\":[{\"colorbar\":{\"outlinewidth\":0,\"ticks\":\"\"},\"colorscale\":[[0.0,\"#0d0887\"],[0.1111111111111111,\"#46039f\"],[0.2222222222222222,\"#7201a8\"],[0.3333333333333333,\"#9c179e\"],[0.4444444444444444,\"#bd3786\"],[0.5555555555555556,\"#d8576b\"],[0.6666666666666666,\"#ed7953\"],[0.7777777777777778,\"#fb9f3a\"],[0.8888888888888888,\"#fdca26\"],[1.0,\"#f0f921\"]],\"type\":\"surface\"}],\"table\":[{\"cells\":{\"fill\":{\"color\":\"#EBF0F8\"},\"line\":{\"color\":\"white\"}},\"header\":{\"fill\":{\"color\":\"#C8D4E3\"},\"line\":{\"color\":\"white\"}},\"type\":\"table\"}]},\"layout\":{\"annotationdefaults\":{\"arrowcolor\":\"#2a3f5f\",\"arrowhead\":0,\"arrowwidth\":1},\"autotypenumbers\":\"strict\",\"coloraxis\":{\"colorbar\":{\"outlinewidth\":0,\"ticks\":\"\"}},\"colorscale\":{\"diverging\":[[0,\"#8e0152\"],[0.1,\"#c51b7d\"],[0.2,\"#de77ae\"],[0.3,\"#f1b6da\"],[0.4,\"#fde0ef\"],[0.5,\"#f7f7f7\"],[0.6,\"#e6f5d0\"],[0.7,\"#b8e186\"],[0.8,\"#7fbc41\"],[0.9,\"#4d9221\"],[1,\"#276419\"]],\"sequential\":[[0.0,\"#0d0887\"],[0.1111111111111111,\"#46039f\"],[0.2222222222222222,\"#7201a8\"],[0.3333333333333333,\"#9c179e\"],[0.4444444444444444,\"#bd3786\"],[0.5555555555555556,\"#d8576b\"],[0.6666666666666666,\"#ed7953\"],[0.7777777777777778,\"#fb9f3a\"],[0.8888888888888888,\"#fdca26\"],[1.0,\"#f0f921\"]],\"sequentialminus\":[[0.0,\"#0d0887\"],[0.1111111111111111,\"#46039f\"],[0.2222222222222222,\"#7201a8\"],[0.3333333333333333,\"#9c179e\"],[0.4444444444444444,\"#bd3786\"],[0.5555555555555556,\"#d8576b\"],[0.6666666666666666,\"#ed7953\"],[0.7777777777777778,\"#fb9f3a\"],[0.8888888888888888,\"#fdca26\"],[1.0,\"#f0f921\"]]},\"colorway\":[\"#636efa\",\"#EF553B\",\"#00cc96\",\"#ab63fa\",\"#FFA15A\",\"#19d3f3\",\"#FF6692\",\"#B6E880\",\"#FF97FF\",\"#FECB52\"],\"font\":{\"color\":\"#2a3f5f\"},\"geo\":{\"bgcolor\":\"white\",\"lakecolor\":\"white\",\"landcolor\":\"#E5ECF6\",\"showlakes\":true,\"showland\":true,\"subunitcolor\":\"white\"},\"hoverlabel\":{\"align\":\"left\"},\"hovermode\":\"closest\",\"mapbox\":{\"style\":\"light\"},\"paper_bgcolor\":\"white\",\"plot_bgcolor\":\"#E5ECF6\",\"polar\":{\"angularaxis\":{\"gridcolor\":\"white\",\"linecolor\":\"white\",\"ticks\":\"\"},\"bgcolor\":\"#E5ECF6\",\"radialaxis\":{\"gridcolor\":\"white\",\"linecolor\":\"white\",\"ticks\":\"\"}},\"scene\":{\"xaxis\":{\"backgroundcolor\":\"#E5ECF6\",\"gridcolor\":\"white\",\"gridwidth\":2,\"linecolor\":\"white\",\"showbackground\":true,\"ticks\":\"\",\"zerolinecolor\":\"white\"},\"yaxis\":{\"backgroundcolor\":\"#E5ECF6\",\"gridcolor\":\"white\",\"gridwidth\":2,\"linecolor\":\"white\",\"showbackground\":true,\"ticks\":\"\",\"zerolinecolor\":\"white\"},\"zaxis\":{\"backgroundcolor\":\"#E5ECF6\",\"gridcolor\":\"white\",\"gridwidth\":2,\"linecolor\":\"white\",\"showbackground\":true,\"ticks\":\"\",\"zerolinecolor\":\"white\"}},\"shapedefaults\":{\"line\":{\"color\":\"#2a3f5f\"}},\"ternary\":{\"aaxis\":{\"gridcolor\":\"white\",\"linecolor\":\"white\",\"ticks\":\"\"},\"baxis\":{\"gridcolor\":\"white\",\"linecolor\":\"white\",\"ticks\":\"\"},\"bgcolor\":\"#E5ECF6\",\"caxis\":{\"gridcolor\":\"white\",\"linecolor\":\"white\",\"ticks\":\"\"}},\"title\":{\"x\":0.05},\"xaxis\":{\"automargin\":true,\"gridcolor\":\"white\",\"linecolor\":\"white\",\"ticks\":\"\",\"title\":{\"standoff\":15},\"zerolinecolor\":\"white\",\"zerolinewidth\":2},\"yaxis\":{\"automargin\":true,\"gridcolor\":\"white\",\"linecolor\":\"white\",\"ticks\":\"\",\"title\":{\"standoff\":15},\"zerolinecolor\":\"white\",\"zerolinewidth\":2}}}},                        {\"responsive\": true}                    ).then(function(){\n",
              "                            \n",
              "var gd = document.getElementById('e73e9dc1-ed94-4f91-8741-978fe3e8232c');\n",
              "var x = new MutationObserver(function (mutations, observer) {{\n",
              "        var display = window.getComputedStyle(gd).display;\n",
              "        if (!display || display === 'none') {{\n",
              "            console.log([gd, 'removed!']);\n",
              "            Plotly.purge(gd);\n",
              "            observer.disconnect();\n",
              "        }}\n",
              "}});\n",
              "\n",
              "// Listen for the removal of the full notebook cells\n",
              "var notebookContainer = gd.closest('#notebook-container');\n",
              "if (notebookContainer) {{\n",
              "    x.observe(notebookContainer, {childList: true});\n",
              "}}\n",
              "\n",
              "// Listen for the clearing of the current output cell\n",
              "var outputEl = gd.closest('.output');\n",
              "if (outputEl) {{\n",
              "    x.observe(outputEl, {childList: true});\n",
              "}}\n",
              "\n",
              "                        })                };                            </script>        </div>\n",
              "</body>\n",
              "</html>"
            ]
          },
          "metadata": {}
        }
      ]
    },
    {
      "cell_type": "markdown",
      "source": [
        "## Goal\n",
        "\n",
        "Stock prices are  unstable and cannot be determined very easily. We need  both technical and domain expert to analyse and invest accordingly. It helps to yield sufficient profit for the company.\n",
        "Stock price prediction is a process in which we use previous historical data of stock to predict future stock prices. NEWS also as an impact or effect on stock prices. So we take holidays, seasonal effects along with NEWS into account.\n",
        "Stock Market Index is a measurement of a section of the stock market.\n",
        "Three major U.S. stock indices are NASDAQ Composite, Dow Jones Industrial Average, and SP 500.\n",
        "\n",
        "### Prediction methods..\n",
        "**Fundamental analysis**:They evaluate a company's past performance as well as the credibility of its accounts.\n",
        "\n",
        "**Technical analysis**: They seek to determine the future price of a stock based solely on the trends of the past price.\n",
        "\n",
        "**Technological Methods** : Machine learning (ML) is a sub-ﬁeld of AI and at a high level, ML systems look at tons of data and come up with rules to predict outcomes for unseen data.\n",
        "\n",
        "**Use news as an special attribute and take relevant  real time Tweets data using Tweepy. According to the polarity of NEWS data merge different algorithmic techniques to  predict stock prices accurately.**\n",
        "\n"
      ],
      "metadata": {
        "id": "E6VcluVBiuHv"
      }
    },
    {
      "cell_type": "markdown",
      "source": [
        "##Video Presentation\n",
        "https://youtu.be/emCeWuRz4-A"
      ],
      "metadata": {
        "id": "bHiX1A0p2Cw3"
      }
    },
    {
      "cell_type": "markdown",
      "source": [
        "## Tools/Technologies\n",
        "\n",
        "The tools used for the purpose of this reasearch project will be:\n",
        "\n",
        "*   **Google Colab -** Google Colab, a.k.a Colaboratory or \"Colab\" for short, is a hosted Jupyter notebook service from Google Research that allows to write and execute the python language code through an internet browser. It is especially well suited for data science purpose including both data analysis and manchine learning.\n",
        "\n",
        "*   **Github -** We will use the github project for maintaning code versions, uploading datasets and extracting them on colab.\n",
        "\n",
        "*   **Python -** Python is an interpreted high-level general-purpose programming language will be used here for data wrangling"
      ],
      "metadata": {
        "id": "7Jnk0OwQk30c"
      }
    },
    {
      "cell_type": "markdown",
      "source": [
        "## Project Plan"
      ],
      "metadata": {
        "id": "dR23v51ll-XQ"
      }
    },
    {
      "cell_type": "markdown",
      "source": [
        "![image.png](data:image/png;base64,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)"
      ],
      "metadata": {
        "id": "79v4LZLRYnJm"
      }
    }
  ]
}